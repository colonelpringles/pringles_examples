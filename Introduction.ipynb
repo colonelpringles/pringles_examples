{
 "cells": [
  {
   "cell_type": "markdown",
   "metadata": {},
   "source": [
    "# Pringles\n",
    "###### A DEVS model composition environment\n",
    "-------------------------------------------"
   ]
  },
  {
   "cell_type": "markdown",
   "metadata": {},
   "source": [
    "## 1- Motivation \n",
    "\n",
    "[CD++](http://cell-devs.sce.carleton.ca/mediawiki/index.php/Main_Page) is a simulation toolkit that implements the [DEVS formalism](https://en.wikipedia.org/wiki/DEVS)."
   ]
  },
  {
   "cell_type": "markdown",
   "metadata": {},
   "source": [
    "The **common workflow for CD++** (in a perfect world, assuming no debugging is needed) is:\n",
    "- The user codes the atomic model in C++ following a certain interface\n",
    "- The user defines the couplings between models using a static configuration file written in a domain specific language (the .ma extension)\n",
    "- C++ code is compiled alongside with the CD++ library and a `cd++` executable file is generated\n",
    "- To execute the simulation of the model, `./cd++` is executed with the virtual duration to simulate and the .ma file as parameters\n",
    "- Simulation results are dumped into log and output files with a specific, ad hoc format\n",
    "- The user parses those files using some other tool (not cd++) to analyse the results of the simulation and probably generate some type of plot to display them."
   ]
  },
  {
   "cell_type": "markdown",
   "metadata": {},
   "source": [
    "This workflow involves using a lot of different tools and isn't very user friendly. Some of **the problems** with this workflow are:\n",
    "- The model coupling configuration static so you're not able to test different model configurations and parameters programmaticaly\n",
    "- To run multiple simulations model you will also have to use some type of scripting language\n",
    "- Once you ran a simulation you have to implement your own log parser for the choosed language"
   ]
  },
  {
   "cell_type": "markdown",
   "metadata": {},
   "source": [
    "## 2- What's Pringles?\n",
    "\n",
    "Pringles is a python library (`pringles-devs` in pypi/pip) intended to improve the user experience of simulating with CD++. It takes advantage of the great scientific computing tools built for Python: **Jupyter Notebooks** (with the new jupyter-lab environment), **matplotlib**, **pandas**, etc.  "
   ]
  },
  {
   "cell_type": "markdown",
   "metadata": {},
   "source": [
    "### Features:\n",
    "- Model couplings defined in Python\n",
    "- Draw model couplings diagram\n",
    "- Execution of simulation directly from Python\n",
    "- Log parsing into pandas DataFrame\n",
    "- Basic matplotlib plots of simulation results\n",
    "- OTHER FEATURES I CAN'T REMEMBER NOW, TODO"
   ]
  },
  {
   "cell_type": "markdown",
   "metadata": {},
   "source": [
    "## 3- Requirements\n",
    "\n",
    "- Python 3.7 or higher"
   ]
  },
  {
   "cell_type": "markdown",
   "metadata": {},
   "source": [
    "## 4- Install\n",
    "\n",
    "- `pip install pringles-devs` (this will also install jupyter-lab, matplotlib and pandas)"
   ]
  },
  {
   "cell_type": "markdown",
   "metadata": {},
   "source": [
    "## 5- Getting Started\n",
    "\n",
    "A step by step example can be found [here](getting-started/GettingStarted.ipynb)."
   ]
  },
  {
   "cell_type": "markdown",
   "metadata": {},
   "source": [
    "## 6- Modules inside pringles (summary)\n",
    "\n",
    "- **pringles.models** to create the devs hierarchical structure\n",
    "- **pringles.simulator** to simulate a created model\n",
    "    - class *Simulation*: object that represents what will be simulated: top model, simulation duration, input events and over simulation settings.\n",
    "    - class *SimulationResult* interfase with the results of the simulation: log and output files parsed in pandas Dataframes, shortcut function to plot a port over time, etc.\n",
    "    - class *Event*, used to create Simulation input events directly from python.\n",
    "    - class *Simulator* that represents the cd++ simulator. If the path of user models is declared when the simulator is instantiated, the Simulator parses some metadata in the source code to automaticaly instantiate the coded Atomic models.\n",
    "- **pringles.utils**\n",
    "    - *class VirtualTime*: python version of the VTime from CD++\n",
    "    - *function new_vtime_aware_axes* to create matplotlib axes that can have VirtualTime values in the x axis\n",
    "- **pringles.serializers** (internal use): json and .ma serializers for the coupled model written in python.\n",
    "- **pringles.backends** (internal use): to display coupled models inline in a jupyter cell"
   ]
  }
 ],
 "metadata": {
  "kernelspec": {
   "display_name": "Python 3",
   "language": "python",
   "name": "python3"
  },
  "language_info": {
   "codemirror_mode": {
    "name": "ipython",
    "version": 3
   },
   "file_extension": ".py",
   "mimetype": "text/x-python",
   "name": "python",
   "nbconvert_exporter": "python",
   "pygments_lexer": "ipython3",
   "version": "3.7.3"
  }
 },
 "nbformat": 4,
 "nbformat_minor": 4
}
