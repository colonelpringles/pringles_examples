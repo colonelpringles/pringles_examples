{
 "cells": [
  {
   "cell_type": "markdown",
   "metadata": {},
   "source": [
    "# Ejemplo de modelo en Pringles"
   ]
  },
  {
   "cell_type": "markdown",
   "metadata": {},
   "source": [
    "### 1. Discover del codigo de atomicos"
   ]
  },
  {
   "cell_type": "markdown",
   "metadata": {},
   "source": [
    "Empezamos con los modelos construidos en user_models/ . En este caso tenemos:"
   ]
  },
  {
   "cell_type": "code",
   "execution_count": 1,
   "metadata": {},
   "outputs": [
    {
     "name": "stdout",
     "output_type": "stream",
     "text": [
      "user_models/constants.h\n",
      "user_models/paranoia.h\n",
      "user_models/vacunatorio.h\n",
      "user_models/poblacion.h\n",
      "user_models/contagio.h\n",
      "user_models/helpers.h\n",
      "user_models/sist_prevencion.h\n",
      "user_models/foco.h\n"
     ]
    }
   ],
   "source": [
    "!find user_models/ -name \"*.h\""
   ]
  },
  {
   "cell_type": "code",
   "execution_count": 2,
   "metadata": {},
   "outputs": [],
   "source": [
    "from pringles.simulator import Simulator"
   ]
  },
  {
   "cell_type": "code",
   "execution_count": 4,
   "metadata": {},
   "outputs": [],
   "source": [
    "simulator = Simulator(\"user_models/\")\n",
    "r = simulator.get_registry()"
   ]
  },
  {
   "cell_type": "markdown",
   "metadata": {},
   "source": [
    "Todas estas clases que heredan de Atomic fueron creadas automaticamente a partir del codigo fuente"
   ]
  },
  {
   "cell_type": "code",
   "execution_count": 7,
   "metadata": {},
   "outputs": [
    {
     "ename": "AttributeError",
     "evalue": "'AtomicRegistry' object has no attribute 'discovered_atomics'",
     "output_type": "error",
     "traceback": [
      "\u001b[0;31m---------------------------------------------------------------------------\u001b[0m",
      "\u001b[0;31mAttributeError\u001b[0m                            Traceback (most recent call last)",
      "\u001b[0;32m<ipython-input-7-838f86c2b7b0>\u001b[0m in \u001b[0;36m<module>\u001b[0;34m\u001b[0m\n\u001b[0;32m----> 1\u001b[0;31m \u001b[0mr\u001b[0m\u001b[0;34m.\u001b[0m\u001b[0mdiscovered_atomics\u001b[0m\u001b[0;34m\u001b[0m\u001b[0;34m\u001b[0m\u001b[0m\n\u001b[0m",
      "\u001b[0;31mAttributeError\u001b[0m: 'AtomicRegistry' object has no attribute 'discovered_atomics'"
     ]
    }
   ],
   "source": [
    "r.discovered_atomics"
   ]
  },
  {
   "cell_type": "markdown",
   "metadata": {},
   "source": [
    "Y cada una puede ser accedida asi:"
   ]
  },
  {
   "cell_type": "code",
   "execution_count": 5,
   "metadata": {},
   "outputs": [
    {
     "data": {
      "text/plain": [
       "colonel.models.models.Paranoia"
      ]
     },
     "execution_count": 5,
     "metadata": {},
     "output_type": "execute_result"
    }
   ],
   "source": [
    "r.Paranoia"
   ]
  },
  {
   "cell_type": "markdown",
   "metadata": {},
   "source": [
    "### 2. Construir el modelo usando la interfaz en python"
   ]
  },
  {
   "cell_type": "code",
   "execution_count": 6,
   "metadata": {},
   "outputs": [],
   "source": [
    "from pringles.models import Coupled"
   ]
  },
  {
   "cell_type": "code",
   "execution_count": 7,
   "metadata": {},
   "outputs": [],
   "source": [
    "def crear_interacciones_poblacion(mean=2, std=1, threshold_NV=30, threshold_V=80):\n",
    "    # Los atomicos ya tienen los puertos definidos a partir de leer la metadata del codigo\n",
    "    un_foco = r.Foco(\"foco\", mean=mean, std=std)\n",
    "    un_contagio = r.Contagio(\"contagio\", threshold_NV=threshold_NV, threshold_V=threshold_V)\n",
    "\n",
    "    interacciones_poblacion = (Coupled(\"interacciones_poblacion\", [un_foco, un_contagio])\n",
    "        .add_inport(\"in_port\")\n",
    "        .add_outport(\"out_port\")\n",
    "        .add_coupling(\"in_port\", un_foco.get_port(\"in\"))\n",
    "        .add_coupling(un_foco.get_port(\"out\"), un_contagio.get_port(\"in\"))\n",
    "        .add_coupling(un_contagio.get_port(\"out\"), \"out_port\"))\n",
    "    return interacciones_poblacion"
   ]
  },
  {
   "cell_type": "code",
   "execution_count": 8,
   "metadata": {},
   "outputs": [],
   "source": [
    "interacciones_pob = crear_interacciones_poblacion()"
   ]
  },
  {
   "cell_type": "code",
   "execution_count": 9,
   "metadata": {},
   "outputs": [],
   "source": [
    "from pringles.display import ModelDisplay"
   ]
  },
  {
   "cell_type": "code",
   "execution_count": 10,
   "metadata": {},
   "outputs": [
    {
     "data": {
      "text/html": [
       "\n",
       "        <iframe\n",
       "            width=\"100%\"\n",
       "            height=\"600px\"\n",
       "            src=\"https://colonelpringles.github.io/DEVSDiagrammer/basic.html?options=%7B%22squared_models%22:%20false%2C%20%22show_message_type%22:%20true%2C%20%22show_port_name%22:%20true%2C%20%22compress_in_left%22:%20false%2C%20%22sort_ports_by_name%22:%20true%7D&structure=%7B%22id%22:%20%22interacciones_poblacion%22%2C%20%22type%22:%20%22coupled%22%2C%20%22models%22:%20%5B%7B%22id%22:%20%22foco%22%2C%20%22type%22:%20%22atomic%22%2C%20%22ports%22:%20%7B%22out%22:%20%5B%7B%22name%22:%20%22out%22%2C%20%22message_type%22:%20%22Any%22%2C%20%22kind%22:%20%22out%22%7D%5D%2C%20%22in%22:%20%5B%7B%22name%22:%20%22in%22%2C%20%22message_type%22:%20%22Any%22%2C%20%22kind%22:%20%22in%22%7D%5D%7D%7D%2C%20%7B%22id%22:%20%22contagio%22%2C%20%22type%22:%20%22atomic%22%2C%20%22ports%22:%20%7B%22out%22:%20%5B%7B%22name%22:%20%22out%22%2C%20%22message_type%22:%20%22Any%22%2C%20%22kind%22:%20%22out%22%7D%5D%2C%20%22in%22:%20%5B%7B%22name%22:%20%22in%22%2C%20%22message_type%22:%20%22Any%22%2C%20%22kind%22:%20%22in%22%7D%5D%7D%7D%5D%2C%20%22ports%22:%20%7B%22out%22:%20%5B%7B%22name%22:%20%22out_port%22%2C%20%22message_type%22:%20%22Any%22%2C%20%22kind%22:%20%22out%22%7D%5D%2C%20%22in%22:%20%5B%7B%22name%22:%20%22in_port%22%2C%20%22message_type%22:%20%22Any%22%2C%20%22kind%22:%20%22in%22%7D%5D%7D%2C%20%22eoc%22:%20%5B%7B%22to_port%22:%20%22out_port%22%2C%20%22from_port%22:%20%22out%22%2C%20%22from_model%22:%20%22contagio%22%7D%5D%2C%20%22eic%22:%20%5B%7B%22to_port%22:%20%22in%22%2C%20%22to_model%22:%20%22foco%22%2C%20%22from_port%22:%20%22in_port%22%7D%5D%2C%20%22ic%22:%20%5B%7B%22to_port%22:%20%22in%22%2C%20%22to_model%22:%20%22contagio%22%2C%20%22from_port%22:%20%22out%22%2C%20%22from_model%22:%20%22foco%22%7D%5D%7D\"\n",
       "            frameborder=\"0\"\n",
       "            allowfullscreen\n",
       "        ></iframe>\n",
       "        "
      ],
      "text/plain": [
       "<pringles.display.display.ModelDisplay at 0x7f99d3308358>"
      ]
     },
     "execution_count": 10,
     "metadata": {},
     "output_type": "execute_result"
    }
   ],
   "source": [
    "ModelDisplay(interacciones_pob)"
   ]
  },
  {
   "cell_type": "code",
   "execution_count": 13,
   "metadata": {},
   "outputs": [],
   "source": [
    "def crear_sist_vacunacion(p_inf_NV=0.3, p_inf_V=0.8, alpha=2, cant_vacunas_por_dia_activo=10000, prop_infectados_inicio=0.1, prop_infectados_cierre=0.025):\n",
    "    un_sist_prevencion = r.SistPrevencion(\"sist_prevencion\", prop_infectados_inicio=prop_infectados_inicio, prop_infectados_cierre=prop_infectados_cierre)\n",
    "    un_vacunatorio = r.Vacunatorio(\"vacunatorio\", cant_vacunas_por_dia_activo=cant_vacunas_por_dia_activo)\n",
    "    un_paranoia = r.Paranoia(\"paranoia\", p_inf_NV=p_inf_NV, p_inf_V=p_inf_V, alpha=alpha)\n",
    "    \n",
    "    sist_vacunacion = (Coupled(\"sist_vacunacion\", [un_sist_prevencion, un_vacunatorio, un_paranoia])\n",
    "        .add_inport('in_port')\n",
    "        .add_outport('out_port')\n",
    "        .add_coupling('in_port', un_paranoia.get_port(\"in\"))\n",
    "        .add_coupling('in_port', un_sist_prevencion.get_port(\"in\"))\n",
    "        .add_coupling(un_paranoia.get_port(\"out\"), un_vacunatorio.get_port(\"in_pacientes\"))\n",
    "        .add_coupling(un_sist_prevencion.get_port(\"out\"), un_vacunatorio.get_port(\"in_activo\"))\n",
    "        .add_coupling(un_vacunatorio.get_port(\"out\"), \"out_port\")\n",
    "    )\n",
    "    return sist_vacunacion"
   ]
  },
  {
   "cell_type": "code",
   "execution_count": 14,
   "metadata": {},
   "outputs": [
    {
     "ename": "PortNotFoundException",
     "evalue": "in_pacientes",
     "output_type": "error",
     "traceback": [
      "\u001b[0;31m---------------------------------------------------------------------------\u001b[0m",
      "\u001b[0;31mPortNotFoundException\u001b[0m                     Traceback (most recent call last)",
      "\u001b[0;32m<ipython-input-14-5d414ae054a1>\u001b[0m in \u001b[0;36m<module>\u001b[0;34m\u001b[0m\n\u001b[0;32m----> 1\u001b[0;31m \u001b[0msist_vac\u001b[0m \u001b[0;34m=\u001b[0m \u001b[0mcrear_sist_vacunacion\u001b[0m\u001b[0;34m(\u001b[0m\u001b[0;34m)\u001b[0m\u001b[0;34m\u001b[0m\u001b[0;34m\u001b[0m\u001b[0m\n\u001b[0m",
      "\u001b[0;32m<ipython-input-13-31f37374d2d4>\u001b[0m in \u001b[0;36mcrear_sist_vacunacion\u001b[0;34m(p_inf_NV, p_inf_V, alpha, cant_vacunas_por_dia_activo, prop_infectados_inicio, prop_infectados_cierre)\u001b[0m\n\u001b[1;32m      9\u001b[0m         \u001b[0;34m.\u001b[0m\u001b[0madd_coupling\u001b[0m\u001b[0;34m(\u001b[0m\u001b[0;34m'in_port'\u001b[0m\u001b[0;34m,\u001b[0m \u001b[0mun_paranoia\u001b[0m\u001b[0;34m.\u001b[0m\u001b[0mget_port\u001b[0m\u001b[0;34m(\u001b[0m\u001b[0;34m\"in\"\u001b[0m\u001b[0;34m)\u001b[0m\u001b[0;34m)\u001b[0m\u001b[0;34m\u001b[0m\u001b[0;34m\u001b[0m\u001b[0m\n\u001b[1;32m     10\u001b[0m         \u001b[0;34m.\u001b[0m\u001b[0madd_coupling\u001b[0m\u001b[0;34m(\u001b[0m\u001b[0;34m'in_port'\u001b[0m\u001b[0;34m,\u001b[0m \u001b[0mun_sist_prevencion\u001b[0m\u001b[0;34m.\u001b[0m\u001b[0mget_port\u001b[0m\u001b[0;34m(\u001b[0m\u001b[0;34m\"in\"\u001b[0m\u001b[0;34m)\u001b[0m\u001b[0;34m)\u001b[0m\u001b[0;34m\u001b[0m\u001b[0;34m\u001b[0m\u001b[0m\n\u001b[0;32m---> 11\u001b[0;31m         \u001b[0;34m.\u001b[0m\u001b[0madd_coupling\u001b[0m\u001b[0;34m(\u001b[0m\u001b[0mun_paranoia\u001b[0m\u001b[0;34m.\u001b[0m\u001b[0mget_port\u001b[0m\u001b[0;34m(\u001b[0m\u001b[0;34m\"out\"\u001b[0m\u001b[0;34m)\u001b[0m\u001b[0;34m,\u001b[0m \u001b[0mun_vacunatorio\u001b[0m\u001b[0;34m.\u001b[0m\u001b[0mget_port\u001b[0m\u001b[0;34m(\u001b[0m\u001b[0;34m\"in_pacientes\"\u001b[0m\u001b[0;34m)\u001b[0m\u001b[0;34m)\u001b[0m\u001b[0;34m\u001b[0m\u001b[0;34m\u001b[0m\u001b[0m\n\u001b[0m\u001b[1;32m     12\u001b[0m         \u001b[0;34m.\u001b[0m\u001b[0madd_coupling\u001b[0m\u001b[0;34m(\u001b[0m\u001b[0mun_sist_prevencion\u001b[0m\u001b[0;34m.\u001b[0m\u001b[0mget_port\u001b[0m\u001b[0;34m(\u001b[0m\u001b[0;34m\"out\"\u001b[0m\u001b[0;34m)\u001b[0m\u001b[0;34m,\u001b[0m \u001b[0mun_vacunatorio\u001b[0m\u001b[0;34m.\u001b[0m\u001b[0mget_port\u001b[0m\u001b[0;34m(\u001b[0m\u001b[0;34m\"in_activo\"\u001b[0m\u001b[0;34m)\u001b[0m\u001b[0;34m)\u001b[0m\u001b[0;34m\u001b[0m\u001b[0;34m\u001b[0m\u001b[0m\n\u001b[1;32m     13\u001b[0m         \u001b[0;34m.\u001b[0m\u001b[0madd_coupling\u001b[0m\u001b[0;34m(\u001b[0m\u001b[0mun_vacunatorio\u001b[0m\u001b[0;34m.\u001b[0m\u001b[0mget_port\u001b[0m\u001b[0;34m(\u001b[0m\u001b[0;34m\"out\"\u001b[0m\u001b[0;34m)\u001b[0m\u001b[0;34m,\u001b[0m \u001b[0;34m\"out_port\"\u001b[0m\u001b[0;34m)\u001b[0m\u001b[0;34m\u001b[0m\u001b[0;34m\u001b[0m\u001b[0m\n",
      "\u001b[0;32m~/.pyenv/versions/3.7.3/lib/python3.7/site-packages/pringles/models/models.py\u001b[0m in \u001b[0;36mget_port\u001b[0;34m(self, name)\u001b[0m\n\u001b[1;32m     66\u001b[0m             \u001b[0;32mif\u001b[0m \u001b[0mport\u001b[0m\u001b[0;34m.\u001b[0m\u001b[0mname\u001b[0m \u001b[0;34m==\u001b[0m \u001b[0mname\u001b[0m\u001b[0;34m:\u001b[0m\u001b[0;34m\u001b[0m\u001b[0;34m\u001b[0m\u001b[0m\n\u001b[1;32m     67\u001b[0m                 \u001b[0;32mreturn\u001b[0m \u001b[0mport\u001b[0m\u001b[0;34m\u001b[0m\u001b[0;34m\u001b[0m\u001b[0m\n\u001b[0;32m---> 68\u001b[0;31m         \u001b[0;32mraise\u001b[0m \u001b[0mPortNotFoundException\u001b[0m\u001b[0;34m(\u001b[0m\u001b[0mname\u001b[0m\u001b[0;34m)\u001b[0m\u001b[0;34m\u001b[0m\u001b[0;34m\u001b[0m\u001b[0m\n\u001b[0m\u001b[1;32m     69\u001b[0m \u001b[0;34m\u001b[0m\u001b[0m\n\u001b[1;32m     70\u001b[0m \u001b[0;34m\u001b[0m\u001b[0m\n",
      "\u001b[0;31mPortNotFoundException\u001b[0m: in_pacientes"
     ]
    }
   ],
   "source": [
    "sist_vac = crear_sist_vacunacion()"
   ]
  },
  {
   "cell_type": "code",
   "execution_count": 13,
   "metadata": {},
   "outputs": [
    {
     "data": {
      "text/html": [
       "\n",
       "        <iframe\n",
       "            width=\"100%\"\n",
       "            height=\"600px\"\n",
       "            src=\"https://colonelpringles.github.io/DEVSDiagrammer/basic.html?options=%7B%22squared_models%22:%20false%2C%20%22show_message_type%22:%20true%2C%20%22show_port_name%22:%20true%2C%20%22compress_in_left%22:%20false%2C%20%22sort_ports_by_name%22:%20true%7D&structure=%7B%22id%22:%20%22sist_vacunacion%22%2C%20%22type%22:%20%22coupled%22%2C%20%22models%22:%20%5B%7B%22id%22:%20%22sist_prevencion%22%2C%20%22type%22:%20%22atomic%22%2C%20%22ports%22:%20%7B%22out%22:%20%5B%7B%22name%22:%20%22out%22%2C%20%22message_type%22:%20%22Any%22%2C%20%22kind%22:%20%22out%22%7D%5D%2C%20%22in%22:%20%5B%7B%22name%22:%20%22in%22%2C%20%22message_type%22:%20%22Any%22%2C%20%22kind%22:%20%22in%22%7D%5D%7D%7D%2C%20%7B%22id%22:%20%22vacunatorio%22%2C%20%22type%22:%20%22atomic%22%2C%20%22ports%22:%20%7B%22out%22:%20%5B%7B%22name%22:%20%22out%22%2C%20%22message_type%22:%20%22Any%22%2C%20%22kind%22:%20%22out%22%7D%5D%2C%20%22in%22:%20%5B%7B%22name%22:%20%22in_pacientes%22%2C%20%22message_type%22:%20%22Any%22%2C%20%22kind%22:%20%22in%22%7D%2C%20%7B%22name%22:%20%22in_activo%22%2C%20%22message_type%22:%20%22Any%22%2C%20%22kind%22:%20%22in%22%7D%5D%7D%7D%2C%20%7B%22id%22:%20%22paranoia%22%2C%20%22type%22:%20%22atomic%22%2C%20%22ports%22:%20%7B%22out%22:%20%5B%7B%22name%22:%20%22out%22%2C%20%22message_type%22:%20%22Any%22%2C%20%22kind%22:%20%22out%22%7D%5D%2C%20%22in%22:%20%5B%7B%22name%22:%20%22in%22%2C%20%22message_type%22:%20%22Any%22%2C%20%22kind%22:%20%22in%22%7D%5D%7D%7D%5D%2C%20%22ports%22:%20%7B%22out%22:%20%5B%7B%22name%22:%20%22out_port%22%2C%20%22message_type%22:%20%22Any%22%2C%20%22kind%22:%20%22out%22%7D%5D%2C%20%22in%22:%20%5B%7B%22name%22:%20%22in_port%22%2C%20%22message_type%22:%20%22Any%22%2C%20%22kind%22:%20%22in%22%7D%5D%7D%2C%20%22eoc%22:%20%5B%7B%22to_port%22:%20%22out_port%22%2C%20%22from_port%22:%20%22out%22%2C%20%22from_model%22:%20%22vacunatorio%22%7D%5D%2C%20%22eic%22:%20%5B%7B%22to_port%22:%20%22in%22%2C%20%22to_model%22:%20%22paranoia%22%2C%20%22from_port%22:%20%22in_port%22%7D%2C%20%7B%22to_port%22:%20%22in%22%2C%20%22to_model%22:%20%22sist_prevencion%22%2C%20%22from_port%22:%20%22in_port%22%7D%5D%2C%20%22ic%22:%20%5B%7B%22to_port%22:%20%22in_pacientes%22%2C%20%22to_model%22:%20%22vacunatorio%22%2C%20%22from_port%22:%20%22out%22%2C%20%22from_model%22:%20%22paranoia%22%7D%2C%20%7B%22to_port%22:%20%22in_activo%22%2C%20%22to_model%22:%20%22vacunatorio%22%2C%20%22from_port%22:%20%22out%22%2C%20%22from_model%22:%20%22sist_prevencion%22%7D%5D%7D\"\n",
       "            frameborder=\"0\"\n",
       "            allowfullscreen\n",
       "        ></iframe>\n",
       "        "
      ],
      "text/plain": [
       "<colonel.display.display.ModelDisplay at 0x7f1aeb65deb8>"
      ]
     },
     "execution_count": 13,
     "metadata": {},
     "output_type": "execute_result"
    }
   ],
   "source": [
    "ModelDisplay(sist_vac)"
   ]
  },
  {
   "cell_type": "code",
   "execution_count": 14,
   "metadata": {},
   "outputs": [],
   "source": [
    "def crear_top(susceptibles_nv=547250, susceptibles_v=447750,\n",
    "              infectados_nv=2750, infectados_v=2250,\n",
    "              recuperados_nv=0, recuperados_v=0,\n",
    "              vacunados_nv=0, vacunados_v=0,\n",
    "              proba_sana_nv=0.2, proba_sana_v=0.1):\n",
    "    pobl = r.Poblacion(\"poblacion\",\n",
    "            susceptibles_nv=susceptibles_nv,\n",
    "            susceptibles_v=susceptibles_v,\n",
    "            infectados_nv=infectados_nv,\n",
    "            infectados_v=infectados_v,\n",
    "            recuperados_nv=recuperados_nv,\n",
    "            recuperados_v=recuperados_v,\n",
    "            vacunados_nv=vacunados_nv,\n",
    "            vacunados_v=vacunados_v,\n",
    "            proba_sana_nv=proba_sana_nv,\n",
    "            proba_sana_v=proba_sana_v\n",
    "    )\n",
    "    sist_vac = crear_sist_vacunacion()\n",
    "    interacciones_poblacion = crear_interacciones_poblacion()\n",
    "    \n",
    "    top = (Coupled(\"top\", [pobl, sist_vac, interacciones_poblacion])\n",
    "        .add_outport('out_port')\n",
    "        .add_coupling(pobl.get_port('out'), sist_vac.get_port('in_port'))\n",
    "        .add_coupling(pobl.get_port('out'), interacciones_poblacion.get_port('in_port'))\n",
    "        .add_coupling(pobl.get_port('out'), 'out_port')\n",
    "        .add_coupling(sist_vac.get_port('out_port'), pobl.get_port(\"in_deltavac\"))\n",
    "        .add_coupling(interacciones_poblacion.get_port('out_port'), pobl.get_port(\"in_deltainf\"))\n",
    "    )\n",
    "    return top"
   ]
  },
  {
   "cell_type": "code",
   "execution_count": 15,
   "metadata": {},
   "outputs": [],
   "source": [
    "top = crear_top()"
   ]
  },
  {
   "cell_type": "code",
   "execution_count": 16,
   "metadata": {},
   "outputs": [
    {
     "data": {
      "text/html": [
       "\n",
       "        <iframe\n",
       "            width=\"100%\"\n",
       "            height=\"600px\"\n",
       "            src=\"https://colonelpringles.github.io/DEVSDiagrammer/basic.html?options=%7B%22squared_models%22:%20false%2C%20%22show_message_type%22:%20true%2C%20%22show_port_name%22:%20true%2C%20%22compress_in_left%22:%20false%2C%20%22sort_ports_by_name%22:%20true%7D&structure=%7B%22id%22:%20%22top%22%2C%20%22type%22:%20%22coupled%22%2C%20%22models%22:%20%5B%7B%22id%22:%20%22poblacion%22%2C%20%22type%22:%20%22atomic%22%2C%20%22ports%22:%20%7B%22out%22:%20%5B%7B%22name%22:%20%22out%22%2C%20%22message_type%22:%20%22Any%22%2C%20%22kind%22:%20%22out%22%7D%5D%2C%20%22in%22:%20%5B%7B%22name%22:%20%22in_deltavac%22%2C%20%22message_type%22:%20%22Any%22%2C%20%22kind%22:%20%22in%22%7D%2C%20%7B%22name%22:%20%22in_deltainf%22%2C%20%22message_type%22:%20%22Any%22%2C%20%22kind%22:%20%22in%22%7D%5D%7D%7D%2C%20%7B%22id%22:%20%22sist_vacunacion%22%2C%20%22type%22:%20%22coupled%22%2C%20%22models%22:%20%5B%7B%22id%22:%20%22sist_prevencion%22%2C%20%22type%22:%20%22atomic%22%2C%20%22ports%22:%20%7B%22out%22:%20%5B%7B%22name%22:%20%22out%22%2C%20%22message_type%22:%20%22Any%22%2C%20%22kind%22:%20%22out%22%7D%5D%2C%20%22in%22:%20%5B%7B%22name%22:%20%22in%22%2C%20%22message_type%22:%20%22Any%22%2C%20%22kind%22:%20%22in%22%7D%5D%7D%7D%2C%20%7B%22id%22:%20%22vacunatorio%22%2C%20%22type%22:%20%22atomic%22%2C%20%22ports%22:%20%7B%22out%22:%20%5B%7B%22name%22:%20%22out%22%2C%20%22message_type%22:%20%22Any%22%2C%20%22kind%22:%20%22out%22%7D%5D%2C%20%22in%22:%20%5B%7B%22name%22:%20%22in_pacientes%22%2C%20%22message_type%22:%20%22Any%22%2C%20%22kind%22:%20%22in%22%7D%2C%20%7B%22name%22:%20%22in_activo%22%2C%20%22message_type%22:%20%22Any%22%2C%20%22kind%22:%20%22in%22%7D%5D%7D%7D%2C%20%7B%22id%22:%20%22paranoia%22%2C%20%22type%22:%20%22atomic%22%2C%20%22ports%22:%20%7B%22out%22:%20%5B%7B%22name%22:%20%22out%22%2C%20%22message_type%22:%20%22Any%22%2C%20%22kind%22:%20%22out%22%7D%5D%2C%20%22in%22:%20%5B%7B%22name%22:%20%22in%22%2C%20%22message_type%22:%20%22Any%22%2C%20%22kind%22:%20%22in%22%7D%5D%7D%7D%5D%2C%20%22ports%22:%20%7B%22out%22:%20%5B%7B%22name%22:%20%22out_port%22%2C%20%22message_type%22:%20%22Any%22%2C%20%22kind%22:%20%22out%22%7D%5D%2C%20%22in%22:%20%5B%7B%22name%22:%20%22in_port%22%2C%20%22message_type%22:%20%22Any%22%2C%20%22kind%22:%20%22in%22%7D%5D%7D%2C%20%22eoc%22:%20%5B%7B%22to_port%22:%20%22out_port%22%2C%20%22from_port%22:%20%22out%22%2C%20%22from_model%22:%20%22vacunatorio%22%7D%5D%2C%20%22eic%22:%20%5B%7B%22to_port%22:%20%22in%22%2C%20%22to_model%22:%20%22paranoia%22%2C%20%22from_port%22:%20%22in_port%22%7D%2C%20%7B%22to_port%22:%20%22in%22%2C%20%22to_model%22:%20%22sist_prevencion%22%2C%20%22from_port%22:%20%22in_port%22%7D%5D%2C%20%22ic%22:%20%5B%7B%22to_port%22:%20%22in_pacientes%22%2C%20%22to_model%22:%20%22vacunatorio%22%2C%20%22from_port%22:%20%22out%22%2C%20%22from_model%22:%20%22paranoia%22%7D%2C%20%7B%22to_port%22:%20%22in_activo%22%2C%20%22to_model%22:%20%22vacunatorio%22%2C%20%22from_port%22:%20%22out%22%2C%20%22from_model%22:%20%22sist_prevencion%22%7D%5D%7D%2C%20%7B%22id%22:%20%22interacciones_poblacion%22%2C%20%22type%22:%20%22coupled%22%2C%20%22models%22:%20%5B%7B%22id%22:%20%22foco%22%2C%20%22type%22:%20%22atomic%22%2C%20%22ports%22:%20%7B%22out%22:%20%5B%7B%22name%22:%20%22out%22%2C%20%22message_type%22:%20%22Any%22%2C%20%22kind%22:%20%22out%22%7D%5D%2C%20%22in%22:%20%5B%7B%22name%22:%20%22in%22%2C%20%22message_type%22:%20%22Any%22%2C%20%22kind%22:%20%22in%22%7D%5D%7D%7D%2C%20%7B%22id%22:%20%22contagio%22%2C%20%22type%22:%20%22atomic%22%2C%20%22ports%22:%20%7B%22out%22:%20%5B%7B%22name%22:%20%22out%22%2C%20%22message_type%22:%20%22Any%22%2C%20%22kind%22:%20%22out%22%7D%5D%2C%20%22in%22:%20%5B%7B%22name%22:%20%22in%22%2C%20%22message_type%22:%20%22Any%22%2C%20%22kind%22:%20%22in%22%7D%5D%7D%7D%5D%2C%20%22ports%22:%20%7B%22out%22:%20%5B%7B%22name%22:%20%22out_port%22%2C%20%22message_type%22:%20%22Any%22%2C%20%22kind%22:%20%22out%22%7D%5D%2C%20%22in%22:%20%5B%7B%22name%22:%20%22in_port%22%2C%20%22message_type%22:%20%22Any%22%2C%20%22kind%22:%20%22in%22%7D%5D%7D%2C%20%22eoc%22:%20%5B%7B%22to_port%22:%20%22out_port%22%2C%20%22from_port%22:%20%22out%22%2C%20%22from_model%22:%20%22contagio%22%7D%5D%2C%20%22eic%22:%20%5B%7B%22to_port%22:%20%22in%22%2C%20%22to_model%22:%20%22foco%22%2C%20%22from_port%22:%20%22in_port%22%7D%5D%2C%20%22ic%22:%20%5B%7B%22to_port%22:%20%22in%22%2C%20%22to_model%22:%20%22contagio%22%2C%20%22from_port%22:%20%22out%22%2C%20%22from_model%22:%20%22foco%22%7D%5D%7D%5D%2C%20%22ports%22:%20%7B%22out%22:%20%5B%7B%22name%22:%20%22out_port%22%2C%20%22message_type%22:%20%22Any%22%2C%20%22kind%22:%20%22out%22%7D%5D%2C%20%22in%22:%20%5B%5D%7D%2C%20%22eoc%22:%20%5B%7B%22to_port%22:%20%22out_port%22%2C%20%22from_port%22:%20%22out%22%2C%20%22from_model%22:%20%22poblacion%22%7D%5D%2C%20%22eic%22:%20%5B%5D%2C%20%22ic%22:%20%5B%7B%22to_port%22:%20%22in_port%22%2C%20%22to_model%22:%20%22sist_vacunacion%22%2C%20%22from_port%22:%20%22out%22%2C%20%22from_model%22:%20%22poblacion%22%7D%2C%20%7B%22to_port%22:%20%22in_port%22%2C%20%22to_model%22:%20%22interacciones_poblacion%22%2C%20%22from_port%22:%20%22out%22%2C%20%22from_model%22:%20%22poblacion%22%7D%2C%20%7B%22to_port%22:%20%22in_deltavac%22%2C%20%22to_model%22:%20%22poblacion%22%2C%20%22from_port%22:%20%22out_port%22%2C%20%22from_model%22:%20%22sist_vacunacion%22%7D%2C%20%7B%22to_port%22:%20%22in_deltainf%22%2C%20%22to_model%22:%20%22poblacion%22%2C%20%22from_port%22:%20%22out_port%22%2C%20%22from_model%22:%20%22interacciones_poblacion%22%7D%5D%7D\"\n",
       "            frameborder=\"0\"\n",
       "            allowfullscreen\n",
       "        ></iframe>\n",
       "        "
      ],
      "text/plain": [
       "<colonel.display.display.ModelDisplay at 0x7f1aeb91c438>"
      ]
     },
     "execution_count": 16,
     "metadata": {},
     "output_type": "execute_result"
    }
   ],
   "source": [
    "ModelDisplay(top)"
   ]
  },
  {
   "cell_type": "markdown",
   "metadata": {},
   "source": [
    "### 3. Correr simulation"
   ]
  },
  {
   "cell_type": "code",
   "execution_count": 17,
   "metadata": {},
   "outputs": [
    {
     "name": "stdout",
     "output_type": "stream",
     "text": [
      "<class 'colonel.simulator.simulator.Simulator'>\n",
      "<class 'colonel.models.models.Coupled'>\n"
     ]
    }
   ],
   "source": [
    "print(type(simulator))  # Instanciado arriba\n",
    "print(type(top)) # instanciado arriba"
   ]
  },
  {
   "cell_type": "code",
   "execution_count": 18,
   "metadata": {},
   "outputs": [],
   "source": [
    "from colonel.utils import VirtualTime"
   ]
  },
  {
   "cell_type": "code",
   "execution_count": 19,
   "metadata": {},
   "outputs": [],
   "source": [
    "result = simulator.run_simulation(top_model=top,\n",
    "                                  duration=VirtualTime.parse('00:00:40:000:0'))"
   ]
  },
  {
   "cell_type": "markdown",
   "metadata": {},
   "source": [
    "### 4. Analizar resultados"
   ]
  },
  {
   "cell_type": "code",
   "execution_count": 20,
   "metadata": {},
   "outputs": [
    {
     "data": {
      "text/plain": [
       "True"
      ]
     },
     "execution_count": 20,
     "metadata": {},
     "output_type": "execute_result"
    }
   ],
   "source": [
    "result.successful()"
   ]
  },
  {
   "cell_type": "code",
   "execution_count": 21,
   "metadata": {},
   "outputs": [
    {
     "data": {
      "text/html": [
       "<div>\n",
       "<style scoped>\n",
       "    .dataframe tbody tr th:only-of-type {\n",
       "        vertical-align: middle;\n",
       "    }\n",
       "\n",
       "    .dataframe tbody tr th {\n",
       "        vertical-align: top;\n",
       "    }\n",
       "\n",
       "    .dataframe thead th {\n",
       "        text-align: right;\n",
       "    }\n",
       "</style>\n",
       "<table border=\"1\" class=\"dataframe\">\n",
       "  <thead>\n",
       "    <tr style=\"text-align: right;\">\n",
       "      <th></th>\n",
       "      <th>0</th>\n",
       "      <th>1</th>\n",
       "      <th>message_type</th>\n",
       "      <th>time</th>\n",
       "      <th>model_origin</th>\n",
       "      <th>port</th>\n",
       "      <th>value</th>\n",
       "      <th>model_dest</th>\n",
       "    </tr>\n",
       "  </thead>\n",
       "  <tbody>\n",
       "    <tr>\n",
       "      <th>0</th>\n",
       "      <td>0</td>\n",
       "      <td>L</td>\n",
       "      <td>Y</td>\n",
       "      <td>00:00:00:000</td>\n",
       "      <td>top(09)</td>\n",
       "      <td>out_port</td>\n",
       "      <td>(547250.0, 2750.0, 0.0, 0.0, 447750.0, 2250.0,...</td>\n",
       "      <td>ParallelRoot(00)</td>\n",
       "    </tr>\n",
       "    <tr>\n",
       "      <th>1</th>\n",
       "      <td>0</td>\n",
       "      <td>L</td>\n",
       "      <td>Y</td>\n",
       "      <td>00:00:01:000</td>\n",
       "      <td>top(09)</td>\n",
       "      <td>out_port</td>\n",
       "      <td>(546383.0, 3067.0, 550.0, 0.0, 446968.0, 2482....</td>\n",
       "      <td>ParallelRoot(00)</td>\n",
       "    </tr>\n",
       "    <tr>\n",
       "      <th>2</th>\n",
       "      <td>0</td>\n",
       "      <td>L</td>\n",
       "      <td>Y</td>\n",
       "      <td>00:00:02:000</td>\n",
       "      <td>top(09)</td>\n",
       "      <td>out_port</td>\n",
       "      <td>(545432.0, 3405.0, 1163.0, 0.0, 445499.0, 3338...</td>\n",
       "      <td>ParallelRoot(00)</td>\n",
       "    </tr>\n",
       "    <tr>\n",
       "      <th>3</th>\n",
       "      <td>0</td>\n",
       "      <td>L</td>\n",
       "      <td>Y</td>\n",
       "      <td>00:00:03:000</td>\n",
       "      <td>top(09)</td>\n",
       "      <td>out_port</td>\n",
       "      <td>(544373.0, 3783.0, 1844.0, 0.0, 443118.0, 5038...</td>\n",
       "      <td>ParallelRoot(00)</td>\n",
       "    </tr>\n",
       "    <tr>\n",
       "      <th>4</th>\n",
       "      <td>0</td>\n",
       "      <td>L</td>\n",
       "      <td>Y</td>\n",
       "      <td>00:00:04:000</td>\n",
       "      <td>top(09)</td>\n",
       "      <td>out_port</td>\n",
       "      <td>(542934.0, 4466.0, 2600.0, 0.0, 439502.0, 7898...</td>\n",
       "      <td>ParallelRoot(00)</td>\n",
       "    </tr>\n",
       "    <tr>\n",
       "      <th>5</th>\n",
       "      <td>0</td>\n",
       "      <td>L</td>\n",
       "      <td>Y</td>\n",
       "      <td>00:00:05:000</td>\n",
       "      <td>top(09)</td>\n",
       "      <td>out_port</td>\n",
       "      <td>(542934.0, 3573.0, 3493.0, 0.0, 437652.0, 8855...</td>\n",
       "      <td>ParallelRoot(00)</td>\n",
       "    </tr>\n",
       "    <tr>\n",
       "      <th>6</th>\n",
       "      <td>0</td>\n",
       "      <td>L</td>\n",
       "      <td>Y</td>\n",
       "      <td>00:00:06:000</td>\n",
       "      <td>top(09)</td>\n",
       "      <td>out_port</td>\n",
       "      <td>(541102.0, 4691.0, 4207.0, 0.0, 432390.0, 1340...</td>\n",
       "      <td>ParallelRoot(00)</td>\n",
       "    </tr>\n",
       "    <tr>\n",
       "      <th>7</th>\n",
       "      <td>0</td>\n",
       "      <td>L</td>\n",
       "      <td>Y</td>\n",
       "      <td>00:00:07:000</td>\n",
       "      <td>top(09)</td>\n",
       "      <td>out_port</td>\n",
       "      <td>(538189.0, 6666.0, 5145.0, 0.0, 424592.0, 2026...</td>\n",
       "      <td>ParallelRoot(00)</td>\n",
       "    </tr>\n",
       "    <tr>\n",
       "      <th>8</th>\n",
       "      <td>0</td>\n",
       "      <td>L</td>\n",
       "      <td>Y</td>\n",
       "      <td>00:00:08:000</td>\n",
       "      <td>top(09)</td>\n",
       "      <td>out_port</td>\n",
       "      <td>(533924.0, 9598.0, 6478.0, 0.0, 413418.0, 3010...</td>\n",
       "      <td>ParallelRoot(00)</td>\n",
       "    </tr>\n",
       "    <tr>\n",
       "      <th>9</th>\n",
       "      <td>0</td>\n",
       "      <td>L</td>\n",
       "      <td>Y</td>\n",
       "      <td>00:00:09:000</td>\n",
       "      <td>top(09)</td>\n",
       "      <td>out_port</td>\n",
       "      <td>(527623.0, 13980.0, 8397.0, 0.0, 397591.0, 440...</td>\n",
       "      <td>ParallelRoot(00)</td>\n",
       "    </tr>\n",
       "    <tr>\n",
       "      <th>10</th>\n",
       "      <td>0</td>\n",
       "      <td>L</td>\n",
       "      <td>Y</td>\n",
       "      <td>00:00:10:000</td>\n",
       "      <td>top(09)</td>\n",
       "      <td>out_port</td>\n",
       "      <td>(518479.0, 20328.0, 11193.0, 0.0, 375627.0, 63...</td>\n",
       "      <td>ParallelRoot(00)</td>\n",
       "    </tr>\n",
       "    <tr>\n",
       "      <th>11</th>\n",
       "      <td>0</td>\n",
       "      <td>L</td>\n",
       "      <td>Y</td>\n",
       "      <td>00:00:11:000</td>\n",
       "      <td>top(09)</td>\n",
       "      <td>out_port</td>\n",
       "      <td>(505558.0, 29184.0, 15258.0, 0.0, 345670.0, 89...</td>\n",
       "      <td>ParallelRoot(00)</td>\n",
       "    </tr>\n",
       "    <tr>\n",
       "      <th>12</th>\n",
       "      <td>0</td>\n",
       "      <td>L</td>\n",
       "      <td>Y</td>\n",
       "      <td>00:00:12:000</td>\n",
       "      <td>top(09)</td>\n",
       "      <td>out_port</td>\n",
       "      <td>(487946.0, 40960.0, 21094.0, 0.0, 296138.0, 12...</td>\n",
       "      <td>ParallelRoot(00)</td>\n",
       "    </tr>\n",
       "    <tr>\n",
       "      <th>13</th>\n",
       "      <td>0</td>\n",
       "      <td>L</td>\n",
       "      <td>Y</td>\n",
       "      <td>00:00:13:000</td>\n",
       "      <td>top(09)</td>\n",
       "      <td>out_port</td>\n",
       "      <td>(464341.0, 56373.0, 29286.0, 0.0, 237446.0, 16...</td>\n",
       "      <td>ParallelRoot(00)</td>\n",
       "    </tr>\n",
       "    <tr>\n",
       "      <th>14</th>\n",
       "      <td>0</td>\n",
       "      <td>L</td>\n",
       "      <td>Y</td>\n",
       "      <td>00:00:14:000</td>\n",
       "      <td>top(09)</td>\n",
       "      <td>out_port</td>\n",
       "      <td>(434253.0, 75187.0, 40560.0, 0.0, 171890.0, 20...</td>\n",
       "      <td>ParallelRoot(00)</td>\n",
       "    </tr>\n",
       "    <tr>\n",
       "      <th>15</th>\n",
       "      <td>0</td>\n",
       "      <td>L</td>\n",
       "      <td>Y</td>\n",
       "      <td>00:00:15:000</td>\n",
       "      <td>top(09)</td>\n",
       "      <td>out_port</td>\n",
       "      <td>(398376.0, 96027.0, 55597.0, 0.0, 103764.0, 25...</td>\n",
       "      <td>ParallelRoot(00)</td>\n",
       "    </tr>\n",
       "    <tr>\n",
       "      <th>16</th>\n",
       "      <td>0</td>\n",
       "      <td>L</td>\n",
       "      <td>Y</td>\n",
       "      <td>00:00:16:000</td>\n",
       "      <td>top(09)</td>\n",
       "      <td>out_port</td>\n",
       "      <td>(358643.0, 116555.0, 74802.0, 0.0, 39104.0, 28...</td>\n",
       "      <td>ParallelRoot(00)</td>\n",
       "    </tr>\n",
       "    <tr>\n",
       "      <th>17</th>\n",
       "      <td>0</td>\n",
       "      <td>L</td>\n",
       "      <td>Y</td>\n",
       "      <td>00:00:17:000</td>\n",
       "      <td>top(09)</td>\n",
       "      <td>out_port</td>\n",
       "      <td>(314527.0, 135180.0, 98113.0, 2180.0, 0.0, 301...</td>\n",
       "      <td>ParallelRoot(00)</td>\n",
       "    </tr>\n",
       "    <tr>\n",
       "      <th>18</th>\n",
       "      <td>0</td>\n",
       "      <td>L</td>\n",
       "      <td>Y</td>\n",
       "      <td>00:00:18:000</td>\n",
       "      <td>top(09)</td>\n",
       "      <td>out_port</td>\n",
       "      <td>(265136.0, 147535.0, 125149.0, 12180.0, 0.0, 2...</td>\n",
       "      <td>ParallelRoot(00)</td>\n",
       "    </tr>\n",
       "    <tr>\n",
       "      <th>19</th>\n",
       "      <td>0</td>\n",
       "      <td>L</td>\n",
       "      <td>Y</td>\n",
       "      <td>00:00:19:000</td>\n",
       "      <td>top(09)</td>\n",
       "      <td>out_port</td>\n",
       "      <td>(223155.0, 150009.0, 154656.0, 22180.0, 0.0, 2...</td>\n",
       "      <td>ParallelRoot(00)</td>\n",
       "    </tr>\n",
       "    <tr>\n",
       "      <th>20</th>\n",
       "      <td>0</td>\n",
       "      <td>L</td>\n",
       "      <td>Y</td>\n",
       "      <td>00:00:20:000</td>\n",
       "      <td>top(09)</td>\n",
       "      <td>out_port</td>\n",
       "      <td>(187545.0, 145618.0, 184657.0, 32180.0, 0.0, 2...</td>\n",
       "      <td>ParallelRoot(00)</td>\n",
       "    </tr>\n",
       "    <tr>\n",
       "      <th>21</th>\n",
       "      <td>0</td>\n",
       "      <td>L</td>\n",
       "      <td>Y</td>\n",
       "      <td>00:00:21:000</td>\n",
       "      <td>top(09)</td>\n",
       "      <td>out_port</td>\n",
       "      <td>(157887.0, 136153.0, 213780.0, 42180.0, 0.0, 1...</td>\n",
       "      <td>ParallelRoot(00)</td>\n",
       "    </tr>\n",
       "    <tr>\n",
       "      <th>22</th>\n",
       "      <td>0</td>\n",
       "      <td>L</td>\n",
       "      <td>Y</td>\n",
       "      <td>00:00:22:000</td>\n",
       "      <td>top(09)</td>\n",
       "      <td>out_port</td>\n",
       "      <td>(132992.0, 123818.0, 241010.0, 52180.0, 0.0, 1...</td>\n",
       "      <td>ParallelRoot(00)</td>\n",
       "    </tr>\n",
       "    <tr>\n",
       "      <th>23</th>\n",
       "      <td>0</td>\n",
       "      <td>L</td>\n",
       "      <td>Y</td>\n",
       "      <td>00:00:23:000</td>\n",
       "      <td>top(09)</td>\n",
       "      <td>out_port</td>\n",
       "      <td>(111871.0, 110176.0, 265773.0, 62180.0, 0.0, 1...</td>\n",
       "      <td>ParallelRoot(00)</td>\n",
       "    </tr>\n",
       "    <tr>\n",
       "      <th>24</th>\n",
       "      <td>0</td>\n",
       "      <td>L</td>\n",
       "      <td>Y</td>\n",
       "      <td>00:00:24:000</td>\n",
       "      <td>top(09)</td>\n",
       "      <td>out_port</td>\n",
       "      <td>(93750.0, 96262.0, 287808.0, 72180.0, 0.0, 112...</td>\n",
       "      <td>ParallelRoot(00)</td>\n",
       "    </tr>\n",
       "    <tr>\n",
       "      <th>25</th>\n",
       "      <td>0</td>\n",
       "      <td>L</td>\n",
       "      <td>Y</td>\n",
       "      <td>00:00:25:000</td>\n",
       "      <td>top(09)</td>\n",
       "      <td>out_port</td>\n",
       "      <td>(77991.0, 82769.0, 307060.0, 82180.0, 0.0, 929...</td>\n",
       "      <td>ParallelRoot(00)</td>\n",
       "    </tr>\n",
       "    <tr>\n",
       "      <th>26</th>\n",
       "      <td>0</td>\n",
       "      <td>L</td>\n",
       "      <td>Y</td>\n",
       "      <td>00:00:26:000</td>\n",
       "      <td>top(09)</td>\n",
       "      <td>out_port</td>\n",
       "      <td>(65443.0, 70441.0, 323613.0, 90503.0, 0.0, 763...</td>\n",
       "      <td>ParallelRoot(00)</td>\n",
       "    </tr>\n",
       "    <tr>\n",
       "      <th>27</th>\n",
       "      <td>0</td>\n",
       "      <td>L</td>\n",
       "      <td>Y</td>\n",
       "      <td>00:00:27:000</td>\n",
       "      <td>top(09)</td>\n",
       "      <td>out_port</td>\n",
       "      <td>(58109.0, 57808.0, 337701.0, 96382.0, 0.0, 622...</td>\n",
       "      <td>ParallelRoot(00)</td>\n",
       "    </tr>\n",
       "    <tr>\n",
       "      <th>28</th>\n",
       "      <td>0</td>\n",
       "      <td>L</td>\n",
       "      <td>Y</td>\n",
       "      <td>00:00:28:000</td>\n",
       "      <td>top(09)</td>\n",
       "      <td>out_port</td>\n",
       "      <td>(51691.0, 48367.0, 349262.0, 100680.0, 0.0, 50...</td>\n",
       "      <td>ParallelRoot(00)</td>\n",
       "    </tr>\n",
       "    <tr>\n",
       "      <th>29</th>\n",
       "      <td>0</td>\n",
       "      <td>L</td>\n",
       "      <td>Y</td>\n",
       "      <td>00:00:29:000</td>\n",
       "      <td>top(09)</td>\n",
       "      <td>out_port</td>\n",
       "      <td>(47008.0, 40205.0, 358935.0, 103852.0, 0.0, 41...</td>\n",
       "      <td>ParallelRoot(00)</td>\n",
       "    </tr>\n",
       "    <tr>\n",
       "      <th>30</th>\n",
       "      <td>0</td>\n",
       "      <td>L</td>\n",
       "      <td>Y</td>\n",
       "      <td>00:00:30:000</td>\n",
       "      <td>top(09)</td>\n",
       "      <td>out_port</td>\n",
       "      <td>(43516.0, 33279.0, 366976.0, 106229.0, 0.0, 33...</td>\n",
       "      <td>ParallelRoot(00)</td>\n",
       "    </tr>\n",
       "    <tr>\n",
       "      <th>31</th>\n",
       "      <td>0</td>\n",
       "      <td>L</td>\n",
       "      <td>Y</td>\n",
       "      <td>00:00:31:000</td>\n",
       "      <td>top(09)</td>\n",
       "      <td>out_port</td>\n",
       "      <td>(40806.0, 27532.0, 373631.0, 108031.0, 0.0, 26...</td>\n",
       "      <td>ParallelRoot(00)</td>\n",
       "    </tr>\n",
       "    <tr>\n",
       "      <th>32</th>\n",
       "      <td>0</td>\n",
       "      <td>L</td>\n",
       "      <td>Y</td>\n",
       "      <td>00:00:32:000</td>\n",
       "      <td>top(09)</td>\n",
       "      <td>out_port</td>\n",
       "      <td>(38669.0, 22784.0, 379137.0, 109410.0, 0.0, 20...</td>\n",
       "      <td>ParallelRoot(00)</td>\n",
       "    </tr>\n",
       "    <tr>\n",
       "      <th>33</th>\n",
       "      <td>0</td>\n",
       "      <td>L</td>\n",
       "      <td>Y</td>\n",
       "      <td>00:00:33:000</td>\n",
       "      <td>top(09)</td>\n",
       "      <td>out_port</td>\n",
       "      <td>(37124.0, 18712.0, 383693.0, 110471.0, 0.0, 16...</td>\n",
       "      <td>ParallelRoot(00)</td>\n",
       "    </tr>\n",
       "    <tr>\n",
       "      <th>34</th>\n",
       "      <td>0</td>\n",
       "      <td>L</td>\n",
       "      <td>Y</td>\n",
       "      <td>00:00:34:000</td>\n",
       "      <td>top(09)</td>\n",
       "      <td>out_port</td>\n",
       "      <td>(35912.0, 15363.0, 387435.0, 111290.0, 0.0, 12...</td>\n",
       "      <td>ParallelRoot(00)</td>\n",
       "    </tr>\n",
       "    <tr>\n",
       "      <th>35</th>\n",
       "      <td>0</td>\n",
       "      <td>L</td>\n",
       "      <td>Y</td>\n",
       "      <td>00:00:35:000</td>\n",
       "      <td>top(09)</td>\n",
       "      <td>out_port</td>\n",
       "      <td>(34966.0, 12604.0, 390507.0, 111923.0, 0.0, 94...</td>\n",
       "      <td>ParallelRoot(00)</td>\n",
       "    </tr>\n",
       "    <tr>\n",
       "      <th>36</th>\n",
       "      <td>0</td>\n",
       "      <td>L</td>\n",
       "      <td>Y</td>\n",
       "      <td>00:00:36:000</td>\n",
       "      <td>top(09)</td>\n",
       "      <td>out_port</td>\n",
       "      <td>(34695.0, 10355.0, 393027.0, 111923.0, 0.0, 69...</td>\n",
       "      <td>ParallelRoot(00)</td>\n",
       "    </tr>\n",
       "    <tr>\n",
       "      <th>37</th>\n",
       "      <td>0</td>\n",
       "      <td>L</td>\n",
       "      <td>Y</td>\n",
       "      <td>00:00:37:000</td>\n",
       "      <td>top(09)</td>\n",
       "      <td>out_port</td>\n",
       "      <td>(34507.0, 8472.0, 395098.0, 111923.0, 0.0, 490...</td>\n",
       "      <td>ParallelRoot(00)</td>\n",
       "    </tr>\n",
       "    <tr>\n",
       "      <th>38</th>\n",
       "      <td>0</td>\n",
       "      <td>L</td>\n",
       "      <td>Y</td>\n",
       "      <td>00:00:38:000</td>\n",
       "      <td>top(09)</td>\n",
       "      <td>out_port</td>\n",
       "      <td>(34354.0, 6931.0, 396792.0, 111923.0, 0.0, 320...</td>\n",
       "      <td>ParallelRoot(00)</td>\n",
       "    </tr>\n",
       "    <tr>\n",
       "      <th>39</th>\n",
       "      <td>0</td>\n",
       "      <td>L</td>\n",
       "      <td>Y</td>\n",
       "      <td>00:00:39:000</td>\n",
       "      <td>top(09)</td>\n",
       "      <td>out_port</td>\n",
       "      <td>(34255.0, 5644.0, 398178.0, 111923.0, 0.0, 182...</td>\n",
       "      <td>ParallelRoot(00)</td>\n",
       "    </tr>\n",
       "    <tr>\n",
       "      <th>40</th>\n",
       "      <td>0</td>\n",
       "      <td>L</td>\n",
       "      <td>Y</td>\n",
       "      <td>00:00:40:000</td>\n",
       "      <td>top(09)</td>\n",
       "      <td>out_port</td>\n",
       "      <td>(34174.0, 4597.0, 399306.0, 111923.0, 0.0, 694...</td>\n",
       "      <td>ParallelRoot(00)</td>\n",
       "    </tr>\n",
       "  </tbody>\n",
       "</table>\n",
       "</div>"
      ],
      "text/plain": [
       "    0  1 message_type          time model_origin      port  \\\n",
       "0   0  L            Y  00:00:00:000      top(09)  out_port   \n",
       "1   0  L            Y  00:00:01:000      top(09)  out_port   \n",
       "2   0  L            Y  00:00:02:000      top(09)  out_port   \n",
       "3   0  L            Y  00:00:03:000      top(09)  out_port   \n",
       "4   0  L            Y  00:00:04:000      top(09)  out_port   \n",
       "5   0  L            Y  00:00:05:000      top(09)  out_port   \n",
       "6   0  L            Y  00:00:06:000      top(09)  out_port   \n",
       "7   0  L            Y  00:00:07:000      top(09)  out_port   \n",
       "8   0  L            Y  00:00:08:000      top(09)  out_port   \n",
       "9   0  L            Y  00:00:09:000      top(09)  out_port   \n",
       "10  0  L            Y  00:00:10:000      top(09)  out_port   \n",
       "11  0  L            Y  00:00:11:000      top(09)  out_port   \n",
       "12  0  L            Y  00:00:12:000      top(09)  out_port   \n",
       "13  0  L            Y  00:00:13:000      top(09)  out_port   \n",
       "14  0  L            Y  00:00:14:000      top(09)  out_port   \n",
       "15  0  L            Y  00:00:15:000      top(09)  out_port   \n",
       "16  0  L            Y  00:00:16:000      top(09)  out_port   \n",
       "17  0  L            Y  00:00:17:000      top(09)  out_port   \n",
       "18  0  L            Y  00:00:18:000      top(09)  out_port   \n",
       "19  0  L            Y  00:00:19:000      top(09)  out_port   \n",
       "20  0  L            Y  00:00:20:000      top(09)  out_port   \n",
       "21  0  L            Y  00:00:21:000      top(09)  out_port   \n",
       "22  0  L            Y  00:00:22:000      top(09)  out_port   \n",
       "23  0  L            Y  00:00:23:000      top(09)  out_port   \n",
       "24  0  L            Y  00:00:24:000      top(09)  out_port   \n",
       "25  0  L            Y  00:00:25:000      top(09)  out_port   \n",
       "26  0  L            Y  00:00:26:000      top(09)  out_port   \n",
       "27  0  L            Y  00:00:27:000      top(09)  out_port   \n",
       "28  0  L            Y  00:00:28:000      top(09)  out_port   \n",
       "29  0  L            Y  00:00:29:000      top(09)  out_port   \n",
       "30  0  L            Y  00:00:30:000      top(09)  out_port   \n",
       "31  0  L            Y  00:00:31:000      top(09)  out_port   \n",
       "32  0  L            Y  00:00:32:000      top(09)  out_port   \n",
       "33  0  L            Y  00:00:33:000      top(09)  out_port   \n",
       "34  0  L            Y  00:00:34:000      top(09)  out_port   \n",
       "35  0  L            Y  00:00:35:000      top(09)  out_port   \n",
       "36  0  L            Y  00:00:36:000      top(09)  out_port   \n",
       "37  0  L            Y  00:00:37:000      top(09)  out_port   \n",
       "38  0  L            Y  00:00:38:000      top(09)  out_port   \n",
       "39  0  L            Y  00:00:39:000      top(09)  out_port   \n",
       "40  0  L            Y  00:00:40:000      top(09)  out_port   \n",
       "\n",
       "                                                value        model_dest  \n",
       "0   (547250.0, 2750.0, 0.0, 0.0, 447750.0, 2250.0,...  ParallelRoot(00)  \n",
       "1   (546383.0, 3067.0, 550.0, 0.0, 446968.0, 2482....  ParallelRoot(00)  \n",
       "2   (545432.0, 3405.0, 1163.0, 0.0, 445499.0, 3338...  ParallelRoot(00)  \n",
       "3   (544373.0, 3783.0, 1844.0, 0.0, 443118.0, 5038...  ParallelRoot(00)  \n",
       "4   (542934.0, 4466.0, 2600.0, 0.0, 439502.0, 7898...  ParallelRoot(00)  \n",
       "5   (542934.0, 3573.0, 3493.0, 0.0, 437652.0, 8855...  ParallelRoot(00)  \n",
       "6   (541102.0, 4691.0, 4207.0, 0.0, 432390.0, 1340...  ParallelRoot(00)  \n",
       "7   (538189.0, 6666.0, 5145.0, 0.0, 424592.0, 2026...  ParallelRoot(00)  \n",
       "8   (533924.0, 9598.0, 6478.0, 0.0, 413418.0, 3010...  ParallelRoot(00)  \n",
       "9   (527623.0, 13980.0, 8397.0, 0.0, 397591.0, 440...  ParallelRoot(00)  \n",
       "10  (518479.0, 20328.0, 11193.0, 0.0, 375627.0, 63...  ParallelRoot(00)  \n",
       "11  (505558.0, 29184.0, 15258.0, 0.0, 345670.0, 89...  ParallelRoot(00)  \n",
       "12  (487946.0, 40960.0, 21094.0, 0.0, 296138.0, 12...  ParallelRoot(00)  \n",
       "13  (464341.0, 56373.0, 29286.0, 0.0, 237446.0, 16...  ParallelRoot(00)  \n",
       "14  (434253.0, 75187.0, 40560.0, 0.0, 171890.0, 20...  ParallelRoot(00)  \n",
       "15  (398376.0, 96027.0, 55597.0, 0.0, 103764.0, 25...  ParallelRoot(00)  \n",
       "16  (358643.0, 116555.0, 74802.0, 0.0, 39104.0, 28...  ParallelRoot(00)  \n",
       "17  (314527.0, 135180.0, 98113.0, 2180.0, 0.0, 301...  ParallelRoot(00)  \n",
       "18  (265136.0, 147535.0, 125149.0, 12180.0, 0.0, 2...  ParallelRoot(00)  \n",
       "19  (223155.0, 150009.0, 154656.0, 22180.0, 0.0, 2...  ParallelRoot(00)  \n",
       "20  (187545.0, 145618.0, 184657.0, 32180.0, 0.0, 2...  ParallelRoot(00)  \n",
       "21  (157887.0, 136153.0, 213780.0, 42180.0, 0.0, 1...  ParallelRoot(00)  \n",
       "22  (132992.0, 123818.0, 241010.0, 52180.0, 0.0, 1...  ParallelRoot(00)  \n",
       "23  (111871.0, 110176.0, 265773.0, 62180.0, 0.0, 1...  ParallelRoot(00)  \n",
       "24  (93750.0, 96262.0, 287808.0, 72180.0, 0.0, 112...  ParallelRoot(00)  \n",
       "25  (77991.0, 82769.0, 307060.0, 82180.0, 0.0, 929...  ParallelRoot(00)  \n",
       "26  (65443.0, 70441.0, 323613.0, 90503.0, 0.0, 763...  ParallelRoot(00)  \n",
       "27  (58109.0, 57808.0, 337701.0, 96382.0, 0.0, 622...  ParallelRoot(00)  \n",
       "28  (51691.0, 48367.0, 349262.0, 100680.0, 0.0, 50...  ParallelRoot(00)  \n",
       "29  (47008.0, 40205.0, 358935.0, 103852.0, 0.0, 41...  ParallelRoot(00)  \n",
       "30  (43516.0, 33279.0, 366976.0, 106229.0, 0.0, 33...  ParallelRoot(00)  \n",
       "31  (40806.0, 27532.0, 373631.0, 108031.0, 0.0, 26...  ParallelRoot(00)  \n",
       "32  (38669.0, 22784.0, 379137.0, 109410.0, 0.0, 20...  ParallelRoot(00)  \n",
       "33  (37124.0, 18712.0, 383693.0, 110471.0, 0.0, 16...  ParallelRoot(00)  \n",
       "34  (35912.0, 15363.0, 387435.0, 111290.0, 0.0, 12...  ParallelRoot(00)  \n",
       "35  (34966.0, 12604.0, 390507.0, 111923.0, 0.0, 94...  ParallelRoot(00)  \n",
       "36  (34695.0, 10355.0, 393027.0, 111923.0, 0.0, 69...  ParallelRoot(00)  \n",
       "37  (34507.0, 8472.0, 395098.0, 111923.0, 0.0, 490...  ParallelRoot(00)  \n",
       "38  (34354.0, 6931.0, 396792.0, 111923.0, 0.0, 320...  ParallelRoot(00)  \n",
       "39  (34255.0, 5644.0, 398178.0, 111923.0, 0.0, 182...  ParallelRoot(00)  \n",
       "40  (34174.0, 4597.0, 399306.0, 111923.0, 0.0, 694...  ParallelRoot(00)  "
      ]
     },
     "execution_count": 21,
     "metadata": {},
     "output_type": "execute_result"
    }
   ],
   "source": [
    "result.logs_dfs['ParallelRoot']"
   ]
  },
  {
   "cell_type": "code",
   "execution_count": 22,
   "metadata": {},
   "outputs": [
    {
     "name": "stdout",
     "output_type": "stream",
     "text": [
      "<class 'colonel.utils.utils.VirtualTime'>\n",
      "<class 'tuple'>\n"
     ]
    }
   ],
   "source": [
    "print(type(result.logs_dfs['ParallelRoot']['time'][0]))\n",
    "print(type(result.logs_dfs['ParallelRoot']['value'][0]))"
   ]
  },
  {
   "cell_type": "code",
   "execution_count": 23,
   "metadata": {},
   "outputs": [
    {
     "data": {
      "text/plain": [
       "<matplotlib.axes._subplots.AxesSubplot at 0x7f1b05ee8f60>"
      ]
     },
     "execution_count": 23,
     "metadata": {},
     "output_type": "execute_result"
    },
    {
     "data": {
      "image/png": "[encoded data removed]",
      "text/plain": [
       "<Figure size 432x288 with 1 Axes>"
      ]
     },
     "metadata": {
      "needs_background": "light"
     },
     "output_type": "display_data"
    }
   ],
   "source": [
    "import matplotlib.pyplot as plt\n",
    "fig, ax = plt.subplots()\n",
    "\n",
    "result.plot_port('top', 'out', axes=ax, index=0)\n",
    "result.plot_port('top', 'out', axes=ax, index=1)\n",
    "result.plot_port('top', 'out', axes=ax, index=2)\n",
    "result.plot_port('top', 'out', axes=ax, index=3)"
   ]
  }
 ],
 "metadata": {
  "kernelspec": {
   "display_name": "Python 3",
   "language": "python",
   "name": "python3"
  },
  "language_info": {
   "codemirror_mode": {
    "name": "ipython",
    "version": 3
   },
   "file_extension": ".py",
   "mimetype": "text/x-python",
   "name": "python",
   "nbconvert_exporter": "python",
   "pygments_lexer": "ipython3",
   "version": "3.7.3"
  }
 },
 "nbformat": 4,
 "nbformat_minor": 4
}
