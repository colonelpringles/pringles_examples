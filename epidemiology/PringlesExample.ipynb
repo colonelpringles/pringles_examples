{
 "cells": [
  {
   "cell_type": "markdown",
   "metadata": {},
   "source": [
    "# Ejemplo de modelo en Pringles"
   ]
  },
  {
   "cell_type": "markdown",
   "metadata": {},
   "source": [
    "### 1. Discover del codigo de atomicos"
   ]
  },
  {
   "cell_type": "markdown",
   "metadata": {},
   "source": [
    "Empezamos con los modelos construidos en user_models/ . En este caso tenemos:"
   ]
  },
  {
   "cell_type": "code",
   "execution_count": null,
   "metadata": {},
   "outputs": [],
   "source": [
    "!find user_models/ -name \"*.h\""
   ]
  },
  {
   "cell_type": "code",
   "execution_count": null,
   "metadata": {},
   "outputs": [],
   "source": [
    "from pringles.simulator import Simulator"
   ]
  },
  {
   "cell_type": "code",
   "execution_count": null,
   "metadata": {},
   "outputs": [],
   "source": [
    "simulator = Simulator(\"bin/\", \"user_models/\")\n",
    "r = simulator.get_registry()"
   ]
  },
  {
   "cell_type": "markdown",
   "metadata": {},
   "source": [
    "Todas estas clases que heredan de Atomic fueron creadas automaticamente a partir del codigo fuente"
   ]
  },
  {
   "cell_type": "code",
   "execution_count": null,
   "metadata": {},
   "outputs": [],
   "source": [
    "r.discovered_atomics"
   ]
  },
  {
   "cell_type": "markdown",
   "metadata": {},
   "source": [
    "Y cada una puede ser accedida asi:"
   ]
  },
  {
   "cell_type": "code",
   "execution_count": null,
   "metadata": {},
   "outputs": [],
   "source": [
    "r.Paranoia"
   ]
  },
  {
   "cell_type": "markdown",
   "metadata": {},
   "source": [
    "### 2. Construir el modelo usando la interfaz en python"
   ]
  },
  {
   "cell_type": "code",
   "execution_count": null,
   "metadata": {},
   "outputs": [],
   "source": [
    "from pringles.models import Coupled"
   ]
  },
  {
   "cell_type": "code",
   "execution_count": null,
   "metadata": {},
   "outputs": [],
   "source": [
    "def crear_interacciones_poblacion(mean=2, std=1, threshold_NV=30, threshold_V=80):\n",
    "    # Los atomicos ya tienen los puertos definidos a partir de leer la metadata del codigo\n",
    "    un_foco = r.Foco(\"foco\", mean=mean, std=std)\n",
    "    un_contagio = r.Contagio(\"contagio\", threshold_NV=threshold_NV, threshold_V=threshold_V)\n",
    "\n",
    "    interacciones_poblacion = (Coupled(\"interacciones_poblacion\", [un_foco, un_contagio])\n",
    "        .add_inport(\"in_port\")\n",
    "        .add_outport(\"out_port\")\n",
    "        .add_coupling(\"in_port\", un_foco.get_port(\"in\"))\n",
    "        .add_coupling(un_foco.get_port(\"out\"), un_contagio.get_port(\"in\"))\n",
    "        .add_coupling(un_contagio.get_port(\"out\"), \"out_port\"))\n",
    "    return interacciones_poblacion"
   ]
  },
  {
   "cell_type": "code",
   "execution_count": null,
   "metadata": {},
   "outputs": [],
   "source": [
    "interacciones_pob = crear_interacciones_poblacion()\n",
    "interacciones_pob"
   ]
  },
  {
   "cell_type": "code",
   "execution_count": null,
   "metadata": {},
   "outputs": [],
   "source": [
    "def crear_sist_vacunacion(p_inf_NV=0.3, p_inf_V=0.8, alpha=2, cant_vacunas_por_dia_activo=10000, prop_infectados_inicio=0.1, prop_infectados_cierre=0.025):\n",
    "    un_sist_prevencion = r.SistPrevencion(\"sist_prevencion\", prop_infectados_inicio=prop_infectados_inicio, prop_infectados_cierre=prop_infectados_cierre)\n",
    "    un_vacunatorio = r.Vacunatorio(\"vacunatorio\", cant_vacunas_por_dia_activo=cant_vacunas_por_dia_activo)\n",
    "    un_paranoia = r.Paranoia(\"paranoia\", p_inf_NV=p_inf_NV, p_inf_V=p_inf_V, alpha=alpha)\n",
    "    \n",
    "    sist_vacunacion = (Coupled(\"sist_vacunacion\", [un_sist_prevencion, un_vacunatorio, un_paranoia])\n",
    "        .add_inport('in_port')\n",
    "        .add_outport('out_port')\n",
    "        .add_coupling('in_port', un_paranoia.get_port(\"in\"))\n",
    "        .add_coupling('in_port', un_sist_prevencion.get_port(\"in\"))\n",
    "        .add_coupling(un_paranoia.get_port(\"out\"), un_vacunatorio.get_port(\"in_pacientes\"))\n",
    "        .add_coupling(un_sist_prevencion.get_port(\"out\"), un_vacunatorio.get_port(\"in_activo\"))\n",
    "        .add_coupling(un_vacunatorio.get_port(\"out\"), \"out_port\")\n",
    "    )\n",
    "    return sist_vacunacion"
   ]
  },
  {
   "cell_type": "code",
   "execution_count": null,
   "metadata": {},
   "outputs": [],
   "source": [
    "sist_vac = crear_sist_vacunacion()\n",
    "sist_vac"
   ]
  },
  {
   "cell_type": "code",
   "execution_count": null,
   "metadata": {},
   "outputs": [],
   "source": [
    "def crear_top(susceptibles_nv=547250, susceptibles_v=447750,\n",
    "              infectados_nv=2750, infectados_v=2250,\n",
    "              recuperados_nv=0, recuperados_v=0,\n",
    "              vacunados_nv=0, vacunados_v=0,\n",
    "              proba_sana_nv=0.2, proba_sana_v=0.1):\n",
    "    pobl = r.Poblacion(\"poblacion\",\n",
    "            susceptibles_nv=susceptibles_nv,\n",
    "            susceptibles_v=susceptibles_v,\n",
    "            infectados_nv=infectados_nv,\n",
    "            infectados_v=infectados_v,\n",
    "            recuperados_nv=recuperados_nv,\n",
    "            recuperados_v=recuperados_v,\n",
    "            vacunados_nv=vacunados_nv,\n",
    "            vacunados_v=vacunados_v,\n",
    "            proba_sana_nv=proba_sana_nv,\n",
    "            proba_sana_v=proba_sana_v\n",
    "    )\n",
    "    sist_vac = crear_sist_vacunacion()\n",
    "    interacciones_poblacion = crear_interacciones_poblacion()\n",
    "    \n",
    "    top = (Coupled(\"top\", [pobl, sist_vac, interacciones_poblacion])\n",
    "        .add_outport('out_port')\n",
    "        .add_coupling(pobl.get_port('out'), sist_vac.get_port('in_port'))\n",
    "        .add_coupling(pobl.get_port('out'), interacciones_poblacion.get_port('in_port'))\n",
    "        .add_coupling(pobl.get_port('out'), 'out_port')\n",
    "        .add_coupling(sist_vac.get_port('out_port'), pobl.get_port(\"in_deltavac\"))\n",
    "        .add_coupling(interacciones_poblacion.get_port('out_port'), pobl.get_port(\"in_deltainf\"))\n",
    "    )\n",
    "    return top"
   ]
  },
  {
   "cell_type": "code",
   "execution_count": null,
   "metadata": {},
   "outputs": [],
   "source": [
    "top = crear_top()\n",
    "top"
   ]
  },
  {
   "cell_type": "markdown",
   "metadata": {},
   "source": [
    "### 3. Correr simulation"
   ]
  },
  {
   "cell_type": "code",
   "execution_count": null,
   "metadata": {},
   "outputs": [],
   "source": [
    "print(type(simulator))  # Instanciado arriba\n",
    "print(type(top)) # instanciado arriba"
   ]
  },
  {
   "cell_type": "code",
   "execution_count": null,
   "metadata": {},
   "outputs": [],
   "source": [
    "from pringles.utils import VirtualTime\n",
    "from pringles.simulator import Simulation"
   ]
  },
  {
   "cell_type": "code",
   "execution_count": null,
   "metadata": {},
   "outputs": [],
   "source": [
    "simulation = Simulation(top_model=top,\n",
    "                        duration=VirtualTime.parse('00:00:30:000:0'))\n",
    "result = simulator.run_simulation(simulation)"
   ]
  },
  {
   "cell_type": "markdown",
   "metadata": {},
   "source": [
    "### 4. Analizar resultados"
   ]
  },
  {
   "cell_type": "code",
   "execution_count": null,
   "metadata": {},
   "outputs": [],
   "source": [
    "result.successful()"
   ]
  },
  {
   "cell_type": "code",
   "execution_count": null,
   "metadata": {},
   "outputs": [],
   "source": [
    "result.logs_dfs['ParallelRoot'].head()"
   ]
  },
  {
   "cell_type": "code",
   "execution_count": null,
   "metadata": {},
   "outputs": [],
   "source": [
    "print(type(result.logs_dfs['ParallelRoot']['time'][0]))\n",
    "print(type(result.logs_dfs['ParallelRoot']['value'][0]))"
   ]
  },
  {
   "cell_type": "code",
   "execution_count": null,
   "metadata": {},
   "outputs": [],
   "source": [
    "import matplotlib.pyplot as plt\n",
    "from pringles.utils import vtime_decorate\n",
    "fig, ax = plt.subplots()\n",
    "vtime_decorate(ax)\n",
    "result.plot_port('top', 'out', axes=ax, index=0)\n",
    "result.plot_port('top', 'out', axes=ax, index=1)\n",
    "result.plot_port('top', 'out', axes=ax, index=2)\n",
    "result.plot_port('top', 'out', axes=ax, index=3)"
   ]
  }
 ],
 "metadata": {
  "kernelspec": {
   "display_name": "Python 3",
   "language": "python",
   "name": "python3"
  },
  "language_info": {
   "codemirror_mode": {
    "name": "ipython",
    "version": 3
   },
   "file_extension": ".py",
   "mimetype": "text/x-python",
   "name": "python",
   "nbconvert_exporter": "python",
   "pygments_lexer": "ipython3",
   "version": "3.7.3"
  }
 },
 "nbformat": 4,
 "nbformat_minor": 4
}
