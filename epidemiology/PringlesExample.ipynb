{
 "cells": [
  {
   "cell_type": "markdown",
   "metadata": {},
   "source": [
    "# Ejemplo de modelo en Pringles"
   ]
  },
  {
   "cell_type": "markdown",
   "metadata": {},
   "source": [
    "### 1. Discover del codigo de atomicos"
   ]
  },
  {
   "cell_type": "markdown",
   "metadata": {},
   "source": [
    "Empezamos con los modelos construidos en user_models/ . En este caso tenemos:"
   ]
  },
  {
   "cell_type": "code",
   "execution_count": 1,
   "metadata": {},
   "outputs": [
    {
     "name": "stdout",
     "output_type": "stream",
     "text": [
      "user_models/constants.h\n",
      "user_models/paranoia.h\n",
      "user_models/vacunatorio.h\n",
      "user_models/poblacion.h\n",
      "user_models/contagio.h\n",
      "user_models/helpers.h\n",
      "user_models/sist_prevencion.h\n",
      "user_models/foco.h\n"
     ]
    }
   ],
   "source": [
    "!find user_models/ -name \"*.h\""
   ]
  },
  {
   "cell_type": "code",
   "execution_count": 2,
   "metadata": {},
   "outputs": [],
   "source": [
    "from pringles.simulator import Simulator"
   ]
  },
  {
   "cell_type": "code",
   "execution_count": 3,
   "metadata": {},
   "outputs": [],
   "source": [
    "simulator = Simulator(\"bin/\", \"user_models/\")\n",
    "r = simulator.get_registry()"
   ]
  },
  {
   "cell_type": "markdown",
   "metadata": {},
   "source": [
    "Todas estas clases que heredan de Atomic fueron creadas automaticamente a partir del codigo fuente"
   ]
  },
  {
   "cell_type": "code",
   "execution_count": 4,
   "metadata": {},
   "outputs": [
    {
     "data": {
      "text/plain": [
       "[pringles.models.models.Paranoia,\n",
       " pringles.models.models.Vacunatorio,\n",
       " pringles.models.models.Poblacion,\n",
       " pringles.models.models.Contagio,\n",
       " pringles.models.models.SistPrevencion,\n",
       " pringles.models.models.Foco]"
      ]
     },
     "execution_count": 4,
     "metadata": {},
     "output_type": "execute_result"
    }
   ],
   "source": [
    "r.discovered_atomics"
   ]
  },
  {
   "cell_type": "markdown",
   "metadata": {},
   "source": [
    "Y cada una puede ser accedida asi:"
   ]
  },
  {
   "cell_type": "code",
   "execution_count": 5,
   "metadata": {},
   "outputs": [
    {
     "data": {
      "text/plain": [
       "pringles.models.models.Paranoia"
      ]
     },
     "execution_count": 5,
     "metadata": {},
     "output_type": "execute_result"
    }
   ],
   "source": [
    "r.Paranoia"
   ]
  },
  {
   "cell_type": "markdown",
   "metadata": {},
   "source": [
    "### 2. Construir el modelo usando la interfaz en python"
   ]
  },
  {
   "cell_type": "code",
   "execution_count": 6,
   "metadata": {},
   "outputs": [],
   "source": [
    "from pringles.models import Coupled"
   ]
  },
  {
   "cell_type": "code",
   "execution_count": 7,
   "metadata": {},
   "outputs": [],
   "source": [
    "def crear_interacciones_poblacion(mean=2, std=1, threshold_NV=30, threshold_V=80):\n",
    "    # Los atomicos ya tienen los puertos definidos a partir de leer la metadata del codigo\n",
    "    un_foco = r.Foco(\"foco\", mean=mean, std=std)\n",
    "    un_contagio = r.Contagio(\"contagio\", threshold_NV=threshold_NV, threshold_V=threshold_V)\n",
    "\n",
    "    interacciones_poblacion = (Coupled(\"interacciones_poblacion\", [un_foco, un_contagio])\n",
    "        .add_inport(\"in_port\")\n",
    "        .add_outport(\"out_port\")\n",
    "        .add_coupling(\"in_port\", un_foco.get_port(\"in\"))\n",
    "        .add_coupling(un_foco.get_port(\"out\"), un_contagio.get_port(\"in\"))\n",
    "        .add_coupling(un_contagio.get_port(\"out\"), \"out_port\"))\n",
    "    return interacciones_poblacion"
   ]
  },
  {
   "cell_type": "code",
   "execution_count": 8,
   "metadata": {},
   "outputs": [],
   "source": [
    "interacciones_pob = crear_interacciones_poblacion()"
   ]
  },
  {
   "cell_type": "code",
   "execution_count": 9,
   "metadata": {},
   "outputs": [],
   "source": [
    "from pringles.display import ModelDisplay"
   ]
  },
  {
   "cell_type": "code",
   "execution_count": 10,
   "metadata": {},
   "outputs": [
    {
     "data": {
      "text/html": [
       "\n",
       "        <iframe\n",
       "            width=\"100%\"\n",
       "            height=\"600px\"\n",
       "            src=\"https://colonelpringles.github.io/DEVSDiagrammer/basic.html?options=%7B%22squared_models%22:%20false%2C%20%22show_message_type%22:%20true%2C%20%22show_port_name%22:%20true%2C%20%22compress_in_left%22:%20false%2C%20%22sort_ports_by_name%22:%20true%7D&structure=%7B%22id%22:%20%22interacciones_poblacion%22%2C%20%22type%22:%20%22coupled%22%2C%20%22models%22:%20%5B%7B%22id%22:%20%22foco%22%2C%20%22type%22:%20%22atomic%22%2C%20%22ports%22:%20%7B%22out%22:%20%5B%7B%22name%22:%20%22out%22%2C%20%22message_type%22:%20%22Any%22%2C%20%22kind%22:%20%22out%22%7D%5D%2C%20%22in%22:%20%5B%7B%22name%22:%20%22in%22%2C%20%22message_type%22:%20%22Any%22%2C%20%22kind%22:%20%22in%22%7D%5D%7D%7D%2C%20%7B%22id%22:%20%22contagio%22%2C%20%22type%22:%20%22atomic%22%2C%20%22ports%22:%20%7B%22out%22:%20%5B%7B%22name%22:%20%22out%22%2C%20%22message_type%22:%20%22Any%22%2C%20%22kind%22:%20%22out%22%7D%5D%2C%20%22in%22:%20%5B%7B%22name%22:%20%22in%22%2C%20%22message_type%22:%20%22Any%22%2C%20%22kind%22:%20%22in%22%7D%5D%7D%7D%5D%2C%20%22ports%22:%20%7B%22out%22:%20%5B%7B%22name%22:%20%22out_port%22%2C%20%22message_type%22:%20%22Any%22%2C%20%22kind%22:%20%22out%22%7D%5D%2C%20%22in%22:%20%5B%7B%22name%22:%20%22in_port%22%2C%20%22message_type%22:%20%22Any%22%2C%20%22kind%22:%20%22in%22%7D%5D%7D%2C%20%22eoc%22:%20%5B%7B%22to_port%22:%20%22out_port%22%2C%20%22from_port%22:%20%22out%22%2C%20%22from_model%22:%20%22contagio%22%7D%5D%2C%20%22eic%22:%20%5B%7B%22to_port%22:%20%22in%22%2C%20%22to_model%22:%20%22foco%22%2C%20%22from_port%22:%20%22in_port%22%7D%5D%2C%20%22ic%22:%20%5B%7B%22to_port%22:%20%22in%22%2C%20%22to_model%22:%20%22contagio%22%2C%20%22from_port%22:%20%22out%22%2C%20%22from_model%22:%20%22foco%22%7D%5D%7D\"\n",
       "            frameborder=\"0\"\n",
       "            allowfullscreen\n",
       "        ></iframe>\n",
       "        "
      ],
      "text/plain": [
       "<pringles.display.display.ModelDisplay at 0x7f9cc8971d30>"
      ]
     },
     "execution_count": 10,
     "metadata": {},
     "output_type": "execute_result"
    }
   ],
   "source": [
    "ModelDisplay(interacciones_pob)"
   ]
  },
  {
   "cell_type": "code",
   "execution_count": 11,
   "metadata": {},
   "outputs": [],
   "source": [
    "def crear_sist_vacunacion(p_inf_NV=0.3, p_inf_V=0.8, alpha=2, cant_vacunas_por_dia_activo=10000, prop_infectados_inicio=0.1, prop_infectados_cierre=0.025):\n",
    "    un_sist_prevencion = r.SistPrevencion(\"sist_prevencion\", prop_infectados_inicio=prop_infectados_inicio, prop_infectados_cierre=prop_infectados_cierre)\n",
    "    un_vacunatorio = r.Vacunatorio(\"vacunatorio\", cant_vacunas_por_dia_activo=cant_vacunas_por_dia_activo)\n",
    "    un_paranoia = r.Paranoia(\"paranoia\", p_inf_NV=p_inf_NV, p_inf_V=p_inf_V, alpha=alpha)\n",
    "    \n",
    "    sist_vacunacion = (Coupled(\"sist_vacunacion\", [un_sist_prevencion, un_vacunatorio, un_paranoia])\n",
    "        .add_inport('in_port')\n",
    "        .add_outport('out_port')\n",
    "        .add_coupling('in_port', un_paranoia.get_port(\"in\"))\n",
    "        .add_coupling('in_port', un_sist_prevencion.get_port(\"in\"))\n",
    "        .add_coupling(un_paranoia.get_port(\"out\"), un_vacunatorio.get_port(\"in_pacientes\"))\n",
    "        .add_coupling(un_sist_prevencion.get_port(\"out\"), un_vacunatorio.get_port(\"in_activo\"))\n",
    "        .add_coupling(un_vacunatorio.get_port(\"out\"), \"out_port\")\n",
    "    )\n",
    "    return sist_vacunacion"
   ]
  },
  {
   "cell_type": "code",
   "execution_count": 12,
   "metadata": {},
   "outputs": [],
   "source": [
    "sist_vac = crear_sist_vacunacion()"
   ]
  },
  {
   "cell_type": "code",
   "execution_count": 13,
   "metadata": {},
   "outputs": [
    {
     "data": {
      "text/html": [
       "\n",
       "        <iframe\n",
       "            width=\"100%\"\n",
       "            height=\"600px\"\n",
       "            src=\"https://colonelpringles.github.io/DEVSDiagrammer/basic.html?options=%7B%22squared_models%22:%20false%2C%20%22show_message_type%22:%20true%2C%20%22show_port_name%22:%20true%2C%20%22compress_in_left%22:%20false%2C%20%22sort_ports_by_name%22:%20true%7D&structure=%7B%22id%22:%20%22sist_vacunacion%22%2C%20%22type%22:%20%22coupled%22%2C%20%22models%22:%20%5B%7B%22id%22:%20%22sist_prevencion%22%2C%20%22type%22:%20%22atomic%22%2C%20%22ports%22:%20%7B%22out%22:%20%5B%7B%22name%22:%20%22out%22%2C%20%22message_type%22:%20%22Any%22%2C%20%22kind%22:%20%22out%22%7D%5D%2C%20%22in%22:%20%5B%7B%22name%22:%20%22in%22%2C%20%22message_type%22:%20%22Any%22%2C%20%22kind%22:%20%22in%22%7D%5D%7D%7D%2C%20%7B%22id%22:%20%22vacunatorio%22%2C%20%22type%22:%20%22atomic%22%2C%20%22ports%22:%20%7B%22out%22:%20%5B%7B%22name%22:%20%22out%22%2C%20%22message_type%22:%20%22Any%22%2C%20%22kind%22:%20%22out%22%7D%5D%2C%20%22in%22:%20%5B%7B%22name%22:%20%22in_pacientes%22%2C%20%22message_type%22:%20%22Any%22%2C%20%22kind%22:%20%22in%22%7D%2C%20%7B%22name%22:%20%22in_activo%22%2C%20%22message_type%22:%20%22Any%22%2C%20%22kind%22:%20%22in%22%7D%5D%7D%7D%2C%20%7B%22id%22:%20%22paranoia%22%2C%20%22type%22:%20%22atomic%22%2C%20%22ports%22:%20%7B%22out%22:%20%5B%7B%22name%22:%20%22out%22%2C%20%22message_type%22:%20%22Any%22%2C%20%22kind%22:%20%22out%22%7D%5D%2C%20%22in%22:%20%5B%7B%22name%22:%20%22in%22%2C%20%22message_type%22:%20%22Any%22%2C%20%22kind%22:%20%22in%22%7D%5D%7D%7D%5D%2C%20%22ports%22:%20%7B%22out%22:%20%5B%7B%22name%22:%20%22out_port%22%2C%20%22message_type%22:%20%22Any%22%2C%20%22kind%22:%20%22out%22%7D%5D%2C%20%22in%22:%20%5B%7B%22name%22:%20%22in_port%22%2C%20%22message_type%22:%20%22Any%22%2C%20%22kind%22:%20%22in%22%7D%5D%7D%2C%20%22eoc%22:%20%5B%7B%22to_port%22:%20%22out_port%22%2C%20%22from_port%22:%20%22out%22%2C%20%22from_model%22:%20%22vacunatorio%22%7D%5D%2C%20%22eic%22:%20%5B%7B%22to_port%22:%20%22in%22%2C%20%22to_model%22:%20%22paranoia%22%2C%20%22from_port%22:%20%22in_port%22%7D%2C%20%7B%22to_port%22:%20%22in%22%2C%20%22to_model%22:%20%22sist_prevencion%22%2C%20%22from_port%22:%20%22in_port%22%7D%5D%2C%20%22ic%22:%20%5B%7B%22to_port%22:%20%22in_pacientes%22%2C%20%22to_model%22:%20%22vacunatorio%22%2C%20%22from_port%22:%20%22out%22%2C%20%22from_model%22:%20%22paranoia%22%7D%2C%20%7B%22to_port%22:%20%22in_activo%22%2C%20%22to_model%22:%20%22vacunatorio%22%2C%20%22from_port%22:%20%22out%22%2C%20%22from_model%22:%20%22sist_prevencion%22%7D%5D%7D\"\n",
       "            frameborder=\"0\"\n",
       "            allowfullscreen\n",
       "        ></iframe>\n",
       "        "
      ],
      "text/plain": [
       "<pringles.display.display.ModelDisplay at 0x7f9cc86afe80>"
      ]
     },
     "execution_count": 13,
     "metadata": {},
     "output_type": "execute_result"
    }
   ],
   "source": [
    "ModelDisplay(sist_vac)"
   ]
  },
  {
   "cell_type": "code",
   "execution_count": 14,
   "metadata": {},
   "outputs": [],
   "source": [
    "def crear_top(susceptibles_nv=547250, susceptibles_v=447750,\n",
    "              infectados_nv=2750, infectados_v=2250,\n",
    "              recuperados_nv=0, recuperados_v=0,\n",
    "              vacunados_nv=0, vacunados_v=0,\n",
    "              proba_sana_nv=0.2, proba_sana_v=0.1):\n",
    "    pobl = r.Poblacion(\"poblacion\",\n",
    "            susceptibles_nv=susceptibles_nv,\n",
    "            susceptibles_v=susceptibles_v,\n",
    "            infectados_nv=infectados_nv,\n",
    "            infectados_v=infectados_v,\n",
    "            recuperados_nv=recuperados_nv,\n",
    "            recuperados_v=recuperados_v,\n",
    "            vacunados_nv=vacunados_nv,\n",
    "            vacunados_v=vacunados_v,\n",
    "            proba_sana_nv=proba_sana_nv,\n",
    "            proba_sana_v=proba_sana_v\n",
    "    )\n",
    "    sist_vac = crear_sist_vacunacion()\n",
    "    interacciones_poblacion = crear_interacciones_poblacion()\n",
    "    \n",
    "    top = (Coupled(\"top\", [pobl, sist_vac, interacciones_poblacion])\n",
    "        .add_outport('out_port')\n",
    "        .add_coupling(pobl.get_port('out'), sist_vac.get_port('in_port'))\n",
    "        .add_coupling(pobl.get_port('out'), interacciones_poblacion.get_port('in_port'))\n",
    "        .add_coupling(pobl.get_port('out'), 'out_port')\n",
    "        .add_coupling(sist_vac.get_port('out_port'), pobl.get_port(\"in_deltavac\"))\n",
    "        .add_coupling(interacciones_poblacion.get_port('out_port'), pobl.get_port(\"in_deltainf\"))\n",
    "    )\n",
    "    return top"
   ]
  },
  {
   "cell_type": "code",
   "execution_count": 15,
   "metadata": {},
   "outputs": [],
   "source": [
    "top = crear_top()"
   ]
  },
  {
   "cell_type": "code",
   "execution_count": 16,
   "metadata": {},
   "outputs": [
    {
     "data": {
      "text/html": [
       "\n",
       "        <iframe\n",
       "            width=\"100%\"\n",
       "            height=\"600px\"\n",
       "            src=\"https://colonelpringles.github.io/DEVSDiagrammer/basic.html?options=%7B%22squared_models%22:%20false%2C%20%22show_message_type%22:%20true%2C%20%22show_port_name%22:%20true%2C%20%22compress_in_left%22:%20false%2C%20%22sort_ports_by_name%22:%20true%7D&structure=%7B%22id%22:%20%22top%22%2C%20%22type%22:%20%22coupled%22%2C%20%22models%22:%20%5B%7B%22id%22:%20%22poblacion%22%2C%20%22type%22:%20%22atomic%22%2C%20%22ports%22:%20%7B%22out%22:%20%5B%7B%22name%22:%20%22out%22%2C%20%22message_type%22:%20%22Any%22%2C%20%22kind%22:%20%22out%22%7D%5D%2C%20%22in%22:%20%5B%7B%22name%22:%20%22in_deltavac%22%2C%20%22message_type%22:%20%22Any%22%2C%20%22kind%22:%20%22in%22%7D%2C%20%7B%22name%22:%20%22in_deltainf%22%2C%20%22message_type%22:%20%22Any%22%2C%20%22kind%22:%20%22in%22%7D%5D%7D%7D%2C%20%7B%22id%22:%20%22sist_vacunacion%22%2C%20%22type%22:%20%22coupled%22%2C%20%22models%22:%20%5B%7B%22id%22:%20%22sist_prevencion%22%2C%20%22type%22:%20%22atomic%22%2C%20%22ports%22:%20%7B%22out%22:%20%5B%7B%22name%22:%20%22out%22%2C%20%22message_type%22:%20%22Any%22%2C%20%22kind%22:%20%22out%22%7D%5D%2C%20%22in%22:%20%5B%7B%22name%22:%20%22in%22%2C%20%22message_type%22:%20%22Any%22%2C%20%22kind%22:%20%22in%22%7D%5D%7D%7D%2C%20%7B%22id%22:%20%22vacunatorio%22%2C%20%22type%22:%20%22atomic%22%2C%20%22ports%22:%20%7B%22out%22:%20%5B%7B%22name%22:%20%22out%22%2C%20%22message_type%22:%20%22Any%22%2C%20%22kind%22:%20%22out%22%7D%5D%2C%20%22in%22:%20%5B%7B%22name%22:%20%22in_pacientes%22%2C%20%22message_type%22:%20%22Any%22%2C%20%22kind%22:%20%22in%22%7D%2C%20%7B%22name%22:%20%22in_activo%22%2C%20%22message_type%22:%20%22Any%22%2C%20%22kind%22:%20%22in%22%7D%5D%7D%7D%2C%20%7B%22id%22:%20%22paranoia%22%2C%20%22type%22:%20%22atomic%22%2C%20%22ports%22:%20%7B%22out%22:%20%5B%7B%22name%22:%20%22out%22%2C%20%22message_type%22:%20%22Any%22%2C%20%22kind%22:%20%22out%22%7D%5D%2C%20%22in%22:%20%5B%7B%22name%22:%20%22in%22%2C%20%22message_type%22:%20%22Any%22%2C%20%22kind%22:%20%22in%22%7D%5D%7D%7D%5D%2C%20%22ports%22:%20%7B%22out%22:%20%5B%7B%22name%22:%20%22out_port%22%2C%20%22message_type%22:%20%22Any%22%2C%20%22kind%22:%20%22out%22%7D%5D%2C%20%22in%22:%20%5B%7B%22name%22:%20%22in_port%22%2C%20%22message_type%22:%20%22Any%22%2C%20%22kind%22:%20%22in%22%7D%5D%7D%2C%20%22eoc%22:%20%5B%7B%22to_port%22:%20%22out_port%22%2C%20%22from_port%22:%20%22out%22%2C%20%22from_model%22:%20%22vacunatorio%22%7D%5D%2C%20%22eic%22:%20%5B%7B%22to_port%22:%20%22in%22%2C%20%22to_model%22:%20%22paranoia%22%2C%20%22from_port%22:%20%22in_port%22%7D%2C%20%7B%22to_port%22:%20%22in%22%2C%20%22to_model%22:%20%22sist_prevencion%22%2C%20%22from_port%22:%20%22in_port%22%7D%5D%2C%20%22ic%22:%20%5B%7B%22to_port%22:%20%22in_pacientes%22%2C%20%22to_model%22:%20%22vacunatorio%22%2C%20%22from_port%22:%20%22out%22%2C%20%22from_model%22:%20%22paranoia%22%7D%2C%20%7B%22to_port%22:%20%22in_activo%22%2C%20%22to_model%22:%20%22vacunatorio%22%2C%20%22from_port%22:%20%22out%22%2C%20%22from_model%22:%20%22sist_prevencion%22%7D%5D%7D%2C%20%7B%22id%22:%20%22interacciones_poblacion%22%2C%20%22type%22:%20%22coupled%22%2C%20%22models%22:%20%5B%7B%22id%22:%20%22foco%22%2C%20%22type%22:%20%22atomic%22%2C%20%22ports%22:%20%7B%22out%22:%20%5B%7B%22name%22:%20%22out%22%2C%20%22message_type%22:%20%22Any%22%2C%20%22kind%22:%20%22out%22%7D%5D%2C%20%22in%22:%20%5B%7B%22name%22:%20%22in%22%2C%20%22message_type%22:%20%22Any%22%2C%20%22kind%22:%20%22in%22%7D%5D%7D%7D%2C%20%7B%22id%22:%20%22contagio%22%2C%20%22type%22:%20%22atomic%22%2C%20%22ports%22:%20%7B%22out%22:%20%5B%7B%22name%22:%20%22out%22%2C%20%22message_type%22:%20%22Any%22%2C%20%22kind%22:%20%22out%22%7D%5D%2C%20%22in%22:%20%5B%7B%22name%22:%20%22in%22%2C%20%22message_type%22:%20%22Any%22%2C%20%22kind%22:%20%22in%22%7D%5D%7D%7D%5D%2C%20%22ports%22:%20%7B%22out%22:%20%5B%7B%22name%22:%20%22out_port%22%2C%20%22message_type%22:%20%22Any%22%2C%20%22kind%22:%20%22out%22%7D%5D%2C%20%22in%22:%20%5B%7B%22name%22:%20%22in_port%22%2C%20%22message_type%22:%20%22Any%22%2C%20%22kind%22:%20%22in%22%7D%5D%7D%2C%20%22eoc%22:%20%5B%7B%22to_port%22:%20%22out_port%22%2C%20%22from_port%22:%20%22out%22%2C%20%22from_model%22:%20%22contagio%22%7D%5D%2C%20%22eic%22:%20%5B%7B%22to_port%22:%20%22in%22%2C%20%22to_model%22:%20%22foco%22%2C%20%22from_port%22:%20%22in_port%22%7D%5D%2C%20%22ic%22:%20%5B%7B%22to_port%22:%20%22in%22%2C%20%22to_model%22:%20%22contagio%22%2C%20%22from_port%22:%20%22out%22%2C%20%22from_model%22:%20%22foco%22%7D%5D%7D%5D%2C%20%22ports%22:%20%7B%22out%22:%20%5B%7B%22name%22:%20%22out_port%22%2C%20%22message_type%22:%20%22Any%22%2C%20%22kind%22:%20%22out%22%7D%5D%2C%20%22in%22:%20%5B%5D%7D%2C%20%22eoc%22:%20%5B%7B%22to_port%22:%20%22out_port%22%2C%20%22from_port%22:%20%22out%22%2C%20%22from_model%22:%20%22poblacion%22%7D%5D%2C%20%22eic%22:%20%5B%5D%2C%20%22ic%22:%20%5B%7B%22to_port%22:%20%22in_port%22%2C%20%22to_model%22:%20%22sist_vacunacion%22%2C%20%22from_port%22:%20%22out%22%2C%20%22from_model%22:%20%22poblacion%22%7D%2C%20%7B%22to_port%22:%20%22in_port%22%2C%20%22to_model%22:%20%22interacciones_poblacion%22%2C%20%22from_port%22:%20%22out%22%2C%20%22from_model%22:%20%22poblacion%22%7D%2C%20%7B%22to_port%22:%20%22in_deltavac%22%2C%20%22to_model%22:%20%22poblacion%22%2C%20%22from_port%22:%20%22out_port%22%2C%20%22from_model%22:%20%22sist_vacunacion%22%7D%2C%20%7B%22to_port%22:%20%22in_deltainf%22%2C%20%22to_model%22:%20%22poblacion%22%2C%20%22from_port%22:%20%22out_port%22%2C%20%22from_model%22:%20%22interacciones_poblacion%22%7D%5D%7D\"\n",
       "            frameborder=\"0\"\n",
       "            allowfullscreen\n",
       "        ></iframe>\n",
       "        "
      ],
      "text/plain": [
       "<pringles.display.display.ModelDisplay at 0x7f9cc86b64e0>"
      ]
     },
     "execution_count": 16,
     "metadata": {},
     "output_type": "execute_result"
    }
   ],
   "source": [
    "ModelDisplay(top)"
   ]
  },
  {
   "cell_type": "markdown",
   "metadata": {},
   "source": [
    "### 3. Correr simulation"
   ]
  },
  {
   "cell_type": "code",
   "execution_count": 17,
   "metadata": {},
   "outputs": [
    {
     "name": "stdout",
     "output_type": "stream",
     "text": [
      "<class 'pringles.simulator.simulator.Simulator'>\n",
      "<class 'pringles.models.models.Coupled'>\n"
     ]
    }
   ],
   "source": [
    "print(type(simulator))  # Instanciado arriba\n",
    "print(type(top)) # instanciado arriba"
   ]
  },
  {
   "cell_type": "code",
   "execution_count": 18,
   "metadata": {},
   "outputs": [],
   "source": [
    "from pringles.utils import VirtualTime"
   ]
  },
  {
   "cell_type": "code",
   "execution_count": 19,
   "metadata": {},
   "outputs": [],
   "source": [
    "result = simulator.run_simulation(top_model=top,\n",
    "                                  duration=VirtualTime.parse('00:00:30:000:0'))"
   ]
  },
  {
   "cell_type": "markdown",
   "metadata": {},
   "source": [
    "### 4. Analizar resultados"
   ]
  },
  {
   "cell_type": "code",
   "execution_count": 20,
   "metadata": {},
   "outputs": [
    {
     "data": {
      "text/plain": [
       "True"
      ]
     },
     "execution_count": 20,
     "metadata": {},
     "output_type": "execute_result"
    }
   ],
   "source": [
    "result.successful()"
   ]
  },
  {
   "cell_type": "code",
   "execution_count": 21,
   "metadata": {},
   "outputs": [
    {
     "data": {
      "text/html": [
       "<div>\n",
       "<style scoped>\n",
       "    .dataframe tbody tr th:only-of-type {\n",
       "        vertical-align: middle;\n",
       "    }\n",
       "\n",
       "    .dataframe tbody tr th {\n",
       "        vertical-align: top;\n",
       "    }\n",
       "\n",
       "    .dataframe thead th {\n",
       "        text-align: right;\n",
       "    }\n",
       "</style>\n",
       "<table border=\"1\" class=\"dataframe\">\n",
       "  <thead>\n",
       "    <tr style=\"text-align: right;\">\n",
       "      <th></th>\n",
       "      <th>0</th>\n",
       "      <th>1</th>\n",
       "      <th>message_type</th>\n",
       "      <th>time</th>\n",
       "      <th>model_origin</th>\n",
       "      <th>port</th>\n",
       "      <th>value</th>\n",
       "      <th>model_dest</th>\n",
       "    </tr>\n",
       "  </thead>\n",
       "  <tbody>\n",
       "    <tr>\n",
       "      <th>0</th>\n",
       "      <td>0</td>\n",
       "      <td>L</td>\n",
       "      <td>Y</td>\n",
       "      <td>00:00:00:000</td>\n",
       "      <td>top(09)</td>\n",
       "      <td>out_port</td>\n",
       "      <td>(547250.0, 2750.0, 0.0, 0.0, 447750.0, 2250.0,...</td>\n",
       "      <td>ParallelRoot(00)</td>\n",
       "    </tr>\n",
       "    <tr>\n",
       "      <th>1</th>\n",
       "      <td>0</td>\n",
       "      <td>L</td>\n",
       "      <td>Y</td>\n",
       "      <td>00:00:01:000</td>\n",
       "      <td>top(09)</td>\n",
       "      <td>out_port</td>\n",
       "      <td>(546405.0, 3045.0, 550.0, 0.0, 446952.0, 2498....</td>\n",
       "      <td>ParallelRoot(00)</td>\n",
       "    </tr>\n",
       "    <tr>\n",
       "      <th>2</th>\n",
       "      <td>0</td>\n",
       "      <td>L</td>\n",
       "      <td>Y</td>\n",
       "      <td>00:00:02:000</td>\n",
       "      <td>top(09)</td>\n",
       "      <td>out_port</td>\n",
       "      <td>(545550.0, 3291.0, 1159.0, 0.0, 445604.0, 3237...</td>\n",
       "      <td>ParallelRoot(00)</td>\n",
       "    </tr>\n",
       "    <tr>\n",
       "      <th>3</th>\n",
       "      <td>0</td>\n",
       "      <td>L</td>\n",
       "      <td>Y</td>\n",
       "      <td>00:00:03:000</td>\n",
       "      <td>top(09)</td>\n",
       "      <td>out_port</td>\n",
       "      <td>(544538.0, 3645.0, 1817.0, 0.0, 443354.0, 4829...</td>\n",
       "      <td>ParallelRoot(00)</td>\n",
       "    </tr>\n",
       "    <tr>\n",
       "      <th>4</th>\n",
       "      <td>0</td>\n",
       "      <td>L</td>\n",
       "      <td>Y</td>\n",
       "      <td>00:00:04:000</td>\n",
       "      <td>top(09)</td>\n",
       "      <td>out_port</td>\n",
       "      <td>(543138.0, 4316.0, 2546.0, 0.0, 439974.0, 7480...</td>\n",
       "      <td>ParallelRoot(00)</td>\n",
       "    </tr>\n",
       "    <tr>\n",
       "      <th>5</th>\n",
       "      <td>0</td>\n",
       "      <td>L</td>\n",
       "      <td>Y</td>\n",
       "      <td>00:00:05:000</td>\n",
       "      <td>top(09)</td>\n",
       "      <td>out_port</td>\n",
       "      <td>(543138.0, 3453.0, 3409.0, 0.0, 438257.0, 8334...</td>\n",
       "      <td>ParallelRoot(00)</td>\n",
       "    </tr>\n",
       "    <tr>\n",
       "      <th>6</th>\n",
       "      <td>0</td>\n",
       "      <td>L</td>\n",
       "      <td>Y</td>\n",
       "      <td>00:00:06:000</td>\n",
       "      <td>top(09)</td>\n",
       "      <td>out_port</td>\n",
       "      <td>(541401.0, 4500.0, 4099.0, 0.0, 433416.0, 1248...</td>\n",
       "      <td>ParallelRoot(00)</td>\n",
       "    </tr>\n",
       "    <tr>\n",
       "      <th>7</th>\n",
       "      <td>0</td>\n",
       "      <td>L</td>\n",
       "      <td>Y</td>\n",
       "      <td>00:00:07:000</td>\n",
       "      <td>top(09)</td>\n",
       "      <td>out_port</td>\n",
       "      <td>(538631.0, 6370.0, 4999.0, 0.0, 426158.0, 1884...</td>\n",
       "      <td>ParallelRoot(00)</td>\n",
       "    </tr>\n",
       "    <tr>\n",
       "      <th>8</th>\n",
       "      <td>0</td>\n",
       "      <td>L</td>\n",
       "      <td>Y</td>\n",
       "      <td>00:00:08:000</td>\n",
       "      <td>top(09)</td>\n",
       "      <td>out_port</td>\n",
       "      <td>(534642.0, 9085.0, 6273.0, 0.0, 415565.0, 2816...</td>\n",
       "      <td>ParallelRoot(00)</td>\n",
       "    </tr>\n",
       "    <tr>\n",
       "      <th>9</th>\n",
       "      <td>0</td>\n",
       "      <td>L</td>\n",
       "      <td>Y</td>\n",
       "      <td>00:00:09:000</td>\n",
       "      <td>top(09)</td>\n",
       "      <td>out_port</td>\n",
       "      <td>(528703.0, 13207.0, 8090.0, 0.0, 400626.0, 412...</td>\n",
       "      <td>ParallelRoot(00)</td>\n",
       "    </tr>\n",
       "    <tr>\n",
       "      <th>10</th>\n",
       "      <td>0</td>\n",
       "      <td>L</td>\n",
       "      <td>Y</td>\n",
       "      <td>00:00:10:000</td>\n",
       "      <td>top(09)</td>\n",
       "      <td>out_port</td>\n",
       "      <td>(520039.0, 19230.0, 10731.0, 0.0, 379646.0, 59...</td>\n",
       "      <td>ParallelRoot(00)</td>\n",
       "    </tr>\n",
       "    <tr>\n",
       "      <th>11</th>\n",
       "      <td>0</td>\n",
       "      <td>L</td>\n",
       "      <td>Y</td>\n",
       "      <td>00:00:11:000</td>\n",
       "      <td>top(09)</td>\n",
       "      <td>out_port</td>\n",
       "      <td>(508038.0, 27385.0, 14577.0, 0.0, 351044.0, 84...</td>\n",
       "      <td>ParallelRoot(00)</td>\n",
       "    </tr>\n",
       "    <tr>\n",
       "      <th>12</th>\n",
       "      <td>0</td>\n",
       "      <td>L</td>\n",
       "      <td>Y</td>\n",
       "      <td>00:00:12:000</td>\n",
       "      <td>top(09)</td>\n",
       "      <td>out_port</td>\n",
       "      <td>(491159.0, 38787.0, 20054.0, 0.0, 303272.0, 11...</td>\n",
       "      <td>ParallelRoot(00)</td>\n",
       "    </tr>\n",
       "    <tr>\n",
       "      <th>13</th>\n",
       "      <td>0</td>\n",
       "      <td>L</td>\n",
       "      <td>Y</td>\n",
       "      <td>00:00:13:000</td>\n",
       "      <td>top(09)</td>\n",
       "      <td>out_port</td>\n",
       "      <td>(468900.0, 53289.0, 27811.0, 0.0, 246352.0, 15...</td>\n",
       "      <td>ParallelRoot(00)</td>\n",
       "    </tr>\n",
       "    <tr>\n",
       "      <th>14</th>\n",
       "      <td>0</td>\n",
       "      <td>L</td>\n",
       "      <td>Y</td>\n",
       "      <td>00:00:14:000</td>\n",
       "      <td>top(09)</td>\n",
       "      <td>out_port</td>\n",
       "      <td>(440135.0, 71397.0, 38468.0, 0.0, 181919.0, 19...</td>\n",
       "      <td>ParallelRoot(00)</td>\n",
       "    </tr>\n",
       "    <tr>\n",
       "      <th>15</th>\n",
       "      <td>0</td>\n",
       "      <td>L</td>\n",
       "      <td>Y</td>\n",
       "      <td>00:00:15:000</td>\n",
       "      <td>top(09)</td>\n",
       "      <td>out_port</td>\n",
       "      <td>(405394.0, 91859.0, 52747.0, 0.0, 114271.0, 24...</td>\n",
       "      <td>ParallelRoot(00)</td>\n",
       "    </tr>\n",
       "    <tr>\n",
       "      <th>16</th>\n",
       "      <td>0</td>\n",
       "      <td>L</td>\n",
       "      <td>Y</td>\n",
       "      <td>00:00:16:000</td>\n",
       "      <td>top(09)</td>\n",
       "      <td>out_port</td>\n",
       "      <td>(365833.0, 113049.0, 71118.0, 0.0, 49602.0, 27...</td>\n",
       "      <td>ParallelRoot(00)</td>\n",
       "    </tr>\n",
       "    <tr>\n",
       "      <th>17</th>\n",
       "      <td>0</td>\n",
       "      <td>L</td>\n",
       "      <td>Y</td>\n",
       "      <td>00:00:17:000</td>\n",
       "      <td>top(09)</td>\n",
       "      <td>out_port</td>\n",
       "      <td>(324235.0, 131958.0, 93727.0, 80.0, 0.0, 30273...</td>\n",
       "      <td>ParallelRoot(00)</td>\n",
       "    </tr>\n",
       "    <tr>\n",
       "      <th>18</th>\n",
       "      <td>0</td>\n",
       "      <td>L</td>\n",
       "      <td>Y</td>\n",
       "      <td>00:00:18:000</td>\n",
       "      <td>top(09)</td>\n",
       "      <td>out_port</td>\n",
       "      <td>(273554.0, 146248.0, 120118.0, 10080.0, 0.0, 2...</td>\n",
       "      <td>ParallelRoot(00)</td>\n",
       "    </tr>\n",
       "    <tr>\n",
       "      <th>19</th>\n",
       "      <td>0</td>\n",
       "      <td>L</td>\n",
       "      <td>Y</td>\n",
       "      <td>00:00:19:000</td>\n",
       "      <td>top(09)</td>\n",
       "      <td>out_port</td>\n",
       "      <td>(230354.0, 150199.0, 149367.0, 20080.0, 0.0, 2...</td>\n",
       "      <td>ParallelRoot(00)</td>\n",
       "    </tr>\n",
       "    <tr>\n",
       "      <th>20</th>\n",
       "      <td>0</td>\n",
       "      <td>L</td>\n",
       "      <td>Y</td>\n",
       "      <td>00:00:20:000</td>\n",
       "      <td>top(09)</td>\n",
       "      <td>out_port</td>\n",
       "      <td>(194033.0, 146481.0, 179406.0, 30080.0, 0.0, 2...</td>\n",
       "      <td>ParallelRoot(00)</td>\n",
       "    </tr>\n",
       "    <tr>\n",
       "      <th>21</th>\n",
       "      <td>0</td>\n",
       "      <td>L</td>\n",
       "      <td>Y</td>\n",
       "      <td>00:00:21:000</td>\n",
       "      <td>top(09)</td>\n",
       "      <td>out_port</td>\n",
       "      <td>(163609.0, 137609.0, 208702.0, 40080.0, 0.0, 1...</td>\n",
       "      <td>ParallelRoot(00)</td>\n",
       "    </tr>\n",
       "    <tr>\n",
       "      <th>22</th>\n",
       "      <td>0</td>\n",
       "      <td>L</td>\n",
       "      <td>Y</td>\n",
       "      <td>00:00:22:000</td>\n",
       "      <td>top(09)</td>\n",
       "      <td>out_port</td>\n",
       "      <td>(138124.0, 125573.0, 236223.0, 50080.0, 0.0, 1...</td>\n",
       "      <td>ParallelRoot(00)</td>\n",
       "    </tr>\n",
       "    <tr>\n",
       "      <th>23</th>\n",
       "      <td>0</td>\n",
       "      <td>L</td>\n",
       "      <td>Y</td>\n",
       "      <td>00:00:23:000</td>\n",
       "      <td>top(09)</td>\n",
       "      <td>out_port</td>\n",
       "      <td>(116482.0, 112101.0, 261337.0, 60080.0, 0.0, 1...</td>\n",
       "      <td>ParallelRoot(00)</td>\n",
       "    </tr>\n",
       "    <tr>\n",
       "      <th>24</th>\n",
       "      <td>0</td>\n",
       "      <td>L</td>\n",
       "      <td>Y</td>\n",
       "      <td>00:00:24:000</td>\n",
       "      <td>top(09)</td>\n",
       "      <td>out_port</td>\n",
       "      <td>(98030.0, 98133.0, 283757.0, 70080.0, 0.0, 112...</td>\n",
       "      <td>ParallelRoot(00)</td>\n",
       "    </tr>\n",
       "    <tr>\n",
       "      <th>25</th>\n",
       "      <td>0</td>\n",
       "      <td>L</td>\n",
       "      <td>Y</td>\n",
       "      <td>00:00:25:000</td>\n",
       "      <td>top(09)</td>\n",
       "      <td>out_port</td>\n",
       "      <td>(81926.0, 84611.0, 303383.0, 80080.0, 0.0, 930...</td>\n",
       "      <td>ParallelRoot(00)</td>\n",
       "    </tr>\n",
       "    <tr>\n",
       "      <th>26</th>\n",
       "      <td>0</td>\n",
       "      <td>L</td>\n",
       "      <td>Y</td>\n",
       "      <td>00:00:26:000</td>\n",
       "      <td>top(09)</td>\n",
       "      <td>out_port</td>\n",
       "      <td>(68757.0, 72012.0, 320305.0, 88926.0, 0.0, 761...</td>\n",
       "      <td>ParallelRoot(00)</td>\n",
       "    </tr>\n",
       "    <tr>\n",
       "      <th>27</th>\n",
       "      <td>0</td>\n",
       "      <td>L</td>\n",
       "      <td>Y</td>\n",
       "      <td>00:00:27:000</td>\n",
       "      <td>top(09)</td>\n",
       "      <td>out_port</td>\n",
       "      <td>(60991.0, 59137.0, 334707.0, 95165.0, 0.0, 617...</td>\n",
       "      <td>ParallelRoot(00)</td>\n",
       "    </tr>\n",
       "    <tr>\n",
       "      <th>28</th>\n",
       "      <td>0</td>\n",
       "      <td>L</td>\n",
       "      <td>Y</td>\n",
       "      <td>00:00:28:000</td>\n",
       "      <td>top(09)</td>\n",
       "      <td>out_port</td>\n",
       "      <td>(54172.0, 49582.0, 346534.0, 99712.0, 0.0, 499...</td>\n",
       "      <td>ParallelRoot(00)</td>\n",
       "    </tr>\n",
       "    <tr>\n",
       "      <th>29</th>\n",
       "      <td>0</td>\n",
       "      <td>L</td>\n",
       "      <td>Y</td>\n",
       "      <td>00:00:29:000</td>\n",
       "      <td>top(09)</td>\n",
       "      <td>out_port</td>\n",
       "      <td>(49154.0, 41341.0, 356450.0, 103055.0, 0.0, 40...</td>\n",
       "      <td>ParallelRoot(00)</td>\n",
       "    </tr>\n",
       "    <tr>\n",
       "      <th>30</th>\n",
       "      <td>0</td>\n",
       "      <td>L</td>\n",
       "      <td>Y</td>\n",
       "      <td>00:00:30:000</td>\n",
       "      <td>top(09)</td>\n",
       "      <td>out_port</td>\n",
       "      <td>(45453.0, 34281.0, 364718.0, 105548.0, 0.0, 31...</td>\n",
       "      <td>ParallelRoot(00)</td>\n",
       "    </tr>\n",
       "  </tbody>\n",
       "</table>\n",
       "</div>"
      ],
      "text/plain": [
       "    0  1 message_type          time model_origin      port  \\\n",
       "0   0  L            Y  00:00:00:000      top(09)  out_port   \n",
       "1   0  L            Y  00:00:01:000      top(09)  out_port   \n",
       "2   0  L            Y  00:00:02:000      top(09)  out_port   \n",
       "3   0  L            Y  00:00:03:000      top(09)  out_port   \n",
       "4   0  L            Y  00:00:04:000      top(09)  out_port   \n",
       "5   0  L            Y  00:00:05:000      top(09)  out_port   \n",
       "6   0  L            Y  00:00:06:000      top(09)  out_port   \n",
       "7   0  L            Y  00:00:07:000      top(09)  out_port   \n",
       "8   0  L            Y  00:00:08:000      top(09)  out_port   \n",
       "9   0  L            Y  00:00:09:000      top(09)  out_port   \n",
       "10  0  L            Y  00:00:10:000      top(09)  out_port   \n",
       "11  0  L            Y  00:00:11:000      top(09)  out_port   \n",
       "12  0  L            Y  00:00:12:000      top(09)  out_port   \n",
       "13  0  L            Y  00:00:13:000      top(09)  out_port   \n",
       "14  0  L            Y  00:00:14:000      top(09)  out_port   \n",
       "15  0  L            Y  00:00:15:000      top(09)  out_port   \n",
       "16  0  L            Y  00:00:16:000      top(09)  out_port   \n",
       "17  0  L            Y  00:00:17:000      top(09)  out_port   \n",
       "18  0  L            Y  00:00:18:000      top(09)  out_port   \n",
       "19  0  L            Y  00:00:19:000      top(09)  out_port   \n",
       "20  0  L            Y  00:00:20:000      top(09)  out_port   \n",
       "21  0  L            Y  00:00:21:000      top(09)  out_port   \n",
       "22  0  L            Y  00:00:22:000      top(09)  out_port   \n",
       "23  0  L            Y  00:00:23:000      top(09)  out_port   \n",
       "24  0  L            Y  00:00:24:000      top(09)  out_port   \n",
       "25  0  L            Y  00:00:25:000      top(09)  out_port   \n",
       "26  0  L            Y  00:00:26:000      top(09)  out_port   \n",
       "27  0  L            Y  00:00:27:000      top(09)  out_port   \n",
       "28  0  L            Y  00:00:28:000      top(09)  out_port   \n",
       "29  0  L            Y  00:00:29:000      top(09)  out_port   \n",
       "30  0  L            Y  00:00:30:000      top(09)  out_port   \n",
       "\n",
       "                                                value        model_dest  \n",
       "0   (547250.0, 2750.0, 0.0, 0.0, 447750.0, 2250.0,...  ParallelRoot(00)  \n",
       "1   (546405.0, 3045.0, 550.0, 0.0, 446952.0, 2498....  ParallelRoot(00)  \n",
       "2   (545550.0, 3291.0, 1159.0, 0.0, 445604.0, 3237...  ParallelRoot(00)  \n",
       "3   (544538.0, 3645.0, 1817.0, 0.0, 443354.0, 4829...  ParallelRoot(00)  \n",
       "4   (543138.0, 4316.0, 2546.0, 0.0, 439974.0, 7480...  ParallelRoot(00)  \n",
       "5   (543138.0, 3453.0, 3409.0, 0.0, 438257.0, 8334...  ParallelRoot(00)  \n",
       "6   (541401.0, 4500.0, 4099.0, 0.0, 433416.0, 1248...  ParallelRoot(00)  \n",
       "7   (538631.0, 6370.0, 4999.0, 0.0, 426158.0, 1884...  ParallelRoot(00)  \n",
       "8   (534642.0, 9085.0, 6273.0, 0.0, 415565.0, 2816...  ParallelRoot(00)  \n",
       "9   (528703.0, 13207.0, 8090.0, 0.0, 400626.0, 412...  ParallelRoot(00)  \n",
       "10  (520039.0, 19230.0, 10731.0, 0.0, 379646.0, 59...  ParallelRoot(00)  \n",
       "11  (508038.0, 27385.0, 14577.0, 0.0, 351044.0, 84...  ParallelRoot(00)  \n",
       "12  (491159.0, 38787.0, 20054.0, 0.0, 303272.0, 11...  ParallelRoot(00)  \n",
       "13  (468900.0, 53289.0, 27811.0, 0.0, 246352.0, 15...  ParallelRoot(00)  \n",
       "14  (440135.0, 71397.0, 38468.0, 0.0, 181919.0, 19...  ParallelRoot(00)  \n",
       "15  (405394.0, 91859.0, 52747.0, 0.0, 114271.0, 24...  ParallelRoot(00)  \n",
       "16  (365833.0, 113049.0, 71118.0, 0.0, 49602.0, 27...  ParallelRoot(00)  \n",
       "17  (324235.0, 131958.0, 93727.0, 80.0, 0.0, 30273...  ParallelRoot(00)  \n",
       "18  (273554.0, 146248.0, 120118.0, 10080.0, 0.0, 2...  ParallelRoot(00)  \n",
       "19  (230354.0, 150199.0, 149367.0, 20080.0, 0.0, 2...  ParallelRoot(00)  \n",
       "20  (194033.0, 146481.0, 179406.0, 30080.0, 0.0, 2...  ParallelRoot(00)  \n",
       "21  (163609.0, 137609.0, 208702.0, 40080.0, 0.0, 1...  ParallelRoot(00)  \n",
       "22  (138124.0, 125573.0, 236223.0, 50080.0, 0.0, 1...  ParallelRoot(00)  \n",
       "23  (116482.0, 112101.0, 261337.0, 60080.0, 0.0, 1...  ParallelRoot(00)  \n",
       "24  (98030.0, 98133.0, 283757.0, 70080.0, 0.0, 112...  ParallelRoot(00)  \n",
       "25  (81926.0, 84611.0, 303383.0, 80080.0, 0.0, 930...  ParallelRoot(00)  \n",
       "26  (68757.0, 72012.0, 320305.0, 88926.0, 0.0, 761...  ParallelRoot(00)  \n",
       "27  (60991.0, 59137.0, 334707.0, 95165.0, 0.0, 617...  ParallelRoot(00)  \n",
       "28  (54172.0, 49582.0, 346534.0, 99712.0, 0.0, 499...  ParallelRoot(00)  \n",
       "29  (49154.0, 41341.0, 356450.0, 103055.0, 0.0, 40...  ParallelRoot(00)  \n",
       "30  (45453.0, 34281.0, 364718.0, 105548.0, 0.0, 31...  ParallelRoot(00)  "
      ]
     },
     "execution_count": 21,
     "metadata": {},
     "output_type": "execute_result"
    }
   ],
   "source": [
    "result.logs_dfs['ParallelRoot']"
   ]
  },
  {
   "cell_type": "code",
   "execution_count": 22,
   "metadata": {},
   "outputs": [
    {
     "name": "stdout",
     "output_type": "stream",
     "text": [
      "<class 'pringles.utils.utils.VirtualTime'>\n",
      "<class 'tuple'>\n"
     ]
    }
   ],
   "source": [
    "print(type(result.logs_dfs['ParallelRoot']['time'][0]))\n",
    "print(type(result.logs_dfs['ParallelRoot']['value'][0]))"
   ]
  },
  {
   "cell_type": "code",
   "execution_count": 23,
   "metadata": {},
   "outputs": [
    {
     "data": {
      "text/plain": [
       "<matplotlib.axes._subplots.AxesSubplot at 0x7f9cf0e5e908>"
      ]
     },
     "execution_count": 23,
     "metadata": {},
     "output_type": "execute_result"
    },
    {
     "data": {
      "image/png": "[encoded data removed]",
      "text/plain": [
       "<Figure size 432x288 with 1 Axes>"
      ]
     },
     "metadata": {
      "needs_background": "light"
     },
     "output_type": "display_data"
    }
   ],
   "source": [
    "import matplotlib.pyplot as plt\n",
    "fig, ax = plt.subplots()\n",
    "\n",
    "result.plot_port('top', 'out', axes=ax, index=0)\n",
    "result.plot_port('top', 'out', axes=ax, index=1)\n",
    "result.plot_port('top', 'out', axes=ax, index=2)\n",
    "result.plot_port('top', 'out', axes=ax, index=3)"
   ]
  }
 ],
 "metadata": {
  "kernelspec": {
   "display_name": "Python 3",
   "language": "python",
   "name": "python3"
  },
  "language_info": {
   "codemirror_mode": {
    "name": "ipython",
    "version": 3
   },
   "file_extension": ".py",
   "mimetype": "text/x-python",
   "name": "python",
   "nbconvert_exporter": "python",
   "pygments_lexer": "ipython3",
   "version": "3.7.3"
  }
 },
 "nbformat": 4,
 "nbformat_minor": 4
}
