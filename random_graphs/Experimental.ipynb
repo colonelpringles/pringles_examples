{
 "cells": [
  {
   "cell_type": "markdown",
   "metadata": {},
   "source": [
    "### Graph-based SIR\n",
    "To generate the node atomic models, up to a degree of N (for example, 20), run the following command from `random_graphs/nodes_atomic_generator`:\n",
    "\n",
    "```python model_generator.py -o ../user_models -c ../../cdpp/src -m 20 && make -C ../user_models/```\n",
    "\n",
    "This will generate the atomic sources for each kind of node, and compile CD++ with them."
   ]
  },
  {
   "cell_type": "code",
   "execution_count": 1,
   "metadata": {},
   "outputs": [],
   "source": [
    "from pringles.simulator import Simulator\n",
    "from pringles.models import Coupled\n",
    "from pringles.utils import VirtualTime\n",
    "from pringles.display import ModelDisplay"
   ]
  },
  {
   "cell_type": "code",
   "execution_count": 2,
   "metadata": {},
   "outputs": [],
   "source": [
    "simulator = Simulator(cdpp_bin_path=\"user_models/bin\", user_models_dir=\"user_models/\")"
   ]
  },
  {
   "cell_type": "code",
   "execution_count": 3,
   "metadata": {},
   "outputs": [],
   "source": [
    "r = simulator.get_registry()"
   ]
  },
  {
   "cell_type": "code",
   "execution_count": 24,
   "metadata": {},
   "outputs": [],
   "source": [
    "def build_complete_graph_of_nodes(n, exp_lambda, infection_rate):\n",
    "    nodes = [r.Node1(\"node%d\" % (i), exp_lambda=exp_lambda, infection_prob=infection_rate) for i in range(n)]\n",
    "    graph = Coupled(\"top\", nodes)\n",
    "    for i in range(0,n):\n",
    "        # Connecting i-th node with all others\n",
    "        for j in range(0,n):\n",
    "            if i != j:\n",
    "                graph.add_coupling(nodes[i].get_port(\"out0\"), nodes[j].get_port(\"in0\"))\n",
    "    return graph"
   ]
  },
  {
   "cell_type": "code",
   "execution_count": 27,
   "metadata": {},
   "outputs": [],
   "source": [
    "top = build_complete_graph_of_nodes(5, 1, .5)"
   ]
  },
  {
   "cell_type": "code",
   "execution_count": 28,
   "metadata": {
    "collapsed": true,
    "jupyter": {
     "outputs_hidden": true
    }
   },
   "outputs": [
    {
     "data": {
      "text/html": [
       "\n",
       "        <iframe\n",
       "            width=\"100%\"\n",
       "            height=\"600px\"\n",
       "            src=\"https://colonelpringles.github.io/DEVSDiagrammer/basic.html?options=%7B%22squared_models%22:%20false%2C%20%22show_message_type%22:%20true%2C%20%22show_port_name%22:%20true%2C%20%22compress_in_left%22:%20false%2C%20%22sort_ports_by_name%22:%20true%7D&structure=%7B%22id%22:%20%22top%22%2C%20%22type%22:%20%22coupled%22%2C%20%22models%22:%20%5B%7B%22id%22:%20%22node0%22%2C%20%22type%22:%20%22atomic%22%2C%20%22ports%22:%20%7B%22out%22:%20%5B%7B%22name%22:%20%22out0%22%2C%20%22message_type%22:%20%22Any%22%2C%20%22kind%22:%20%22out%22%7D%5D%2C%20%22in%22:%20%5B%7B%22name%22:%20%22in0%22%2C%20%22message_type%22:%20%22Any%22%2C%20%22kind%22:%20%22in%22%7D%5D%7D%7D%2C%20%7B%22id%22:%20%22node1%22%2C%20%22type%22:%20%22atomic%22%2C%20%22ports%22:%20%7B%22out%22:%20%5B%7B%22name%22:%20%22out0%22%2C%20%22message_type%22:%20%22Any%22%2C%20%22kind%22:%20%22out%22%7D%5D%2C%20%22in%22:%20%5B%7B%22name%22:%20%22in0%22%2C%20%22message_type%22:%20%22Any%22%2C%20%22kind%22:%20%22in%22%7D%5D%7D%7D%2C%20%7B%22id%22:%20%22node2%22%2C%20%22type%22:%20%22atomic%22%2C%20%22ports%22:%20%7B%22out%22:%20%5B%7B%22name%22:%20%22out0%22%2C%20%22message_type%22:%20%22Any%22%2C%20%22kind%22:%20%22out%22%7D%5D%2C%20%22in%22:%20%5B%7B%22name%22:%20%22in0%22%2C%20%22message_type%22:%20%22Any%22%2C%20%22kind%22:%20%22in%22%7D%5D%7D%7D%2C%20%7B%22id%22:%20%22node3%22%2C%20%22type%22:%20%22atomic%22%2C%20%22ports%22:%20%7B%22out%22:%20%5B%7B%22name%22:%20%22out0%22%2C%20%22message_type%22:%20%22Any%22%2C%20%22kind%22:%20%22out%22%7D%5D%2C%20%22in%22:%20%5B%7B%22name%22:%20%22in0%22%2C%20%22message_type%22:%20%22Any%22%2C%20%22kind%22:%20%22in%22%7D%5D%7D%7D%2C%20%7B%22id%22:%20%22node4%22%2C%20%22type%22:%20%22atomic%22%2C%20%22ports%22:%20%7B%22out%22:%20%5B%7B%22name%22:%20%22out0%22%2C%20%22message_type%22:%20%22Any%22%2C%20%22kind%22:%20%22out%22%7D%5D%2C%20%22in%22:%20%5B%7B%22name%22:%20%22in0%22%2C%20%22message_type%22:%20%22Any%22%2C%20%22kind%22:%20%22in%22%7D%5D%7D%7D%5D%2C%20%22ports%22:%20%7B%22out%22:%20%5B%5D%2C%20%22in%22:%20%5B%5D%7D%2C%20%22eoc%22:%20%5B%5D%2C%20%22eic%22:%20%5B%5D%2C%20%22ic%22:%20%5B%7B%22to_port%22:%20%22in0%22%2C%20%22to_model%22:%20%22node1%22%2C%20%22from_port%22:%20%22out0%22%2C%20%22from_model%22:%20%22node0%22%7D%2C%20%7B%22to_port%22:%20%22in0%22%2C%20%22to_model%22:%20%22node2%22%2C%20%22from_port%22:%20%22out0%22%2C%20%22from_model%22:%20%22node0%22%7D%2C%20%7B%22to_port%22:%20%22in0%22%2C%20%22to_model%22:%20%22node3%22%2C%20%22from_port%22:%20%22out0%22%2C%20%22from_model%22:%20%22node0%22%7D%2C%20%7B%22to_port%22:%20%22in0%22%2C%20%22to_model%22:%20%22node4%22%2C%20%22from_port%22:%20%22out0%22%2C%20%22from_model%22:%20%22node0%22%7D%2C%20%7B%22to_port%22:%20%22in0%22%2C%20%22to_model%22:%20%22node0%22%2C%20%22from_port%22:%20%22out0%22%2C%20%22from_model%22:%20%22node1%22%7D%2C%20%7B%22to_port%22:%20%22in0%22%2C%20%22to_model%22:%20%22node2%22%2C%20%22from_port%22:%20%22out0%22%2C%20%22from_model%22:%20%22node1%22%7D%2C%20%7B%22to_port%22:%20%22in0%22%2C%20%22to_model%22:%20%22node3%22%2C%20%22from_port%22:%20%22out0%22%2C%20%22from_model%22:%20%22node1%22%7D%2C%20%7B%22to_port%22:%20%22in0%22%2C%20%22to_model%22:%20%22node4%22%2C%20%22from_port%22:%20%22out0%22%2C%20%22from_model%22:%20%22node1%22%7D%2C%20%7B%22to_port%22:%20%22in0%22%2C%20%22to_model%22:%20%22node0%22%2C%20%22from_port%22:%20%22out0%22%2C%20%22from_model%22:%20%22node2%22%7D%2C%20%7B%22to_port%22:%20%22in0%22%2C%20%22to_model%22:%20%22node1%22%2C%20%22from_port%22:%20%22out0%22%2C%20%22from_model%22:%20%22node2%22%7D%2C%20%7B%22to_port%22:%20%22in0%22%2C%20%22to_model%22:%20%22node3%22%2C%20%22from_port%22:%20%22out0%22%2C%20%22from_model%22:%20%22node2%22%7D%2C%20%7B%22to_port%22:%20%22in0%22%2C%20%22to_model%22:%20%22node4%22%2C%20%22from_port%22:%20%22out0%22%2C%20%22from_model%22:%20%22node2%22%7D%2C%20%7B%22to_port%22:%20%22in0%22%2C%20%22to_model%22:%20%22node0%22%2C%20%22from_port%22:%20%22out0%22%2C%20%22from_model%22:%20%22node3%22%7D%2C%20%7B%22to_port%22:%20%22in0%22%2C%20%22to_model%22:%20%22node1%22%2C%20%22from_port%22:%20%22out0%22%2C%20%22from_model%22:%20%22node3%22%7D%2C%20%7B%22to_port%22:%20%22in0%22%2C%20%22to_model%22:%20%22node2%22%2C%20%22from_port%22:%20%22out0%22%2C%20%22from_model%22:%20%22node3%22%7D%2C%20%7B%22to_port%22:%20%22in0%22%2C%20%22to_model%22:%20%22node4%22%2C%20%22from_port%22:%20%22out0%22%2C%20%22from_model%22:%20%22node3%22%7D%2C%20%7B%22to_port%22:%20%22in0%22%2C%20%22to_model%22:%20%22node0%22%2C%20%22from_port%22:%20%22out0%22%2C%20%22from_model%22:%20%22node4%22%7D%2C%20%7B%22to_port%22:%20%22in0%22%2C%20%22to_model%22:%20%22node1%22%2C%20%22from_port%22:%20%22out0%22%2C%20%22from_model%22:%20%22node4%22%7D%2C%20%7B%22to_port%22:%20%22in0%22%2C%20%22to_model%22:%20%22node2%22%2C%20%22from_port%22:%20%22out0%22%2C%20%22from_model%22:%20%22node4%22%7D%2C%20%7B%22to_port%22:%20%22in0%22%2C%20%22to_model%22:%20%22node3%22%2C%20%22from_port%22:%20%22out0%22%2C%20%22from_model%22:%20%22node4%22%7D%5D%7D\"\n",
       "            frameborder=\"0\"\n",
       "            allowfullscreen\n",
       "        ></iframe>\n",
       "        "
      ],
      "text/plain": [
       "<pringles.display.display.ModelDisplay at 0x118ba6f28>"
      ]
     },
     "execution_count": 28,
     "metadata": {},
     "output_type": "execute_result"
    }
   ],
   "source": [
    "ModelDisplay(top)"
   ]
  },
  {
   "cell_type": "code",
   "execution_count": 29,
   "metadata": {},
   "outputs": [],
   "source": [
    "results = simulator.run_simulation(top, VirtualTime.of_seconds(30))"
   ]
  },
  {
   "cell_type": "code",
   "execution_count": 30,
   "metadata": {},
   "outputs": [
    {
     "name": "stdout",
     "output_type": "stream",
     "text": [
      "dict_keys(['node4', 'node3', 'node2', 'node1', 'node0', 'top', 'ParallelRoot'])\n"
     ]
    }
   ],
   "source": [
    "print(results.logs_dfs.keys())"
   ]
  },
  {
   "cell_type": "code",
   "execution_count": 31,
   "metadata": {},
   "outputs": [
    {
     "name": "stdout",
     "output_type": "stream",
     "text": [
      "Ran command: user_models/bin/cd++ -m/var/folders/kk/51hd52l93nz63xzxf2gd0k080000gp/T/tmpr80sy2y5/top_model -LXY -t00:00:30:000 -l/var/folders/kk/51hd52l93nz63xzxf2gd0k080000gp/T/tmpr80sy2y5/logs -o/var/folders/kk/51hd52l93nz63xzxf2gd0k080000gp/T/tmpr80sy2y5/output\n",
      "\n",
      "PCD++: A Tool to Implement n-Dimensional Cell-DEVS models\n",
      "Version 3.0 - March 2003\n",
      "Troccoli A., Rodriguez D., Wainer G., Barylko A., Beyoglonian J., Lopez A.\n",
      "-----------------------------------------------------------------------------\n",
      "PCD++ Extended States: An extended and improved version of CD++ for Cell-DEVS\n",
      "Version 4.1.2 - December 2018\n",
      "Santi L., Castro, R., Pimás, J.\n",
      "-----------------------------------------------------------------------------\n",
      "Discrete Event Simulation Lab\n",
      "Departamento de Computación\n",
      "Facultad de Ciencias Exactas y Naturales\n",
      "Universidad de Buenos Aires, Argentina\n",
      "-----------------------------------------------------------------------------\n",
      "Compiled for standalone simulation\n",
      "\n",
      "\n",
      "Loading models from /var/folders/kk/51hd52l93nz63xzxf2gd0k080000gp/T/tmpr80sy2y5/top_model\n",
      "Loading events from \n",
      "Running parallel simulation. Reading models partition from \n",
      "Model partition details output to: /dev/null*\n",
      "Message log: /var/folders/kk/51hd52l93nz63xzxf2gd0k080000gp/T/tmpr80sy2y5/logs\n",
      "Output to: /var/folders/kk/51hd52l93nz63xzxf2gd0k080000gp/T/tmpr80sy2y5/output\n",
      "Tolerance set to: 1e-08\n",
      "Configuration to show real numbers: Width = 12 - Precision = 5\n",
      "Quantum: Not used\n",
      "Evaluate Debug Mode = OFF\n",
      "Flat Cell Debug Mode = OFF\n",
      "Debug Cell Rules Mode = OFF\n",
      "Temporary File created by Preprocessor = /var/tmp/tmp.0.rtnpGE\n",
      "Printing parser information = OFF\n",
      "\n",
      "Stop at time: 00:00:30:000:0\n",
      "exponentialLambda: 1\n",
      "infectedProbability: 0.5\n",
      "exponentialLambda: 1\n",
      "infectedProbability: 0.5\n",
      "exponentialLambda: 1\n",
      "infectedProbability: 0.5\n",
      "exponentialLambda: 1\n",
      "infectedProbability: 0.5\n",
      "exponentialLambda: 1\n",
      "infectedProbability: 0.5\n",
      "LP 0: initializing simulation objects\n",
      "LP 0: starting simulation (NoTime).\n",
      "node0 got in infection lottery: 0.569563\n",
      "node0 is healthy at first\n",
      "node1 got in infection lottery: 0.396023\n",
      "node1 is infected at first\n",
      "node2 got in infection lottery: 0.0116397\n",
      "node2 is infected at first\n",
      "node3 got in infection lottery: 0.457191\n",
      "node3 is infected at first\n",
      "node4 got in infection lottery: 0.902743\n",
      "node4 is healthy at first\n",
      "Simulation complete!\n",
      "Simulation ended!\n",
      "LP 0 has finished simulation \n",
      "\n"
     ]
    }
   ],
   "source": [
    "print(\"Ran command: \" + \" \".join(results.process_result.args) + \"\\n\")\n",
    "print(results.get_process_output())"
   ]
  },
  {
   "cell_type": "code",
   "execution_count": 34,
   "metadata": {},
   "outputs": [
    {
     "data": {
      "text/html": [
       "<div>\n",
       "<style scoped>\n",
       "    .dataframe tbody tr th:only-of-type {\n",
       "        vertical-align: middle;\n",
       "    }\n",
       "\n",
       "    .dataframe tbody tr th {\n",
       "        vertical-align: top;\n",
       "    }\n",
       "\n",
       "    .dataframe thead th {\n",
       "        text-align: right;\n",
       "    }\n",
       "</style>\n",
       "<table border=\"1\" class=\"dataframe\">\n",
       "  <thead>\n",
       "    <tr style=\"text-align: right;\">\n",
       "      <th></th>\n",
       "      <th>0</th>\n",
       "      <th>1</th>\n",
       "      <th>message_type</th>\n",
       "      <th>time</th>\n",
       "      <th>model_origin</th>\n",
       "      <th>port</th>\n",
       "      <th>value</th>\n",
       "      <th>model_dest</th>\n",
       "    </tr>\n",
       "  </thead>\n",
       "  <tbody>\n",
       "    <tr>\n",
       "      <th>0</th>\n",
       "      <td>0</td>\n",
       "      <td>L</td>\n",
       "      <td>X</td>\n",
       "      <td>00:00:01:051</td>\n",
       "      <td>top(06)</td>\n",
       "      <td>in0</td>\n",
       "      <td>1.0</td>\n",
       "      <td>node1(02)</td>\n",
       "    </tr>\n",
       "    <tr>\n",
       "      <th>1</th>\n",
       "      <td>0</td>\n",
       "      <td>L</td>\n",
       "      <td>X</td>\n",
       "      <td>00:00:02:453</td>\n",
       "      <td>top(06)</td>\n",
       "      <td>in0</td>\n",
       "      <td>1.0</td>\n",
       "      <td>node1(02)</td>\n",
       "    </tr>\n",
       "    <tr>\n",
       "      <th>2</th>\n",
       "      <td>0</td>\n",
       "      <td>L</td>\n",
       "      <td>X</td>\n",
       "      <td>00:00:03:122</td>\n",
       "      <td>top(06)</td>\n",
       "      <td>in0</td>\n",
       "      <td>1.0</td>\n",
       "      <td>node1(02)</td>\n",
       "    </tr>\n",
       "    <tr>\n",
       "      <th>3</th>\n",
       "      <td>0</td>\n",
       "      <td>L</td>\n",
       "      <td>X</td>\n",
       "      <td>00:00:05:677</td>\n",
       "      <td>top(06)</td>\n",
       "      <td>in0</td>\n",
       "      <td>1.0</td>\n",
       "      <td>node1(02)</td>\n",
       "    </tr>\n",
       "    <tr>\n",
       "      <th>4</th>\n",
       "      <td>0</td>\n",
       "      <td>L</td>\n",
       "      <td>X</td>\n",
       "      <td>00:00:08:572</td>\n",
       "      <td>top(06)</td>\n",
       "      <td>in0</td>\n",
       "      <td>1.0</td>\n",
       "      <td>node1(02)</td>\n",
       "    </tr>\n",
       "  </tbody>\n",
       "</table>\n",
       "</div>"
      ],
      "text/plain": [
       "   0  1 message_type          time model_origin port  value model_dest\n",
       "0  0  L            X  00:00:01:051      top(06)  in0    1.0  node1(02)\n",
       "1  0  L            X  00:00:02:453      top(06)  in0    1.0  node1(02)\n",
       "2  0  L            X  00:00:03:122      top(06)  in0    1.0  node1(02)\n",
       "3  0  L            X  00:00:05:677      top(06)  in0    1.0  node1(02)\n",
       "4  0  L            X  00:00:08:572      top(06)  in0    1.0  node1(02)"
      ]
     },
     "execution_count": 34,
     "metadata": {},
     "output_type": "execute_result"
    }
   ],
   "source": [
    "results.logs_dfs[\"node1\"]"
   ]
  }
 ],
 "metadata": {
  "kernelspec": {
   "display_name": "Python 3",
   "language": "python",
   "name": "python3"
  },
  "language_info": {
   "codemirror_mode": {
    "name": "ipython",
    "version": 3
   },
   "file_extension": ".py",
   "mimetype": "text/x-python",
   "name": "python",
   "nbconvert_exporter": "python",
   "pygments_lexer": "ipython3",
   "version": "3.7.1"
  }
 },
 "nbformat": 4,
 "nbformat_minor": 4
}
