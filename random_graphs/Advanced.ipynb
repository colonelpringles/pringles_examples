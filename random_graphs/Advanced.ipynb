{
 "cells": [
  {
   "cell_type": "markdown",
   "metadata": {},
   "source": [
    "# __Pringles__, _a documentation_, __part 2__\n",
    "\n",
    "In this self-documented document about pringles, we will show: \n",
    "- model metadata\n",
    "- a more large-scale model\n",
    "- working with some python libraries to build the model\n",
    "- run the simulation doing some parameter sweeping\n",
    "- use pandas, matplotlib and some pringles's helpers to analyze the results"
   ]
  },
  {
   "cell_type": "markdown",
   "metadata": {},
   "source": [
    "## What model is on the menu?\n",
    "**Graphs!** This demo will be all about graphs. Graphs seems like a really nice abstraction that can be applied to several systems / phenoma we might want to simulate. \n",
    "\n",
    "In this case, it's no a generic graph, because that will be uninteresting to simulate. Out model is called a **Graph based SIR**, SIR standing for **S**uceptible, **I**nfectious and **R**ecovered. That saying, each node in the graph will be an individual which might start intfected or not, according to a parameter we have in our model called *infection_prob*. When a simulation is initiated, the Node will flip a coin, and with will become infected with $P(startsInfected)=valueOf(infection\\_prob)$. Once started, we have to possibilities, depending on how the model initiates:\n",
    "\n",
    "![Authomata like Node description](resources/graph_based_SIR.png \"Authomata like Node description\")\n",
    "\n",
    "In the image above, you can se how each parameter of node affects its behaviour.\n",
    "\n",
    "Also, it's nice to work with some graph generation and analysis library: networkx. We will work with it, and integrate it with pringles.\n",
    "\n",
    "Let's start by instantiating the Simulator, and saving the *registry* in an easy access variable."
   ]
  },
  {
   "cell_type": "code",
   "execution_count": 1,
   "metadata": {},
   "outputs": [],
   "source": [
    "from pringles.simulator import Simulator, Simulation\n",
    "from pringles.models import Coupled\n",
    "from pringles.utils import VirtualTime"
   ]
  },
  {
   "cell_type": "code",
   "execution_count": 2,
   "metadata": {},
   "outputs": [],
   "source": [
    "# Instantiate the simulator, targeting our own CD++ distribution (obviously with the atomics we are about to use compiled and registered in it),\n",
    "#  and the Atomics directory, from which to extact the __Model Metadata__. A bit more on this below.\n",
    "simulator = Simulator(cdpp_bin_path=\"user_models/bin\", user_models_dir=\"user_models/\")\n",
    "\n",
    "# Get the Atomic models registry in an easy accessible variable, such as 'r'. Short and concise right?\n",
    "r = simulator.get_registry()"
   ]
  },
  {
   "cell_type": "markdown",
   "metadata": {},
   "source": [
    "Now let's look at something interesting. What does targeting the directory where our model sources are located is worth for?\n",
    "\n",
    "Pringles uses some structured comments we defined in the source files of each model, to instantiate the classes of them for you."
   ]
  },
  {
   "cell_type": "code",
   "execution_count": 3,
   "metadata": {},
   "outputs": [
    {
     "name": "stdout",
     "output_type": "stream",
     "text": [
      "Node1  Node10  Node11  Node12  Node13  Node14  Node15  Node16  Node17  Node18  Node19  Node2  Node20  Node3  Node4  Node5  Node6  Node7  Node8  Node9  SUPPORTED_FILE_EXTENSIONS  _add_atomic_class_as_attribute  _discover_atomics  discovered_atomics  get_by_name  user_models_dir\n"
     ]
    }
   ],
   "source": [
    "print(\"  \".join([dict_item for dict_item in dir(r) if not dict_item.startswith(\"__\")]))"
   ]
  },
  {
   "cell_type": "markdown",
   "metadata": {},
   "source": [
    "Those NodeN, with N a number, are our node models. Their classes and ports have been already loaded into the pringles registry.\n",
    "\n",
    "Below, you'll find a detailed explanation of model metadata."
   ]
  },
  {
   "cell_type": "code",
   "execution_count": 4,
   "metadata": {},
   "outputs": [
    {
     "data": {
      "text/plain": [
       "<pringles.models.models.InPort at 0x122bf66d8>"
      ]
     },
     "execution_count": 4,
     "metadata": {},
     "output_type": "execute_result"
    }
   ],
   "source": [
    "r.Node5(\"test\").get_port(\"in4\")"
   ]
  },
  {
   "cell_type": "markdown",
   "metadata": {},
   "source": [
    "## Model Metadata\n",
    "\n",
    "Let's suppose that you don't know abot this model metadata thingy, and that you only have one atomic model in the simulator called __Queue__.\n",
    "In that case, for it to be accessible from pringles, you would have to define a class, inheriting from Atomic. Furthermore, you would need to declare by hand each port the model has.\n",
    "\n",
    "Let's see the __Queue__ example, assuming it just hast two input ports, __job__ and __ready___; and one output port, __jobs_status__ .\n",
    "\n",
    "```python\n",
    "from pringles.models import Atomic\n",
    "\n",
    "class Queue(Atomic):\n",
    "    def __init__(self, name: str, **model_params: str):\n",
    "        super().__init__(name, **model_params)\n",
    "        self.add_output_port(\"job_status\")\n",
    "        self.add_input_port(\"job\")\n",
    "        self.add_input_port(\"ready\")\n",
    "```\n",
    "\n",
    "In my opinions, it's annoying having to write the whole constructor over and over for each Atomic one has already written in C++. Wouldn't it be nice if __pringles__ could read somehow the C++ model implementation?\n",
    "\n",
    "That's when __model metadata__ comes handy!\n",
    "\n",
    "Model metadata is a comment format we defined for you to write over each header file of each Atomic you want for pringles to discover. Let's say (following the prior example) you want the _queue_ to be discovered. In that case, you'd just go to _queue.h_, and somewhere on the file (preferrably over the class definition, just for setting a convention) and add a comment like this one:\n",
    "\n",
    "```c++\n",
    "/*\n",
    "@ModelMetadata\n",
    "name:   Queue\n",
    "input_ports: job, ready\n",
    "output_ports: job_status\n",
    "*/\n",
    "\n",
    "class Queue : public Atomic {\n",
    "    /*\n",
    "    All you lovely CD++ queue impl.\n",
    "    */\n",
    "}\n",
    "```\n",
    "\n",
    "Let's analyze the syntax a little more, just to be clear:\n",
    "\n",
    "```c++\n",
    "/*\n",
    "@ModelMetadata\n",
    "name: Queue                     <- This is the atomic model name, which will become in python the class name you'll instance.\n",
    "input_ports: job, ready         <- comma-separated-list of input ports names\n",
    "output_ports: job_status        <- comma-separated-list of output ports names\n",
    "*/\n",
    "```"
   ]
  },
  {
   "cell_type": "markdown",
   "metadata": {},
   "source": [
    "## Building and analyzing the model"
   ]
  },
  {
   "cell_type": "markdown",
   "metadata": {},
   "source": [
    "Now, back to our model. We are going to work with atomics named **NodeN**, with $1 <= n <= 20$, where NodeN is a vertex with N different input, and output ports. In other words, the *Node5* atomic model has 5 input ports named *in0* to *in4*, and the same for *outM*.\n",
    "\n",
    "According to the model description above, this changes the way in which the *infection* part of the node's behaviour work. Notice that it's not related to the degree-graph-sense of the node, since by using a Node1 (just one input and output port), we can make a vertex of degree 50.\n",
    "\n",
    "We will describe to approaches for building the network (graph) of individuals we want to simulate:\n",
    "- A pure pringles approach\n",
    "- A NetworkX - Pringles mixup"
   ]
  },
  {
   "cell_type": "markdown",
   "metadata": {},
   "source": [
    "### Pure pringles\n",
    "\n",
    "For this approach, we will build a fully-connected-graph. For this, we will use just pringles, and leverage the way in which we built our Node atomics. \n",
    "\n",
    "First, we will a build a function for building a $N$ nodes fully-connected top model, also propagating the parameters of both the $P(infection)$, *infection_prob*, and the inter-infections exponential time mean, *exp_lambda*.\n",
    "\n",
    "Then, we will instantiate a sample model (the parameters should be nonsense), and run a simple simulation."
   ]
  },
  {
   "cell_type": "code",
   "execution_count": 5,
   "metadata": {},
   "outputs": [],
   "source": [
    "def build_complete_graph_of_nodes(n, exp_lambda, infection_rate):\n",
    "    # Instantiate 'n' Node1 atomics. Remember that his ones just have one input port (in0), and one ouput (out0)\n",
    "    nodes = [r.Node1(\"node%d\" % (i), exp_lambda=exp_lambda, infection_prob=infection_rate) for i in range(n)]\n",
    "    # This will be our top coupled, called 'top' obviously, and will all the nodes we created above\n",
    "    graph = Coupled(\"top\", nodes)\n",
    "    # For each pair of different nodes we created, we will connect their only ports.\n",
    "    for i in range(0,n):\n",
    "        for j in range(0,n):\n",
    "            if i != j:\n",
    "                graph.add_coupling(nodes[i].get_port(\"out0\"), nodes[j].get_port(\"in0\"))\n",
    "    return graph"
   ]
  },
  {
   "cell_type": "code",
   "execution_count": 131,
   "metadata": {},
   "outputs": [
    {
     "data": {
      "text/html": [
       "<div id=\"292099038474432d9870a233a3fb1bba\" class=\"devs_diagrammer_wrapper\">\n",
       "\n",
       "  <link rel=\"stylesheet\" href=\"http://localhost:62182/_static/css/style.css\" />\n",
       "\n",
       "  <script src=\"http://localhost:62182/_static/vendors/js/createjs/createjs-2013.12.12.min.js\"></script>\n",
       "  <script src=\"http://localhost:62182/_static/vendors/js/jquery-3.2.1/jquery-3.2.1.min.js\"></script>\n",
       "  <script src=\"http://localhost:62182/_static/js/ColorCodes.js\"></script>\n",
       "  <script src=\"http://localhost:62182/_static/js/main.js\"></script>\n",
       "  <script src=\"http://localhost:62182/_static/js/manifest.js\"></script>\n",
       "  <script src=\"http://localhost:62182/_static/js/toposort.js\"></script>\n",
       "  <script src=\"http://localhost:62182/_static/js/Square.js\"></script>\n",
       "  <script src=\"http://localhost:62182/_static/js/Port.js\"></script>\n",
       "  <script src=\"http://localhost:62182/_static/js/Link.js\"></script>\n",
       "  <script src=\"http://localhost:62182/_static/js/JSONModelGraphics.js\"></script>\n",
       "  <script src=\"http://localhost:62182/_static/js/Model.js\"></script>\n",
       "  <script src=\"http://localhost:62182/_static/js/Canvas.js\"></script>\n",
       " \n",
       "  <script type=\"text/javascript\">\n",
       "    $(document).ready(function () {\n",
       "      console.info(\"About to start drawing model\");\n",
       "      menu_init();\n",
       "      addCanvasFromJson('{\"id\": \"top\", \"type\": \"coupled\", \"models\": [{\"id\": \"node0\", \"type\": \"atomic\", \"ports\": {\"out\": [{\"name\": \"out0\", \"message_type\": \"Any\", \"kind\": \"out\"}], \"in\": [{\"name\": \"in0\", \"message_type\": \"Any\", \"kind\": \"in\"}]}}, {\"id\": \"node1\", \"type\": \"atomic\", \"ports\": {\"out\": [{\"name\": \"out0\", \"message_type\": \"Any\", \"kind\": \"out\"}], \"in\": [{\"name\": \"in0\", \"message_type\": \"Any\", \"kind\": \"in\"}]}}, {\"id\": \"node2\", \"type\": \"atomic\", \"ports\": {\"out\": [{\"name\": \"out0\", \"message_type\": \"Any\", \"kind\": \"out\"}], \"in\": [{\"name\": \"in0\", \"message_type\": \"Any\", \"kind\": \"in\"}]}}, {\"id\": \"node3\", \"type\": \"atomic\", \"ports\": {\"out\": [{\"name\": \"out0\", \"message_type\": \"Any\", \"kind\": \"out\"}], \"in\": [{\"name\": \"in0\", \"message_type\": \"Any\", \"kind\": \"in\"}]}}, {\"id\": \"node4\", \"type\": \"atomic\", \"ports\": {\"out\": [{\"name\": \"out0\", \"message_type\": \"Any\", \"kind\": \"out\"}], \"in\": [{\"name\": \"in0\", \"message_type\": \"Any\", \"kind\": \"in\"}]}}], \"ports\": {\"out\": [], \"in\": []}, \"eoc\": [], \"eic\": [], \"ic\": [{\"to_port\": \"in0\", \"to_model\": \"node1\", \"from_port\": \"out0\", \"from_model\": \"node0\"}, {\"to_port\": \"in0\", \"to_model\": \"node2\", \"from_port\": \"out0\", \"from_model\": \"node0\"}, {\"to_port\": \"in0\", \"to_model\": \"node3\", \"from_port\": \"out0\", \"from_model\": \"node0\"}, {\"to_port\": \"in0\", \"to_model\": \"node4\", \"from_port\": \"out0\", \"from_model\": \"node0\"}, {\"to_port\": \"in0\", \"to_model\": \"node0\", \"from_port\": \"out0\", \"from_model\": \"node1\"}, {\"to_port\": \"in0\", \"to_model\": \"node2\", \"from_port\": \"out0\", \"from_model\": \"node1\"}, {\"to_port\": \"in0\", \"to_model\": \"node3\", \"from_port\": \"out0\", \"from_model\": \"node1\"}, {\"to_port\": \"in0\", \"to_model\": \"node4\", \"from_port\": \"out0\", \"from_model\": \"node1\"}, {\"to_port\": \"in0\", \"to_model\": \"node0\", \"from_port\": \"out0\", \"from_model\": \"node2\"}, {\"to_port\": \"in0\", \"to_model\": \"node1\", \"from_port\": \"out0\", \"from_model\": \"node2\"}, {\"to_port\": \"in0\", \"to_model\": \"node3\", \"from_port\": \"out0\", \"from_model\": \"node2\"}, {\"to_port\": \"in0\", \"to_model\": \"node4\", \"from_port\": \"out0\", \"from_model\": \"node2\"}, {\"to_port\": \"in0\", \"to_model\": \"node0\", \"from_port\": \"out0\", \"from_model\": \"node3\"}, {\"to_port\": \"in0\", \"to_model\": \"node1\", \"from_port\": \"out0\", \"from_model\": \"node3\"}, {\"to_port\": \"in0\", \"to_model\": \"node2\", \"from_port\": \"out0\", \"from_model\": \"node3\"}, {\"to_port\": \"in0\", \"to_model\": \"node4\", \"from_port\": \"out0\", \"from_model\": \"node3\"}, {\"to_port\": \"in0\", \"to_model\": \"node0\", \"from_port\": \"out0\", \"from_model\": \"node4\"}, {\"to_port\": \"in0\", \"to_model\": \"node1\", \"from_port\": \"out0\", \"from_model\": \"node4\"}, {\"to_port\": \"in0\", \"to_model\": \"node2\", \"from_port\": \"out0\", \"from_model\": \"node4\"}, {\"to_port\": \"in0\", \"to_model\": \"node3\", \"from_port\": \"out0\", \"from_model\": \"node4\"}]}', '292099038474432d9870a233a3fb1bba');\n",
       "    });\n",
       "  </script>\n",
       "\n",
       "  <!-- hiden button for export JSON -->\n",
       "  <a id=\"download\" style=\"display:none\"></a>\n",
       "  <!-- hiden button for export JSON -->\n",
       "  <div id=\"devs_diagrammer\">\n",
       "    <div id='body-wrapper'>\n",
       "      <div id=\"models-wrapper\"></div>\n",
       "      <div id=\"menu-wrapper\">\n",
       "        <button id=\"expand_in_new_canvas_selected\" class=\"action bp3-button bp3-minimal\" type=\"button\">Expand in new canvas</button>\n",
       "        <button class=\"action bp3-button bp3-minimal\" type=\"button\" onclick=\"remove_selected_top_models();\">Remove model</button>\n",
       "        <button class=\"action bp3-button bp3-minimal\" type=\"button\" onclick=\"toggle_models_selected();\">Expand / Contract</button>\n",
       "        <button class=\"action bp3-button bp3-minimal\" type=\"button\" onclick=\"toggle_links_selected();\">Show / Hide all links</button>\n",
       "        <button class=\"action bp3-button bp3-minimal\" type=\"button\" onclick=\"show_submodel_links_selected();\">Show / Hide model links</button>\n",
       "        <button class=\"action bp3-button bp3-minimal\" type=\"button\" onclick=\"toggle_port_name_selected();\">Show / Hide port names</button>\n",
       "      </div>\n",
       "    </div>\n",
       "  </div>\n",
       "</div>"
      ],
      "text/plain": [
       "<pringles.models.models.Coupled at 0x127262588>"
      ]
     },
     "execution_count": 131,
     "metadata": {},
     "output_type": "execute_result"
    }
   ],
   "source": [
    "# Now, let's instantiate a sample 5 vertexes SIR model.\n",
    "sample_five_node_graph = build_complete_graph_of_nodes(5, 2, .5)\n",
    "# NOTE-INTERNAL: I have to run the cell twice in order for Diagrammer for rendering the HTML-representation. Also, sometimes is rendered horribly.\n",
    "# Notice that we binded Jupyter's rich display environment with our Model implementation.\n",
    "sample_five_node_graph"
   ]
  },
  {
   "cell_type": "code",
   "execution_count": 132,
   "metadata": {},
   "outputs": [],
   "source": [
    "# We instantiate the Simulation we are about to run. In case you didn't notice, Simulation objects are immutable once instantiated. \n",
    "# This helps having one container for the whole simulation you've ran, and will make things be more ordered.\n",
    "\n",
    "# The simulation will be of our recently-created 5-node top model, and will be ran for 60 seconds. You can check out the other VirtualTime helpers, or use the main constructor.\n",
    "sample_simulation = Simulation(sample_five_node_graph, VirtualTime.of_minutes(10))\n",
    "sample_simulation_results = simulator.run_simulation(sample_simulation)"
   ]
  },
  {
   "cell_type": "markdown",
   "metadata": {},
   "source": [
    "By running the simulation, we obtain a **SimulationResult** object. This contains among other things, a *pandas dataframe*  for each model participating in the simulation, with its parsed logs. **For the moment, just the output and external transitions are recorded.**\n",
    "\n",
    "This collection of dataframes is accessed as shown below:"
   ]
  },
  {
   "cell_type": "code",
   "execution_count": 133,
   "metadata": {},
   "outputs": [
    {
     "data": {
      "text/plain": [
       "dict_keys(['node4', 'node3', 'node2', 'node1', 'node0', 'top', 'ParallelRoot'])"
      ]
     },
     "execution_count": 133,
     "metadata": {},
     "output_type": "execute_result"
    }
   ],
   "source": [
    "# sample_simulation_results.logs_dfs is a Dict[model_name: str, data: pandas.Dataframe]\n",
    "sample_simulation_results.logs_dfs.keys()"
   ]
  },
  {
   "cell_type": "markdown",
   "metadata": {},
   "source": [
    "As a side note, because this model involves non-deterministic behaviour, it's possible you will have to run the simulation several times in order to observe some behaviour. At least with a 5-node model."
   ]
  },
  {
   "cell_type": "code",
   "execution_count": 134,
   "metadata": {},
   "outputs": [
    {
     "data": {
      "text/html": [
       "<div>\n",
       "<style scoped>\n",
       "    .dataframe tbody tr th:only-of-type {\n",
       "        vertical-align: middle;\n",
       "    }\n",
       "\n",
       "    .dataframe tbody tr th {\n",
       "        vertical-align: top;\n",
       "    }\n",
       "\n",
       "    .dataframe thead th {\n",
       "        text-align: right;\n",
       "    }\n",
       "</style>\n",
       "<table border=\"1\" class=\"dataframe\">\n",
       "  <thead>\n",
       "    <tr style=\"text-align: right;\">\n",
       "      <th></th>\n",
       "      <th>0</th>\n",
       "      <th>1</th>\n",
       "      <th>message_type</th>\n",
       "      <th>time</th>\n",
       "      <th>model_origin</th>\n",
       "      <th>port</th>\n",
       "      <th>value</th>\n",
       "      <th>model_dest</th>\n",
       "    </tr>\n",
       "  </thead>\n",
       "  <tbody>\n",
       "    <tr>\n",
       "      <th>0</th>\n",
       "      <td>0</td>\n",
       "      <td>L</td>\n",
       "      <td>X</td>\n",
       "      <td>00:00:00:879</td>\n",
       "      <td>top(06)</td>\n",
       "      <td>in0</td>\n",
       "      <td>1.0</td>\n",
       "      <td>node0(01)</td>\n",
       "    </tr>\n",
       "    <tr>\n",
       "      <th>1</th>\n",
       "      <td>0</td>\n",
       "      <td>L</td>\n",
       "      <td>X</td>\n",
       "      <td>00:00:00:910</td>\n",
       "      <td>top(06)</td>\n",
       "      <td>in0</td>\n",
       "      <td>1.0</td>\n",
       "      <td>node0(01)</td>\n",
       "    </tr>\n",
       "    <tr>\n",
       "      <th>2</th>\n",
       "      <td>0</td>\n",
       "      <td>L</td>\n",
       "      <td>X</td>\n",
       "      <td>00:00:01:369</td>\n",
       "      <td>top(06)</td>\n",
       "      <td>in0</td>\n",
       "      <td>1.0</td>\n",
       "      <td>node0(01)</td>\n",
       "    </tr>\n",
       "    <tr>\n",
       "      <th>3</th>\n",
       "      <td>0</td>\n",
       "      <td>L</td>\n",
       "      <td>X</td>\n",
       "      <td>00:00:01:800</td>\n",
       "      <td>top(06)</td>\n",
       "      <td>in0</td>\n",
       "      <td>1.0</td>\n",
       "      <td>node0(01)</td>\n",
       "    </tr>\n",
       "    <tr>\n",
       "      <th>4</th>\n",
       "      <td>0</td>\n",
       "      <td>L</td>\n",
       "      <td>X</td>\n",
       "      <td>00:00:04:079</td>\n",
       "      <td>top(06)</td>\n",
       "      <td>in0</td>\n",
       "      <td>1.0</td>\n",
       "      <td>node0(01)</td>\n",
       "    </tr>\n",
       "    <tr>\n",
       "      <th>5</th>\n",
       "      <td>0</td>\n",
       "      <td>L</td>\n",
       "      <td>X</td>\n",
       "      <td>00:00:04:343</td>\n",
       "      <td>top(06)</td>\n",
       "      <td>in0</td>\n",
       "      <td>1.0</td>\n",
       "      <td>node0(01)</td>\n",
       "    </tr>\n",
       "  </tbody>\n",
       "</table>\n",
       "</div>"
      ],
      "text/plain": [
       "   0  1 message_type          time model_origin port  value model_dest\n",
       "0  0  L            X  00:00:00:879      top(06)  in0    1.0  node0(01)\n",
       "1  0  L            X  00:00:00:910      top(06)  in0    1.0  node0(01)\n",
       "2  0  L            X  00:00:01:369      top(06)  in0    1.0  node0(01)\n",
       "3  0  L            X  00:00:01:800      top(06)  in0    1.0  node0(01)\n",
       "4  0  L            X  00:00:04:079      top(06)  in0    1.0  node0(01)\n",
       "5  0  L            X  00:00:04:343      top(06)  in0    1.0  node0(01)"
      ]
     },
     "execution_count": 134,
     "metadata": {},
     "output_type": "execute_result"
    }
   ],
   "source": [
    "non_empty_model_name = None\n",
    "for model_name in sample_simulation_results.logs_dfs.keys():\n",
    "    if sample_simulation_results.logs_dfs[model_name].size > 0 \\\n",
    "        and model_name.startswith('node'):\n",
    "        non_empty_model_name = model_name\n",
    "\n",
    "sample_simulation_results.logs_dfs[non_empty_model_name]"
   ]
  },
  {
   "cell_type": "markdown",
   "metadata": {},
   "source": [
    "Now that we can access the results of the simulation, lets do a little of dataframe processing. We will abstract all this in some function, so we can later re-use it with the *NetworkX* approach.\n",
    "\n",
    "First, let's concatenate all node-models dataframes into one, and sort it by the time the transitions occurred at."
   ]
  },
  {
   "cell_type": "code",
   "execution_count": 135,
   "metadata": {},
   "outputs": [],
   "source": [
    "import pandas as pd # We will do some dataframe processing\n",
    "import matplotlib.pyplot as plt # We will build some custom plots, leveraging pringles vtime autoformat"
   ]
  },
  {
   "cell_type": "code",
   "execution_count": 136,
   "metadata": {},
   "outputs": [
    {
     "data": {
      "text/html": [
       "<div>\n",
       "<style scoped>\n",
       "    .dataframe tbody tr th:only-of-type {\n",
       "        vertical-align: middle;\n",
       "    }\n",
       "\n",
       "    .dataframe tbody tr th {\n",
       "        vertical-align: top;\n",
       "    }\n",
       "\n",
       "    .dataframe thead th {\n",
       "        text-align: right;\n",
       "    }\n",
       "</style>\n",
       "<table border=\"1\" class=\"dataframe\">\n",
       "  <thead>\n",
       "    <tr style=\"text-align: right;\">\n",
       "      <th></th>\n",
       "      <th>0</th>\n",
       "      <th>1</th>\n",
       "      <th>message_type</th>\n",
       "      <th>time</th>\n",
       "      <th>model_origin</th>\n",
       "      <th>port</th>\n",
       "      <th>value</th>\n",
       "      <th>model_dest</th>\n",
       "    </tr>\n",
       "  </thead>\n",
       "  <tbody>\n",
       "    <tr>\n",
       "      <th>0</th>\n",
       "      <td>0</td>\n",
       "      <td>L</td>\n",
       "      <td>X</td>\n",
       "      <td>00:00:00:879</td>\n",
       "      <td>top(06)</td>\n",
       "      <td>in0</td>\n",
       "      <td>1.0</td>\n",
       "      <td>node4(05)</td>\n",
       "    </tr>\n",
       "    <tr>\n",
       "      <th>0</th>\n",
       "      <td>0</td>\n",
       "      <td>L</td>\n",
       "      <td>X</td>\n",
       "      <td>00:00:00:879</td>\n",
       "      <td>top(06)</td>\n",
       "      <td>in0</td>\n",
       "      <td>1.0</td>\n",
       "      <td>node0(01)</td>\n",
       "    </tr>\n",
       "    <tr>\n",
       "      <th>0</th>\n",
       "      <td>0</td>\n",
       "      <td>L</td>\n",
       "      <td>X</td>\n",
       "      <td>00:00:00:879</td>\n",
       "      <td>top(06)</td>\n",
       "      <td>in0</td>\n",
       "      <td>1.0</td>\n",
       "      <td>node1(02)</td>\n",
       "    </tr>\n",
       "    <tr>\n",
       "      <th>0</th>\n",
       "      <td>0</td>\n",
       "      <td>L</td>\n",
       "      <td>X</td>\n",
       "      <td>00:00:00:879</td>\n",
       "      <td>top(06)</td>\n",
       "      <td>in0</td>\n",
       "      <td>1.0</td>\n",
       "      <td>node3(04)</td>\n",
       "    </tr>\n",
       "    <tr>\n",
       "      <th>1</th>\n",
       "      <td>0</td>\n",
       "      <td>L</td>\n",
       "      <td>X</td>\n",
       "      <td>00:00:00:910</td>\n",
       "      <td>top(06)</td>\n",
       "      <td>in0</td>\n",
       "      <td>1.0</td>\n",
       "      <td>node0(01)</td>\n",
       "    </tr>\n",
       "    <tr>\n",
       "      <th>1</th>\n",
       "      <td>0</td>\n",
       "      <td>L</td>\n",
       "      <td>X</td>\n",
       "      <td>00:00:00:910</td>\n",
       "      <td>top(06)</td>\n",
       "      <td>in0</td>\n",
       "      <td>1.0</td>\n",
       "      <td>node3(04)</td>\n",
       "    </tr>\n",
       "    <tr>\n",
       "      <th>0</th>\n",
       "      <td>0</td>\n",
       "      <td>L</td>\n",
       "      <td>X</td>\n",
       "      <td>00:00:00:910</td>\n",
       "      <td>top(06)</td>\n",
       "      <td>in0</td>\n",
       "      <td>1.0</td>\n",
       "      <td>node2(03)</td>\n",
       "    </tr>\n",
       "    <tr>\n",
       "      <th>1</th>\n",
       "      <td>0</td>\n",
       "      <td>L</td>\n",
       "      <td>X</td>\n",
       "      <td>00:00:00:910</td>\n",
       "      <td>top(06)</td>\n",
       "      <td>in0</td>\n",
       "      <td>1.0</td>\n",
       "      <td>node4(05)</td>\n",
       "    </tr>\n",
       "    <tr>\n",
       "      <th>2</th>\n",
       "      <td>0</td>\n",
       "      <td>L</td>\n",
       "      <td>X</td>\n",
       "      <td>00:00:01:369</td>\n",
       "      <td>top(06)</td>\n",
       "      <td>in0</td>\n",
       "      <td>1.0</td>\n",
       "      <td>node3(04)</td>\n",
       "    </tr>\n",
       "    <tr>\n",
       "      <th>1</th>\n",
       "      <td>0</td>\n",
       "      <td>L</td>\n",
       "      <td>X</td>\n",
       "      <td>00:00:01:369</td>\n",
       "      <td>top(06)</td>\n",
       "      <td>in0</td>\n",
       "      <td>1.0</td>\n",
       "      <td>node2(03)</td>\n",
       "    </tr>\n",
       "    <tr>\n",
       "      <th>2</th>\n",
       "      <td>0</td>\n",
       "      <td>L</td>\n",
       "      <td>X</td>\n",
       "      <td>00:00:01:369</td>\n",
       "      <td>top(06)</td>\n",
       "      <td>in0</td>\n",
       "      <td>1.0</td>\n",
       "      <td>node0(01)</td>\n",
       "    </tr>\n",
       "    <tr>\n",
       "      <th>1</th>\n",
       "      <td>0</td>\n",
       "      <td>L</td>\n",
       "      <td>X</td>\n",
       "      <td>00:00:01:369</td>\n",
       "      <td>top(06)</td>\n",
       "      <td>in0</td>\n",
       "      <td>1.0</td>\n",
       "      <td>node1(02)</td>\n",
       "    </tr>\n",
       "    <tr>\n",
       "      <th>3</th>\n",
       "      <td>0</td>\n",
       "      <td>L</td>\n",
       "      <td>X</td>\n",
       "      <td>00:00:01:800</td>\n",
       "      <td>top(06)</td>\n",
       "      <td>in0</td>\n",
       "      <td>1.0</td>\n",
       "      <td>node3(04)</td>\n",
       "    </tr>\n",
       "    <tr>\n",
       "      <th>3</th>\n",
       "      <td>0</td>\n",
       "      <td>L</td>\n",
       "      <td>X</td>\n",
       "      <td>00:00:01:800</td>\n",
       "      <td>top(06)</td>\n",
       "      <td>in0</td>\n",
       "      <td>1.0</td>\n",
       "      <td>node0(01)</td>\n",
       "    </tr>\n",
       "    <tr>\n",
       "      <th>2</th>\n",
       "      <td>0</td>\n",
       "      <td>L</td>\n",
       "      <td>X</td>\n",
       "      <td>00:00:01:800</td>\n",
       "      <td>top(06)</td>\n",
       "      <td>in0</td>\n",
       "      <td>1.0</td>\n",
       "      <td>node2(03)</td>\n",
       "    </tr>\n",
       "    <tr>\n",
       "      <th>2</th>\n",
       "      <td>0</td>\n",
       "      <td>L</td>\n",
       "      <td>X</td>\n",
       "      <td>00:00:01:800</td>\n",
       "      <td>top(06)</td>\n",
       "      <td>in0</td>\n",
       "      <td>1.0</td>\n",
       "      <td>node4(05)</td>\n",
       "    </tr>\n",
       "    <tr>\n",
       "      <th>4</th>\n",
       "      <td>0</td>\n",
       "      <td>L</td>\n",
       "      <td>X</td>\n",
       "      <td>00:00:04:079</td>\n",
       "      <td>top(06)</td>\n",
       "      <td>in0</td>\n",
       "      <td>1.0</td>\n",
       "      <td>node3(04)</td>\n",
       "    </tr>\n",
       "    <tr>\n",
       "      <th>4</th>\n",
       "      <td>0</td>\n",
       "      <td>L</td>\n",
       "      <td>X</td>\n",
       "      <td>00:00:04:079</td>\n",
       "      <td>top(06)</td>\n",
       "      <td>in0</td>\n",
       "      <td>1.0</td>\n",
       "      <td>node0(01)</td>\n",
       "    </tr>\n",
       "    <tr>\n",
       "      <th>3</th>\n",
       "      <td>0</td>\n",
       "      <td>L</td>\n",
       "      <td>X</td>\n",
       "      <td>00:00:04:079</td>\n",
       "      <td>top(06)</td>\n",
       "      <td>in0</td>\n",
       "      <td>1.0</td>\n",
       "      <td>node2(03)</td>\n",
       "    </tr>\n",
       "    <tr>\n",
       "      <th>3</th>\n",
       "      <td>0</td>\n",
       "      <td>L</td>\n",
       "      <td>X</td>\n",
       "      <td>00:00:04:079</td>\n",
       "      <td>top(06)</td>\n",
       "      <td>in0</td>\n",
       "      <td>1.0</td>\n",
       "      <td>node4(05)</td>\n",
       "    </tr>\n",
       "    <tr>\n",
       "      <th>4</th>\n",
       "      <td>0</td>\n",
       "      <td>L</td>\n",
       "      <td>X</td>\n",
       "      <td>00:00:04:343</td>\n",
       "      <td>top(06)</td>\n",
       "      <td>in0</td>\n",
       "      <td>1.0</td>\n",
       "      <td>node2(03)</td>\n",
       "    </tr>\n",
       "    <tr>\n",
       "      <th>5</th>\n",
       "      <td>0</td>\n",
       "      <td>L</td>\n",
       "      <td>X</td>\n",
       "      <td>00:00:04:343</td>\n",
       "      <td>top(06)</td>\n",
       "      <td>in0</td>\n",
       "      <td>1.0</td>\n",
       "      <td>node3(04)</td>\n",
       "    </tr>\n",
       "    <tr>\n",
       "      <th>4</th>\n",
       "      <td>0</td>\n",
       "      <td>L</td>\n",
       "      <td>X</td>\n",
       "      <td>00:00:04:343</td>\n",
       "      <td>top(06)</td>\n",
       "      <td>in0</td>\n",
       "      <td>1.0</td>\n",
       "      <td>node4(05)</td>\n",
       "    </tr>\n",
       "    <tr>\n",
       "      <th>5</th>\n",
       "      <td>0</td>\n",
       "      <td>L</td>\n",
       "      <td>X</td>\n",
       "      <td>00:00:04:343</td>\n",
       "      <td>top(06)</td>\n",
       "      <td>in0</td>\n",
       "      <td>1.0</td>\n",
       "      <td>node0(01)</td>\n",
       "    </tr>\n",
       "  </tbody>\n",
       "</table>\n",
       "</div>"
      ],
      "text/plain": [
       "   0  1 message_type          time model_origin port  value model_dest\n",
       "0  0  L            X  00:00:00:879      top(06)  in0    1.0  node4(05)\n",
       "0  0  L            X  00:00:00:879      top(06)  in0    1.0  node0(01)\n",
       "0  0  L            X  00:00:00:879      top(06)  in0    1.0  node1(02)\n",
       "0  0  L            X  00:00:00:879      top(06)  in0    1.0  node3(04)\n",
       "1  0  L            X  00:00:00:910      top(06)  in0    1.0  node0(01)\n",
       "1  0  L            X  00:00:00:910      top(06)  in0    1.0  node3(04)\n",
       "0  0  L            X  00:00:00:910      top(06)  in0    1.0  node2(03)\n",
       "1  0  L            X  00:00:00:910      top(06)  in0    1.0  node4(05)\n",
       "2  0  L            X  00:00:01:369      top(06)  in0    1.0  node3(04)\n",
       "1  0  L            X  00:00:01:369      top(06)  in0    1.0  node2(03)\n",
       "2  0  L            X  00:00:01:369      top(06)  in0    1.0  node0(01)\n",
       "1  0  L            X  00:00:01:369      top(06)  in0    1.0  node1(02)\n",
       "3  0  L            X  00:00:01:800      top(06)  in0    1.0  node3(04)\n",
       "3  0  L            X  00:00:01:800      top(06)  in0    1.0  node0(01)\n",
       "2  0  L            X  00:00:01:800      top(06)  in0    1.0  node2(03)\n",
       "2  0  L            X  00:00:01:800      top(06)  in0    1.0  node4(05)\n",
       "4  0  L            X  00:00:04:079      top(06)  in0    1.0  node3(04)\n",
       "4  0  L            X  00:00:04:079      top(06)  in0    1.0  node0(01)\n",
       "3  0  L            X  00:00:04:079      top(06)  in0    1.0  node2(03)\n",
       "3  0  L            X  00:00:04:079      top(06)  in0    1.0  node4(05)\n",
       "4  0  L            X  00:00:04:343      top(06)  in0    1.0  node2(03)\n",
       "5  0  L            X  00:00:04:343      top(06)  in0    1.0  node3(04)\n",
       "4  0  L            X  00:00:04:343      top(06)  in0    1.0  node4(05)\n",
       "5  0  L            X  00:00:04:343      top(06)  in0    1.0  node0(01)"
      ]
     },
     "execution_count": 136,
     "metadata": {},
     "output_type": "execute_result"
    }
   ],
   "source": [
    "def merge_all_nodes_results(results):\n",
    "    # Concatenating all nodes external transitions\n",
    "    nodes_external_transitions = pd.concat([results.logs_dfs[node_id] for node_id in results.logs_dfs.keys() if node_id.startswith(\"node\")])\n",
    "    # Sort it by Vtime. This is possible since VirtualTime implements all comparison and equality operators in Python\n",
    "    nodes_external_transitions = nodes_external_transitions.sort_values(by=[\"time\"])\n",
    "    return nodes_external_transitions\n",
    "\n",
    "nodes_external_transitions = merge_all_nodes_results(sample_simulation_results)\n",
    "nodes_external_transitions"
   ]
  },
  {
   "cell_type": "markdown",
   "metadata": {},
   "source": [
    "Let's analyze some simple behaviour of the model, for example, the accumulated distribution of infections over time. \n",
    "We know that an external transition of a *HEALTHY* node occurs when an infected one sends a message to the former one.\n",
    "\n",
    "Let's drop all unused data in the dataframe, and calculate how many infection get accumulated over time."
   ]
  },
  {
   "cell_type": "code",
   "execution_count": 137,
   "metadata": {},
   "outputs": [],
   "source": [
    "def calculate_accumulated_infections(nodes_external_transitions):\n",
    "    # Count the quantity of external transition over time\n",
    "    infections_count = nodes_external_transitions.groupby(\"time\").count()\n",
    "    # Drop all unused columns of dataframe\n",
    "    infections_count = infections_count.drop([0, 1, \"message_type\", \"model_origin\", \"port\", \"model_dest\"], axis=1)\n",
    "    infections_count = infections_count.rename({\"value\":\"infections_count\"}, axis=1)\n",
    "    \n",
    "    # Since all infection are separated into buckets by its occurring time, let's accumulate them\n",
    "    accum_infections = [0] * len(list(infections_count.infections_count))\n",
    "    for i, c in enumerate(list(infections_count.infections_count)):\n",
    "        if i == 0:\n",
    "            accum_infections[i] = c\n",
    "        else:\n",
    "            accum_infections[i] = accum_infections[i-1] + c\n",
    "            \n",
    "    # Also, let's obtain the time of each accumulation bucket\n",
    "    times = list(infections_count.index)\n",
    "    \n",
    "    return times, accum_infections\n",
    "\n",
    "infection_times, accum_infections = calculate_accumulated_infections(nodes_external_transitions)"
   ]
  },
  {
   "cell_type": "markdown",
   "metadata": {},
   "source": [
    "Once we calculated the infection accumulated over time, let's draw a plot of them. \n",
    "\n",
    "Since the X-axis we want is time, and we are representing it as VirtualTime, we need some way to map this to matplotlib. Fortunately, pringles come with a custom Matplotlib axes generator, which knows how to automatically render and convert the VirtualTime time repsentations."
   ]
  },
  {
   "cell_type": "code",
   "execution_count": 138,
   "metadata": {},
   "outputs": [
    {
     "data": {
      "image/png": "[encoded data removed]",
      "text/plain": [
       "<Figure size 432x288 with 1 Axes>"
      ]
     },
     "metadata": {
      "needs_background": "light"
     },
     "output_type": "display_data"
    }
   ],
   "source": [
    "from pringles.utils import new_vtime_aware_axes\n",
    "\n",
    "def plot_infections_over_time(times, infections):\n",
    "    # New axes\n",
    "    ax = new_vtime_aware_axes()\n",
    "    # Let's set the x-axis limit to the max time we've found, plus a little more.\n",
    "    ax.set_xlim(0, max([float(vtime) for vtime in times])+float(VirtualTime.from_number(1000)))\n",
    "    # Plot!\n",
    "    ax.plot(times, infections)\n",
    "    ax\n",
    "    \n",
    "plot_infections_over_time(infection_times, accum_infections)"
   ]
  },
  {
   "cell_type": "markdown",
   "metadata": {},
   "source": [
    "TODO: Add restrospective here"
   ]
  },
  {
   "cell_type": "markdown",
   "metadata": {},
   "source": [
    "### Configuration model graph generation"
   ]
  },
  {
   "cell_type": "markdown",
   "metadata": {},
   "source": [
    "This second approach consists of leveraging *networkx* random graph generation capabilites, interfacing this with *pringles* to build a model from that graph's description, and simulating the same.\n",
    "\n",
    "The method used for generating a random graph is called **configuration model**. The explanation of this method is outside the scope of this document, but for reference, lets just quote [wikipedia](https://en.wikipedia.org/wiki/Configuration_model).\n",
    "\n",
    "For this example, the graph generation code has been hidden inside the *RandomGraphGenerator* class, since this is all the random plus networkx boilerplate. You are encouraged to take a look either way. For this doc sake, the only thing you have to be aware of is that the generated graph is a [NetworkX Graph](https://networkx.github.io/documentation/stable/reference/classes/graph.html)."
   ]
  },
  {
   "cell_type": "code",
   "execution_count": 81,
   "metadata": {},
   "outputs": [
    {
     "data": {
      "text/plain": [
       "<networkx.classes.multigraph.MultiGraph at 0x1269be128>"
      ]
     },
     "execution_count": 81,
     "metadata": {},
     "output_type": "execute_result"
    }
   ],
   "source": [
    "from generator.graphs import RandomGraphGenerator\n",
    "\n",
    "random_graph = RandomGraphGenerator(75).generate()\n",
    "random_graph"
   ]
  },
  {
   "cell_type": "markdown",
   "metadata": {},
   "source": [
    "Now that we have our graph, using the API exposed by networkx, let's build a coupled model with pringles."
   ]
  },
  {
   "cell_type": "code",
   "execution_count": 82,
   "metadata": {},
   "outputs": [],
   "source": [
    "from typing import Dict\n",
    "import networkx as nx\n",
    "\n",
    "def build_graph_model_from_nx_graph(graph: nx.Graph, exp_lambda, infection_rate):\n",
    "    # Fist, for each vertex in the graph, we acquire the degree of that node\n",
    "    nodes_degrees = [graph.degree(i) for i in range(len(graph.nodes))]\n",
    "    max_degree = max(nodes_degrees)\n",
    "    # Just for checking, we fail if some vertex has degree over 20 (our biggest Node atomic has that value)\n",
    "    if max_degree > 20:\n",
    "        raise Exception(\"Do no have models of degree above 20\")\n",
    "    # We create a Node atomic of degree 'd', for each vertex in the graph\n",
    "\n",
    "    # Notice how we fetch from the registry the Atomic's classes by their name, this is helpful if we want some custom mapping\n",
    "    # from a any value of type D, to an Atomic class. Obviously in that case, we need to encode that D characteristic inside the \n",
    "    # atomic class name.\n",
    "    nodes = [r.get_by_name(\"Node%d\" % (degree))(\"node%d\" % (i), exp_lambda=exp_lambda, infection_prob=infection_rate) \n",
    "             for i, degree in enumerate(nodes_degrees)]\n",
    "\n",
    "    # Our top model\n",
    "    pringles_graph = Coupled(\"top\", nodes)\n",
    "    \n",
    "    # Some boilerplate code for remembering the last assigned port in each node, so we don't overwrite any of them\n",
    "    _last_out_node = {}\n",
    "    _last_in_node = {}\n",
    "    def do_get_last_port(u: int, dic: Dict[int, int], portname: str):\n",
    "        if u not in dic:\n",
    "            dic[u] = 0\n",
    "            return portname + \"0\"\n",
    "        else:\n",
    "            last = dic[u]\n",
    "            dic[u] = last+1\n",
    "            return portname + \"%d\" % (last+1)\n",
    "    def last_out_port(u):\n",
    "        return do_get_last_port(u, _last_out_node, \"out\")\n",
    "    def last_in_port(u):\n",
    "        return do_get_last_port(u, _last_in_node, \"in\")\n",
    "    \n",
    "    # Now, for each edge in the graph, we add a coupling between those two nodes. Here we are using thos 'last_out_port'\n",
    "    # and 'last_int_port' helpers.\n",
    "    for u,v in graph.edges():\n",
    "        pringles_graph.add_coupling(nodes[u].get_port(last_out_port(u)), nodes[v].get_port(last_in_port(v)))\n",
    "    \n",
    "    # All done!\n",
    "    return pringles_graph"
   ]
  },
  {
   "cell_type": "markdown",
   "metadata": {},
   "source": [
    "Now, we can build a DEVS model from our randomly-generated graph, using the same parameters as the first example. "
   ]
  },
  {
   "cell_type": "code",
   "execution_count": 95,
   "metadata": {},
   "outputs": [],
   "source": [
    "random_graph_coupled = build_graph_model_from_nx_graph(random_graph, 2, .6)\n",
    "random_graph_simulation = Simulation(random_graph_coupled, VirtualTime.of_minutes(10))\n",
    "random_graph_results = simulator.run_simulation(random_graph_simulation)"
   ]
  },
  {
   "cell_type": "code",
   "execution_count": 96,
   "metadata": {},
   "outputs": [
    {
     "data": {
      "text/plain": [
       "dict_keys(['node74', 'node73', 'node72', 'node71', 'node70', 'node69', 'node68', 'node67', 'node66', 'node65', 'node64', 'node63', 'node62', 'node61', 'node60', 'node59', 'node58', 'node57', 'node56', 'node55', 'node54', 'node53', 'node52', 'node51', 'node50', 'node49', 'node48', 'node47', 'node46', 'node45', 'node44', 'node43', 'node42', 'node41', 'node40', 'node39', 'node38', 'node37', 'node36', 'node35', 'node34', 'node33', 'node32', 'node31', 'node30', 'node29', 'node28', 'node27', 'node26', 'node25', 'node24', 'node23', 'node22', 'node21', 'node20', 'node19', 'node18', 'node17', 'node16', 'node15', 'node14', 'node13', 'node12', 'node11', 'node10', 'node9', 'node8', 'node7', 'node6', 'node5', 'node4', 'node3', 'node2', 'node1', 'node0', 'top', 'ParallelRoot'])"
      ]
     },
     "execution_count": 96,
     "metadata": {},
     "output_type": "execute_result"
    }
   ],
   "source": [
    "# Just checking the captured logs\n",
    "random_graph_results.logs_dfs.keys()"
   ]
  },
  {
   "cell_type": "code",
   "execution_count": 97,
   "metadata": {},
   "outputs": [
    {
     "data": {
      "text/html": [
       "<div>\n",
       "<style scoped>\n",
       "    .dataframe tbody tr th:only-of-type {\n",
       "        vertical-align: middle;\n",
       "    }\n",
       "\n",
       "    .dataframe tbody tr th {\n",
       "        vertical-align: top;\n",
       "    }\n",
       "\n",
       "    .dataframe thead th {\n",
       "        text-align: right;\n",
       "    }\n",
       "</style>\n",
       "<table border=\"1\" class=\"dataframe\">\n",
       "  <thead>\n",
       "    <tr style=\"text-align: right;\">\n",
       "      <th></th>\n",
       "      <th>0</th>\n",
       "      <th>1</th>\n",
       "      <th>message_type</th>\n",
       "      <th>time</th>\n",
       "      <th>model_origin</th>\n",
       "      <th>port</th>\n",
       "      <th>value</th>\n",
       "      <th>model_dest</th>\n",
       "    </tr>\n",
       "  </thead>\n",
       "  <tbody>\n",
       "    <tr>\n",
       "      <th>0</th>\n",
       "      <td>0</td>\n",
       "      <td>L</td>\n",
       "      <td>X</td>\n",
       "      <td>00:00:01:747</td>\n",
       "      <td>top(76)</td>\n",
       "      <td>in5</td>\n",
       "      <td>1.0</td>\n",
       "      <td>node23(24)</td>\n",
       "    </tr>\n",
       "  </tbody>\n",
       "</table>\n",
       "</div>"
      ],
      "text/plain": [
       "   0  1 message_type          time model_origin port  value  model_dest\n",
       "0  0  L            X  00:00:01:747      top(76)  in5    1.0  node23(24)"
      ]
     },
     "execution_count": 97,
     "metadata": {},
     "output_type": "execute_result"
    }
   ],
   "source": [
    "# And checking one of them that's non emtpy\n",
    "non_empty_model_name = None\n",
    "for model_name in random_graph_results.logs_dfs.keys():\n",
    "    if random_graph_results.logs_dfs[model_name].size > 0 \\\n",
    "        and model_name.startswith('node'):\n",
    "        non_empty_model_name = model_name\n",
    "\n",
    "random_graph_results.logs_dfs[non_empty_model_name]"
   ]
  },
  {
   "cell_type": "code",
   "execution_count": 108,
   "metadata": {},
   "outputs": [
    {
     "data": {
      "image/png": "[encoded data removed]",
      "text/plain": [
       "<Figure size 432x288 with 1 Axes>"
      ]
     },
     "metadata": {
      "needs_background": "light"
     },
     "output_type": "display_data"
    }
   ],
   "source": [
    "merged_results = merge_all_nodes_results(random_graph_results)\n",
    "times, infections = calculate_accumulated_infections(merged_results)\n",
    "plot_infections_over_time(times, infections)"
   ]
  }
 ],
 "metadata": {
  "kernelspec": {
   "display_name": "Python 3",
   "language": "python",
   "name": "python3"
  },
  "language_info": {
   "codemirror_mode": {
    "name": "ipython",
    "version": 3
   },
   "file_extension": ".py",
   "mimetype": "text/x-python",
   "name": "python",
   "nbconvert_exporter": "python",
   "pygments_lexer": "ipython3",
   "version": "3.7.1"
  }
 },
 "nbformat": 4,
 "nbformat_minor": 4
}
