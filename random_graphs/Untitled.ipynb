{
 "cells": [
  {
   "cell_type": "code",
   "execution_count": 20,
   "metadata": {},
   "outputs": [],
   "source": [
    "from pringles.simulator import Simulator\n",
    "from pringles.models import Coupled\n",
    "from pringles.utils import VirtualTime\n",
    "from pringles.display import ModelDisplay"
   ]
  },
  {
   "cell_type": "code",
   "execution_count": 2,
   "metadata": {},
   "outputs": [],
   "source": [
    "simulator = Simulator(cdpp_bin_path=\"user_models/bin\", user_models_dir=\"user_models/\")"
   ]
  },
  {
   "cell_type": "code",
   "execution_count": 4,
   "metadata": {},
   "outputs": [],
   "source": [
    "r = simulator.get_registry()"
   ]
  },
  {
   "cell_type": "code",
   "execution_count": 140,
   "metadata": {},
   "outputs": [],
   "source": [
    "def build_complete_graph_of_nodes(n, exp_lambda, infection_rate):\n",
    "    nodes = [r.Node1(\"nodo-%d\" % (i), exp_lambda=exp_lambda, infection_prob=infection_rate) for i in range(n)]\n",
    "    graph = Coupled(\"top\", nodes)\n",
    "    for i in range(0,n):\n",
    "        # Connecting i-th node with all others\n",
    "        for j in range(0,n):\n",
    "            if i==j:\n",
    "                continue\n",
    "            graph.add_coupling(nodes[i].get_port(\"out0\"), nodes[j].get_port(\"in0\"))\n",
    "    return graph"
   ]
  },
  {
   "cell_type": "code",
   "execution_count": 159,
   "metadata": {},
   "outputs": [],
   "source": [
    "top = build_complete_graph_of_nodes(10, 2, 2)"
   ]
  },
  {
   "cell_type": "code",
   "execution_count": 142,
   "metadata": {
    "collapsed": true,
    "jupyter": {
     "outputs_hidden": true
    }
   },
   "outputs": [
    {
     "data": {
      "text/html": [
       "\n",
       "        <iframe\n",
       "            width=\"100%\"\n",
       "            height=\"600px\"\n",
       "            src=\"https://colonelpringles.github.io/DEVSDiagrammer/basic.html?options=%7B%22squared_models%22:%20false%2C%20%22show_message_type%22:%20true%2C%20%22show_port_name%22:%20true%2C%20%22compress_in_left%22:%20false%2C%20%22sort_ports_by_name%22:%20true%7D&structure=%7B%22id%22:%20%22top%22%2C%20%22type%22:%20%22coupled%22%2C%20%22models%22:%20%5B%7B%22id%22:%20%22nodo-0%22%2C%20%22type%22:%20%22atomic%22%2C%20%22ports%22:%20%7B%22out%22:%20%5B%7B%22name%22:%20%22out0%22%2C%20%22message_type%22:%20%22Any%22%2C%20%22kind%22:%20%22out%22%7D%5D%2C%20%22in%22:%20%5B%7B%22name%22:%20%22in0%22%2C%20%22message_type%22:%20%22Any%22%2C%20%22kind%22:%20%22in%22%7D%5D%7D%7D%2C%20%7B%22id%22:%20%22nodo-1%22%2C%20%22type%22:%20%22atomic%22%2C%20%22ports%22:%20%7B%22out%22:%20%5B%7B%22name%22:%20%22out0%22%2C%20%22message_type%22:%20%22Any%22%2C%20%22kind%22:%20%22out%22%7D%5D%2C%20%22in%22:%20%5B%7B%22name%22:%20%22in0%22%2C%20%22message_type%22:%20%22Any%22%2C%20%22kind%22:%20%22in%22%7D%5D%7D%7D%2C%20%7B%22id%22:%20%22nodo-2%22%2C%20%22type%22:%20%22atomic%22%2C%20%22ports%22:%20%7B%22out%22:%20%5B%7B%22name%22:%20%22out0%22%2C%20%22message_type%22:%20%22Any%22%2C%20%22kind%22:%20%22out%22%7D%5D%2C%20%22in%22:%20%5B%7B%22name%22:%20%22in0%22%2C%20%22message_type%22:%20%22Any%22%2C%20%22kind%22:%20%22in%22%7D%5D%7D%7D%2C%20%7B%22id%22:%20%22nodo-3%22%2C%20%22type%22:%20%22atomic%22%2C%20%22ports%22:%20%7B%22out%22:%20%5B%7B%22name%22:%20%22out0%22%2C%20%22message_type%22:%20%22Any%22%2C%20%22kind%22:%20%22out%22%7D%5D%2C%20%22in%22:%20%5B%7B%22name%22:%20%22in0%22%2C%20%22message_type%22:%20%22Any%22%2C%20%22kind%22:%20%22in%22%7D%5D%7D%7D%2C%20%7B%22id%22:%20%22nodo-4%22%2C%20%22type%22:%20%22atomic%22%2C%20%22ports%22:%20%7B%22out%22:%20%5B%7B%22name%22:%20%22out0%22%2C%20%22message_type%22:%20%22Any%22%2C%20%22kind%22:%20%22out%22%7D%5D%2C%20%22in%22:%20%5B%7B%22name%22:%20%22in0%22%2C%20%22message_type%22:%20%22Any%22%2C%20%22kind%22:%20%22in%22%7D%5D%7D%7D%2C%20%7B%22id%22:%20%22nodo-5%22%2C%20%22type%22:%20%22atomic%22%2C%20%22ports%22:%20%7B%22out%22:%20%5B%7B%22name%22:%20%22out0%22%2C%20%22message_type%22:%20%22Any%22%2C%20%22kind%22:%20%22out%22%7D%5D%2C%20%22in%22:%20%5B%7B%22name%22:%20%22in0%22%2C%20%22message_type%22:%20%22Any%22%2C%20%22kind%22:%20%22in%22%7D%5D%7D%7D%2C%20%7B%22id%22:%20%22nodo-6%22%2C%20%22type%22:%20%22atomic%22%2C%20%22ports%22:%20%7B%22out%22:%20%5B%7B%22name%22:%20%22out0%22%2C%20%22message_type%22:%20%22Any%22%2C%20%22kind%22:%20%22out%22%7D%5D%2C%20%22in%22:%20%5B%7B%22name%22:%20%22in0%22%2C%20%22message_type%22:%20%22Any%22%2C%20%22kind%22:%20%22in%22%7D%5D%7D%7D%2C%20%7B%22id%22:%20%22nodo-7%22%2C%20%22type%22:%20%22atomic%22%2C%20%22ports%22:%20%7B%22out%22:%20%5B%7B%22name%22:%20%22out0%22%2C%20%22message_type%22:%20%22Any%22%2C%20%22kind%22:%20%22out%22%7D%5D%2C%20%22in%22:%20%5B%7B%22name%22:%20%22in0%22%2C%20%22message_type%22:%20%22Any%22%2C%20%22kind%22:%20%22in%22%7D%5D%7D%7D%2C%20%7B%22id%22:%20%22nodo-8%22%2C%20%22type%22:%20%22atomic%22%2C%20%22ports%22:%20%7B%22out%22:%20%5B%7B%22name%22:%20%22out0%22%2C%20%22message_type%22:%20%22Any%22%2C%20%22kind%22:%20%22out%22%7D%5D%2C%20%22in%22:%20%5B%7B%22name%22:%20%22in0%22%2C%20%22message_type%22:%20%22Any%22%2C%20%22kind%22:%20%22in%22%7D%5D%7D%7D%2C%20%7B%22id%22:%20%22nodo-9%22%2C%20%22type%22:%20%22atomic%22%2C%20%22ports%22:%20%7B%22out%22:%20%5B%7B%22name%22:%20%22out0%22%2C%20%22message_type%22:%20%22Any%22%2C%20%22kind%22:%20%22out%22%7D%5D%2C%20%22in%22:%20%5B%7B%22name%22:%20%22in0%22%2C%20%22message_type%22:%20%22Any%22%2C%20%22kind%22:%20%22in%22%7D%5D%7D%7D%5D%2C%20%22ports%22:%20%7B%22out%22:%20%5B%5D%2C%20%22in%22:%20%5B%5D%7D%2C%20%22eoc%22:%20%5B%5D%2C%20%22eic%22:%20%5B%5D%2C%20%22ic%22:%20%5B%7B%22to_port%22:%20%22in0%22%2C%20%22to_model%22:%20%22nodo-1%22%2C%20%22from_port%22:%20%22out0%22%2C%20%22from_model%22:%20%22nodo-0%22%7D%2C%20%7B%22to_port%22:%20%22in0%22%2C%20%22to_model%22:%20%22nodo-2%22%2C%20%22from_port%22:%20%22out0%22%2C%20%22from_model%22:%20%22nodo-0%22%7D%2C%20%7B%22to_port%22:%20%22in0%22%2C%20%22to_model%22:%20%22nodo-3%22%2C%20%22from_port%22:%20%22out0%22%2C%20%22from_model%22:%20%22nodo-0%22%7D%2C%20%7B%22to_port%22:%20%22in0%22%2C%20%22to_model%22:%20%22nodo-4%22%2C%20%22from_port%22:%20%22out0%22%2C%20%22from_model%22:%20%22nodo-0%22%7D%2C%20%7B%22to_port%22:%20%22in0%22%2C%20%22to_model%22:%20%22nodo-5%22%2C%20%22from_port%22:%20%22out0%22%2C%20%22from_model%22:%20%22nodo-0%22%7D%2C%20%7B%22to_port%22:%20%22in0%22%2C%20%22to_model%22:%20%22nodo-6%22%2C%20%22from_port%22:%20%22out0%22%2C%20%22from_model%22:%20%22nodo-0%22%7D%2C%20%7B%22to_port%22:%20%22in0%22%2C%20%22to_model%22:%20%22nodo-7%22%2C%20%22from_port%22:%20%22out0%22%2C%20%22from_model%22:%20%22nodo-0%22%7D%2C%20%7B%22to_port%22:%20%22in0%22%2C%20%22to_model%22:%20%22nodo-8%22%2C%20%22from_port%22:%20%22out0%22%2C%20%22from_model%22:%20%22nodo-0%22%7D%2C%20%7B%22to_port%22:%20%22in0%22%2C%20%22to_model%22:%20%22nodo-9%22%2C%20%22from_port%22:%20%22out0%22%2C%20%22from_model%22:%20%22nodo-0%22%7D%2C%20%7B%22to_port%22:%20%22in0%22%2C%20%22to_model%22:%20%22nodo-0%22%2C%20%22from_port%22:%20%22out0%22%2C%20%22from_model%22:%20%22nodo-1%22%7D%2C%20%7B%22to_port%22:%20%22in0%22%2C%20%22to_model%22:%20%22nodo-2%22%2C%20%22from_port%22:%20%22out0%22%2C%20%22from_model%22:%20%22nodo-1%22%7D%2C%20%7B%22to_port%22:%20%22in0%22%2C%20%22to_model%22:%20%22nodo-3%22%2C%20%22from_port%22:%20%22out0%22%2C%20%22from_model%22:%20%22nodo-1%22%7D%2C%20%7B%22to_port%22:%20%22in0%22%2C%20%22to_model%22:%20%22nodo-4%22%2C%20%22from_port%22:%20%22out0%22%2C%20%22from_model%22:%20%22nodo-1%22%7D%2C%20%7B%22to_port%22:%20%22in0%22%2C%20%22to_model%22:%20%22nodo-5%22%2C%20%22from_port%22:%20%22out0%22%2C%20%22from_model%22:%20%22nodo-1%22%7D%2C%20%7B%22to_port%22:%20%22in0%22%2C%20%22to_model%22:%20%22nodo-6%22%2C%20%22from_port%22:%20%22out0%22%2C%20%22from_model%22:%20%22nodo-1%22%7D%2C%20%7B%22to_port%22:%20%22in0%22%2C%20%22to_model%22:%20%22nodo-7%22%2C%20%22from_port%22:%20%22out0%22%2C%20%22from_model%22:%20%22nodo-1%22%7D%2C%20%7B%22to_port%22:%20%22in0%22%2C%20%22to_model%22:%20%22nodo-8%22%2C%20%22from_port%22:%20%22out0%22%2C%20%22from_model%22:%20%22nodo-1%22%7D%2C%20%7B%22to_port%22:%20%22in0%22%2C%20%22to_model%22:%20%22nodo-9%22%2C%20%22from_port%22:%20%22out0%22%2C%20%22from_model%22:%20%22nodo-1%22%7D%2C%20%7B%22to_port%22:%20%22in0%22%2C%20%22to_model%22:%20%22nodo-0%22%2C%20%22from_port%22:%20%22out0%22%2C%20%22from_model%22:%20%22nodo-2%22%7D%2C%20%7B%22to_port%22:%20%22in0%22%2C%20%22to_model%22:%20%22nodo-1%22%2C%20%22from_port%22:%20%22out0%22%2C%20%22from_model%22:%20%22nodo-2%22%7D%2C%20%7B%22to_port%22:%20%22in0%22%2C%20%22to_model%22:%20%22nodo-3%22%2C%20%22from_port%22:%20%22out0%22%2C%20%22from_model%22:%20%22nodo-2%22%7D%2C%20%7B%22to_port%22:%20%22in0%22%2C%20%22to_model%22:%20%22nodo-4%22%2C%20%22from_port%22:%20%22out0%22%2C%20%22from_model%22:%20%22nodo-2%22%7D%2C%20%7B%22to_port%22:%20%22in0%22%2C%20%22to_model%22:%20%22nodo-5%22%2C%20%22from_port%22:%20%22out0%22%2C%20%22from_model%22:%20%22nodo-2%22%7D%2C%20%7B%22to_port%22:%20%22in0%22%2C%20%22to_model%22:%20%22nodo-6%22%2C%20%22from_port%22:%20%22out0%22%2C%20%22from_model%22:%20%22nodo-2%22%7D%2C%20%7B%22to_port%22:%20%22in0%22%2C%20%22to_model%22:%20%22nodo-7%22%2C%20%22from_port%22:%20%22out0%22%2C%20%22from_model%22:%20%22nodo-2%22%7D%2C%20%7B%22to_port%22:%20%22in0%22%2C%20%22to_model%22:%20%22nodo-8%22%2C%20%22from_port%22:%20%22out0%22%2C%20%22from_model%22:%20%22nodo-2%22%7D%2C%20%7B%22to_port%22:%20%22in0%22%2C%20%22to_model%22:%20%22nodo-9%22%2C%20%22from_port%22:%20%22out0%22%2C%20%22from_model%22:%20%22nodo-2%22%7D%2C%20%7B%22to_port%22:%20%22in0%22%2C%20%22to_model%22:%20%22nodo-0%22%2C%20%22from_port%22:%20%22out0%22%2C%20%22from_model%22:%20%22nodo-3%22%7D%2C%20%7B%22to_port%22:%20%22in0%22%2C%20%22to_model%22:%20%22nodo-1%22%2C%20%22from_port%22:%20%22out0%22%2C%20%22from_model%22:%20%22nodo-3%22%7D%2C%20%7B%22to_port%22:%20%22in0%22%2C%20%22to_model%22:%20%22nodo-2%22%2C%20%22from_port%22:%20%22out0%22%2C%20%22from_model%22:%20%22nodo-3%22%7D%2C%20%7B%22to_port%22:%20%22in0%22%2C%20%22to_model%22:%20%22nodo-4%22%2C%20%22from_port%22:%20%22out0%22%2C%20%22from_model%22:%20%22nodo-3%22%7D%2C%20%7B%22to_port%22:%20%22in0%22%2C%20%22to_model%22:%20%22nodo-5%22%2C%20%22from_port%22:%20%22out0%22%2C%20%22from_model%22:%20%22nodo-3%22%7D%2C%20%7B%22to_port%22:%20%22in0%22%2C%20%22to_model%22:%20%22nodo-6%22%2C%20%22from_port%22:%20%22out0%22%2C%20%22from_model%22:%20%22nodo-3%22%7D%2C%20%7B%22to_port%22:%20%22in0%22%2C%20%22to_model%22:%20%22nodo-7%22%2C%20%22from_port%22:%20%22out0%22%2C%20%22from_model%22:%20%22nodo-3%22%7D%2C%20%7B%22to_port%22:%20%22in0%22%2C%20%22to_model%22:%20%22nodo-8%22%2C%20%22from_port%22:%20%22out0%22%2C%20%22from_model%22:%20%22nodo-3%22%7D%2C%20%7B%22to_port%22:%20%22in0%22%2C%20%22to_model%22:%20%22nodo-9%22%2C%20%22from_port%22:%20%22out0%22%2C%20%22from_model%22:%20%22nodo-3%22%7D%2C%20%7B%22to_port%22:%20%22in0%22%2C%20%22to_model%22:%20%22nodo-0%22%2C%20%22from_port%22:%20%22out0%22%2C%20%22from_model%22:%20%22nodo-4%22%7D%2C%20%7B%22to_port%22:%20%22in0%22%2C%20%22to_model%22:%20%22nodo-1%22%2C%20%22from_port%22:%20%22out0%22%2C%20%22from_model%22:%20%22nodo-4%22%7D%2C%20%7B%22to_port%22:%20%22in0%22%2C%20%22to_model%22:%20%22nodo-2%22%2C%20%22from_port%22:%20%22out0%22%2C%20%22from_model%22:%20%22nodo-4%22%7D%2C%20%7B%22to_port%22:%20%22in0%22%2C%20%22to_model%22:%20%22nodo-3%22%2C%20%22from_port%22:%20%22out0%22%2C%20%22from_model%22:%20%22nodo-4%22%7D%2C%20%7B%22to_port%22:%20%22in0%22%2C%20%22to_model%22:%20%22nodo-5%22%2C%20%22from_port%22:%20%22out0%22%2C%20%22from_model%22:%20%22nodo-4%22%7D%2C%20%7B%22to_port%22:%20%22in0%22%2C%20%22to_model%22:%20%22nodo-6%22%2C%20%22from_port%22:%20%22out0%22%2C%20%22from_model%22:%20%22nodo-4%22%7D%2C%20%7B%22to_port%22:%20%22in0%22%2C%20%22to_model%22:%20%22nodo-7%22%2C%20%22from_port%22:%20%22out0%22%2C%20%22from_model%22:%20%22nodo-4%22%7D%2C%20%7B%22to_port%22:%20%22in0%22%2C%20%22to_model%22:%20%22nodo-8%22%2C%20%22from_port%22:%20%22out0%22%2C%20%22from_model%22:%20%22nodo-4%22%7D%2C%20%7B%22to_port%22:%20%22in0%22%2C%20%22to_model%22:%20%22nodo-9%22%2C%20%22from_port%22:%20%22out0%22%2C%20%22from_model%22:%20%22nodo-4%22%7D%2C%20%7B%22to_port%22:%20%22in0%22%2C%20%22to_model%22:%20%22nodo-0%22%2C%20%22from_port%22:%20%22out0%22%2C%20%22from_model%22:%20%22nodo-5%22%7D%2C%20%7B%22to_port%22:%20%22in0%22%2C%20%22to_model%22:%20%22nodo-1%22%2C%20%22from_port%22:%20%22out0%22%2C%20%22from_model%22:%20%22nodo-5%22%7D%2C%20%7B%22to_port%22:%20%22in0%22%2C%20%22to_model%22:%20%22nodo-2%22%2C%20%22from_port%22:%20%22out0%22%2C%20%22from_model%22:%20%22nodo-5%22%7D%2C%20%7B%22to_port%22:%20%22in0%22%2C%20%22to_model%22:%20%22nodo-3%22%2C%20%22from_port%22:%20%22out0%22%2C%20%22from_model%22:%20%22nodo-5%22%7D%2C%20%7B%22to_port%22:%20%22in0%22%2C%20%22to_model%22:%20%22nodo-4%22%2C%20%22from_port%22:%20%22out0%22%2C%20%22from_model%22:%20%22nodo-5%22%7D%2C%20%7B%22to_port%22:%20%22in0%22%2C%20%22to_model%22:%20%22nodo-6%22%2C%20%22from_port%22:%20%22out0%22%2C%20%22from_model%22:%20%22nodo-5%22%7D%2C%20%7B%22to_port%22:%20%22in0%22%2C%20%22to_model%22:%20%22nodo-7%22%2C%20%22from_port%22:%20%22out0%22%2C%20%22from_model%22:%20%22nodo-5%22%7D%2C%20%7B%22to_port%22:%20%22in0%22%2C%20%22to_model%22:%20%22nodo-8%22%2C%20%22from_port%22:%20%22out0%22%2C%20%22from_model%22:%20%22nodo-5%22%7D%2C%20%7B%22to_port%22:%20%22in0%22%2C%20%22to_model%22:%20%22nodo-9%22%2C%20%22from_port%22:%20%22out0%22%2C%20%22from_model%22:%20%22nodo-5%22%7D%2C%20%7B%22to_port%22:%20%22in0%22%2C%20%22to_model%22:%20%22nodo-0%22%2C%20%22from_port%22:%20%22out0%22%2C%20%22from_model%22:%20%22nodo-6%22%7D%2C%20%7B%22to_port%22:%20%22in0%22%2C%20%22to_model%22:%20%22nodo-1%22%2C%20%22from_port%22:%20%22out0%22%2C%20%22from_model%22:%20%22nodo-6%22%7D%2C%20%7B%22to_port%22:%20%22in0%22%2C%20%22to_model%22:%20%22nodo-2%22%2C%20%22from_port%22:%20%22out0%22%2C%20%22from_model%22:%20%22nodo-6%22%7D%2C%20%7B%22to_port%22:%20%22in0%22%2C%20%22to_model%22:%20%22nodo-3%22%2C%20%22from_port%22:%20%22out0%22%2C%20%22from_model%22:%20%22nodo-6%22%7D%2C%20%7B%22to_port%22:%20%22in0%22%2C%20%22to_model%22:%20%22nodo-4%22%2C%20%22from_port%22:%20%22out0%22%2C%20%22from_model%22:%20%22nodo-6%22%7D%2C%20%7B%22to_port%22:%20%22in0%22%2C%20%22to_model%22:%20%22nodo-5%22%2C%20%22from_port%22:%20%22out0%22%2C%20%22from_model%22:%20%22nodo-6%22%7D%2C%20%7B%22to_port%22:%20%22in0%22%2C%20%22to_model%22:%20%22nodo-7%22%2C%20%22from_port%22:%20%22out0%22%2C%20%22from_model%22:%20%22nodo-6%22%7D%2C%20%7B%22to_port%22:%20%22in0%22%2C%20%22to_model%22:%20%22nodo-8%22%2C%20%22from_port%22:%20%22out0%22%2C%20%22from_model%22:%20%22nodo-6%22%7D%2C%20%7B%22to_port%22:%20%22in0%22%2C%20%22to_model%22:%20%22nodo-9%22%2C%20%22from_port%22:%20%22out0%22%2C%20%22from_model%22:%20%22nodo-6%22%7D%2C%20%7B%22to_port%22:%20%22in0%22%2C%20%22to_model%22:%20%22nodo-0%22%2C%20%22from_port%22:%20%22out0%22%2C%20%22from_model%22:%20%22nodo-7%22%7D%2C%20%7B%22to_port%22:%20%22in0%22%2C%20%22to_model%22:%20%22nodo-1%22%2C%20%22from_port%22:%20%22out0%22%2C%20%22from_model%22:%20%22nodo-7%22%7D%2C%20%7B%22to_port%22:%20%22in0%22%2C%20%22to_model%22:%20%22nodo-2%22%2C%20%22from_port%22:%20%22out0%22%2C%20%22from_model%22:%20%22nodo-7%22%7D%2C%20%7B%22to_port%22:%20%22in0%22%2C%20%22to_model%22:%20%22nodo-3%22%2C%20%22from_port%22:%20%22out0%22%2C%20%22from_model%22:%20%22nodo-7%22%7D%2C%20%7B%22to_port%22:%20%22in0%22%2C%20%22to_model%22:%20%22nodo-4%22%2C%20%22from_port%22:%20%22out0%22%2C%20%22from_model%22:%20%22nodo-7%22%7D%2C%20%7B%22to_port%22:%20%22in0%22%2C%20%22to_model%22:%20%22nodo-5%22%2C%20%22from_port%22:%20%22out0%22%2C%20%22from_model%22:%20%22nodo-7%22%7D%2C%20%7B%22to_port%22:%20%22in0%22%2C%20%22to_model%22:%20%22nodo-6%22%2C%20%22from_port%22:%20%22out0%22%2C%20%22from_model%22:%20%22nodo-7%22%7D%2C%20%7B%22to_port%22:%20%22in0%22%2C%20%22to_model%22:%20%22nodo-8%22%2C%20%22from_port%22:%20%22out0%22%2C%20%22from_model%22:%20%22nodo-7%22%7D%2C%20%7B%22to_port%22:%20%22in0%22%2C%20%22to_model%22:%20%22nodo-9%22%2C%20%22from_port%22:%20%22out0%22%2C%20%22from_model%22:%20%22nodo-7%22%7D%2C%20%7B%22to_port%22:%20%22in0%22%2C%20%22to_model%22:%20%22nodo-0%22%2C%20%22from_port%22:%20%22out0%22%2C%20%22from_model%22:%20%22nodo-8%22%7D%2C%20%7B%22to_port%22:%20%22in0%22%2C%20%22to_model%22:%20%22nodo-1%22%2C%20%22from_port%22:%20%22out0%22%2C%20%22from_model%22:%20%22nodo-8%22%7D%2C%20%7B%22to_port%22:%20%22in0%22%2C%20%22to_model%22:%20%22nodo-2%22%2C%20%22from_port%22:%20%22out0%22%2C%20%22from_model%22:%20%22nodo-8%22%7D%2C%20%7B%22to_port%22:%20%22in0%22%2C%20%22to_model%22:%20%22nodo-3%22%2C%20%22from_port%22:%20%22out0%22%2C%20%22from_model%22:%20%22nodo-8%22%7D%2C%20%7B%22to_port%22:%20%22in0%22%2C%20%22to_model%22:%20%22nodo-4%22%2C%20%22from_port%22:%20%22out0%22%2C%20%22from_model%22:%20%22nodo-8%22%7D%2C%20%7B%22to_port%22:%20%22in0%22%2C%20%22to_model%22:%20%22nodo-5%22%2C%20%22from_port%22:%20%22out0%22%2C%20%22from_model%22:%20%22nodo-8%22%7D%2C%20%7B%22to_port%22:%20%22in0%22%2C%20%22to_model%22:%20%22nodo-6%22%2C%20%22from_port%22:%20%22out0%22%2C%20%22from_model%22:%20%22nodo-8%22%7D%2C%20%7B%22to_port%22:%20%22in0%22%2C%20%22to_model%22:%20%22nodo-7%22%2C%20%22from_port%22:%20%22out0%22%2C%20%22from_model%22:%20%22nodo-8%22%7D%2C%20%7B%22to_port%22:%20%22in0%22%2C%20%22to_model%22:%20%22nodo-9%22%2C%20%22from_port%22:%20%22out0%22%2C%20%22from_model%22:%20%22nodo-8%22%7D%2C%20%7B%22to_port%22:%20%22in0%22%2C%20%22to_model%22:%20%22nodo-0%22%2C%20%22from_port%22:%20%22out0%22%2C%20%22from_model%22:%20%22nodo-9%22%7D%2C%20%7B%22to_port%22:%20%22in0%22%2C%20%22to_model%22:%20%22nodo-1%22%2C%20%22from_port%22:%20%22out0%22%2C%20%22from_model%22:%20%22nodo-9%22%7D%2C%20%7B%22to_port%22:%20%22in0%22%2C%20%22to_model%22:%20%22nodo-2%22%2C%20%22from_port%22:%20%22out0%22%2C%20%22from_model%22:%20%22nodo-9%22%7D%2C%20%7B%22to_port%22:%20%22in0%22%2C%20%22to_model%22:%20%22nodo-3%22%2C%20%22from_port%22:%20%22out0%22%2C%20%22from_model%22:%20%22nodo-9%22%7D%2C%20%7B%22to_port%22:%20%22in0%22%2C%20%22to_model%22:%20%22nodo-4%22%2C%20%22from_port%22:%20%22out0%22%2C%20%22from_model%22:%20%22nodo-9%22%7D%2C%20%7B%22to_port%22:%20%22in0%22%2C%20%22to_model%22:%20%22nodo-5%22%2C%20%22from_port%22:%20%22out0%22%2C%20%22from_model%22:%20%22nodo-9%22%7D%2C%20%7B%22to_port%22:%20%22in0%22%2C%20%22to_model%22:%20%22nodo-6%22%2C%20%22from_port%22:%20%22out0%22%2C%20%22from_model%22:%20%22nodo-9%22%7D%2C%20%7B%22to_port%22:%20%22in0%22%2C%20%22to_model%22:%20%22nodo-7%22%2C%20%22from_port%22:%20%22out0%22%2C%20%22from_model%22:%20%22nodo-9%22%7D%2C%20%7B%22to_port%22:%20%22in0%22%2C%20%22to_model%22:%20%22nodo-8%22%2C%20%22from_port%22:%20%22out0%22%2C%20%22from_model%22:%20%22nodo-9%22%7D%5D%7D\"\n",
       "            frameborder=\"0\"\n",
       "            allowfullscreen\n",
       "        ></iframe>\n",
       "        "
      ],
      "text/plain": [
       "<pringles.display.display.ModelDisplay at 0x11aecafd0>"
      ]
     },
     "execution_count": 142,
     "metadata": {},
     "output_type": "execute_result"
    }
   ],
   "source": [
    "ModelDisplay(top)"
   ]
  },
  {
   "cell_type": "code",
   "execution_count": 167,
   "metadata": {},
   "outputs": [
    {
     "ename": "ValueError",
     "evalue": "invalid literal for int() with base 10: '0.484671'",
     "output_type": "error",
     "traceback": [
      "\u001b[0;31m---------------------------------------------------------------------------\u001b[0m",
      "\u001b[0;31mValueError\u001b[0m                                Traceback (most recent call last)",
      "\u001b[0;32m~/.pyenv/versions/3.7.1/Python.framework/Versions/3.7/lib/python3.7/site-packages/pandas/io/parsers.py\u001b[0m in \u001b[0;36m_convert_to_ndarrays\u001b[0;34m(self, dct, na_values, na_fvalues, verbose, converters, dtypes)\u001b[0m\n\u001b[1;32m   1670\u001b[0m                 \u001b[0;32mtry\u001b[0m\u001b[0;34m:\u001b[0m\u001b[0;34m\u001b[0m\u001b[0;34m\u001b[0m\u001b[0m\n\u001b[0;32m-> 1671\u001b[0;31m                     \u001b[0mvalues\u001b[0m \u001b[0;34m=\u001b[0m \u001b[0mlib\u001b[0m\u001b[0;34m.\u001b[0m\u001b[0mmap_infer\u001b[0m\u001b[0;34m(\u001b[0m\u001b[0mvalues\u001b[0m\u001b[0;34m,\u001b[0m \u001b[0mconv_f\u001b[0m\u001b[0;34m)\u001b[0m\u001b[0;34m\u001b[0m\u001b[0;34m\u001b[0m\u001b[0m\n\u001b[0m\u001b[1;32m   1672\u001b[0m                 \u001b[0;32mexcept\u001b[0m \u001b[0mValueError\u001b[0m\u001b[0;34m:\u001b[0m\u001b[0;34m\u001b[0m\u001b[0;34m\u001b[0m\u001b[0m\n",
      "\u001b[0;32mpandas/_libs/lib.pyx\u001b[0m in \u001b[0;36mpandas._libs.lib.map_infer\u001b[0;34m()\u001b[0m\n",
      "\u001b[0;32m~/.pyenv/versions/3.7.1/Python.framework/Versions/3.7/lib/python3.7/site-packages/pringles/simulator/simulator.py\u001b[0m in \u001b[0;36m<lambda>\u001b[0;34m(x)\u001b[0m\n\u001b[1;32m     77\u001b[0m             \u001b[0mcls\u001b[0m\u001b[0;34m.\u001b[0m\u001b[0mVALUE_COL\u001b[0m\u001b[0;34m:\u001b[0m \u001b[0;32mlambda\u001b[0m \u001b[0mx\u001b[0m\u001b[0;34m:\u001b[0m \u001b[0mcls\u001b[0m\u001b[0;34m.\u001b[0m\u001b[0m_list_str_to_list\u001b[0m\u001b[0;34m(\u001b[0m\u001b[0mx\u001b[0m\u001b[0;34m)\u001b[0m \u001b[0;32mif\u001b[0m \u001b[0mcls\u001b[0m\u001b[0;34m.\u001b[0m\u001b[0m_is_list_value\u001b[0m\u001b[0;34m(\u001b[0m\u001b[0mx\u001b[0m\u001b[0;34m)\u001b[0m \u001b[0;32melse\u001b[0m \u001b[0mx\u001b[0m\u001b[0;34m,\u001b[0m\u001b[0;34m\u001b[0m\u001b[0;34m\u001b[0m\u001b[0m\n\u001b[0;32m---> 78\u001b[0;31m             \u001b[0mcls\u001b[0m\u001b[0;34m.\u001b[0m\u001b[0mTIME_COL\u001b[0m\u001b[0;34m:\u001b[0m \u001b[0;32mlambda\u001b[0m \u001b[0mx\u001b[0m\u001b[0;34m:\u001b[0m \u001b[0mVirtualTime\u001b[0m\u001b[0;34m.\u001b[0m\u001b[0mparse\u001b[0m\u001b[0;34m(\u001b[0m\u001b[0mx\u001b[0m\u001b[0;34m)\u001b[0m\u001b[0;34m\u001b[0m\u001b[0;34m\u001b[0m\u001b[0m\n\u001b[0m\u001b[1;32m     79\u001b[0m         }\n",
      "\u001b[0;32m~/.pyenv/versions/3.7.1/Python.framework/Versions/3.7/lib/python3.7/site-packages/pringles/utils/utils.py\u001b[0m in \u001b[0;36mparse\u001b[0;34m(cls, timestr)\u001b[0m\n\u001b[1;32m     34\u001b[0m     \u001b[0;32mdef\u001b[0m \u001b[0mparse\u001b[0m\u001b[0;34m(\u001b[0m\u001b[0mcls\u001b[0m\u001b[0;34m,\u001b[0m \u001b[0mtimestr\u001b[0m\u001b[0;34m:\u001b[0m \u001b[0mstr\u001b[0m\u001b[0;34m)\u001b[0m \u001b[0;34m->\u001b[0m \u001b[0mVirtualTime\u001b[0m\u001b[0;34m:\u001b[0m\u001b[0;34m\u001b[0m\u001b[0;34m\u001b[0m\u001b[0m\n\u001b[0;32m---> 35\u001b[0;31m         \u001b[0;32mreturn\u001b[0m \u001b[0mcls\u001b[0m\u001b[0;34m(\u001b[0m\u001b[0;34m*\u001b[0m\u001b[0;34m[\u001b[0m\u001b[0mint\u001b[0m\u001b[0;34m(\u001b[0m\u001b[0munit\u001b[0m\u001b[0;34m)\u001b[0m \u001b[0;32mfor\u001b[0m \u001b[0munit\u001b[0m \u001b[0;32min\u001b[0m \u001b[0mtimestr\u001b[0m\u001b[0;34m.\u001b[0m\u001b[0msplit\u001b[0m\u001b[0;34m(\u001b[0m\u001b[0;34m':'\u001b[0m\u001b[0;34m)\u001b[0m\u001b[0;34m]\u001b[0m\u001b[0;34m)\u001b[0m\u001b[0;34m\u001b[0m\u001b[0;34m\u001b[0m\u001b[0m\n\u001b[0m\u001b[1;32m     36\u001b[0m \u001b[0;34m\u001b[0m\u001b[0m\n",
      "\u001b[0;32m~/.pyenv/versions/3.7.1/Python.framework/Versions/3.7/lib/python3.7/site-packages/pringles/utils/utils.py\u001b[0m in \u001b[0;36m<listcomp>\u001b[0;34m(.0)\u001b[0m\n\u001b[1;32m     34\u001b[0m     \u001b[0;32mdef\u001b[0m \u001b[0mparse\u001b[0m\u001b[0;34m(\u001b[0m\u001b[0mcls\u001b[0m\u001b[0;34m,\u001b[0m \u001b[0mtimestr\u001b[0m\u001b[0;34m:\u001b[0m \u001b[0mstr\u001b[0m\u001b[0;34m)\u001b[0m \u001b[0;34m->\u001b[0m \u001b[0mVirtualTime\u001b[0m\u001b[0;34m:\u001b[0m\u001b[0;34m\u001b[0m\u001b[0;34m\u001b[0m\u001b[0m\n\u001b[0;32m---> 35\u001b[0;31m         \u001b[0;32mreturn\u001b[0m \u001b[0mcls\u001b[0m\u001b[0;34m(\u001b[0m\u001b[0;34m*\u001b[0m\u001b[0;34m[\u001b[0m\u001b[0mint\u001b[0m\u001b[0;34m(\u001b[0m\u001b[0munit\u001b[0m\u001b[0;34m)\u001b[0m \u001b[0;32mfor\u001b[0m \u001b[0munit\u001b[0m \u001b[0;32min\u001b[0m \u001b[0mtimestr\u001b[0m\u001b[0;34m.\u001b[0m\u001b[0msplit\u001b[0m\u001b[0;34m(\u001b[0m\u001b[0;34m':'\u001b[0m\u001b[0;34m)\u001b[0m\u001b[0;34m]\u001b[0m\u001b[0;34m)\u001b[0m\u001b[0;34m\u001b[0m\u001b[0;34m\u001b[0m\u001b[0m\n\u001b[0m\u001b[1;32m     36\u001b[0m \u001b[0;34m\u001b[0m\u001b[0m\n",
      "\u001b[0;31mValueError\u001b[0m: invalid literal for int() with base 10: '0.484671'",
      "\nDuring handling of the above exception, another exception occurred:\n",
      "\u001b[0;31mValueError\u001b[0m                                Traceback (most recent call last)",
      "\u001b[0;32m<ipython-input-167-f144b490d1c1>\u001b[0m in \u001b[0;36m<module>\u001b[0;34m\u001b[0m\n\u001b[0;32m----> 1\u001b[0;31m \u001b[0mresults\u001b[0m \u001b[0;34m=\u001b[0m \u001b[0msimulator\u001b[0m\u001b[0;34m.\u001b[0m\u001b[0mrun_simulation\u001b[0m\u001b[0;34m(\u001b[0m\u001b[0mtop\u001b[0m\u001b[0;34m,\u001b[0m \u001b[0mVirtualTime\u001b[0m\u001b[0;34m.\u001b[0m\u001b[0mof_seconds\u001b[0m\u001b[0;34m(\u001b[0m\u001b[0;36m30\u001b[0m\u001b[0;34m)\u001b[0m\u001b[0;34m,\u001b[0m\u001b[0msimulation_wd\u001b[0m\u001b[0;34m=\u001b[0m\u001b[0;34m\"/tmp/debugging\"\u001b[0m\u001b[0;34m)\u001b[0m\u001b[0;34m\u001b[0m\u001b[0;34m\u001b[0m\u001b[0m\n\u001b[0m",
      "\u001b[0;32m~/.pyenv/versions/3.7.1/Python.framework/Versions/3.7/lib/python3.7/site-packages/pringles/simulator/simulator.py\u001b[0m in \u001b[0;36mrun_simulation\u001b[0;34m(self, top_model, duration, events, use_simulator_logs, use_simulator_out, simulation_wd)\u001b[0m\n\u001b[1;32m    241\u001b[0m         return SimulationResult(process_result=process_result,\n\u001b[1;32m    242\u001b[0m                                 \u001b[0mmain_log_path\u001b[0m\u001b[0;34m=\u001b[0m\u001b[0mlogs_path\u001b[0m\u001b[0;34m,\u001b[0m\u001b[0;34m\u001b[0m\u001b[0;34m\u001b[0m\u001b[0m\n\u001b[0;32m--> 243\u001b[0;31m                                 output_path=output_path)\n\u001b[0m\u001b[1;32m    244\u001b[0m \u001b[0;34m\u001b[0m\u001b[0m\n\u001b[1;32m    245\u001b[0m     \u001b[0;34m@\u001b[0m\u001b[0mstaticmethod\u001b[0m\u001b[0;34m\u001b[0m\u001b[0;34m\u001b[0m\u001b[0m\n",
      "\u001b[0;32m~/.pyenv/versions/3.7.1/Python.framework/Versions/3.7/lib/python3.7/site-packages/pringles/simulator/simulator.py\u001b[0m in \u001b[0;36m__init__\u001b[0;34m(self, process_result, main_log_path, output_path)\u001b[0m\n\u001b[1;32m     44\u001b[0m         \u001b[0;32mif\u001b[0m \u001b[0mself\u001b[0m\u001b[0;34m.\u001b[0m\u001b[0msuccessful\u001b[0m\u001b[0;34m(\u001b[0m\u001b[0;34m)\u001b[0m\u001b[0;34m:\u001b[0m\u001b[0;34m\u001b[0m\u001b[0;34m\u001b[0m\u001b[0m\n\u001b[1;32m     45\u001b[0m             \u001b[0mself\u001b[0m\u001b[0;34m.\u001b[0m\u001b[0moutput_df\u001b[0m \u001b[0;34m=\u001b[0m \u001b[0mSimulationResult\u001b[0m\u001b[0;34m.\u001b[0m\u001b[0mparse_output_file\u001b[0m\u001b[0;34m(\u001b[0m\u001b[0moutput_path\u001b[0m\u001b[0;34m)\u001b[0m\u001b[0;34m\u001b[0m\u001b[0;34m\u001b[0m\u001b[0m\n\u001b[0;32m---> 46\u001b[0;31m             \u001b[0mself\u001b[0m\u001b[0;34m.\u001b[0m\u001b[0mlogs_dfs\u001b[0m \u001b[0;34m=\u001b[0m \u001b[0mSimulationResult\u001b[0m\u001b[0;34m.\u001b[0m\u001b[0mparse_main_log_file\u001b[0m\u001b[0;34m(\u001b[0m\u001b[0mmain_log_path\u001b[0m\u001b[0;34m)\u001b[0m\u001b[0;34m\u001b[0m\u001b[0;34m\u001b[0m\u001b[0m\n\u001b[0m\u001b[1;32m     47\u001b[0m \u001b[0;34m\u001b[0m\u001b[0m\n\u001b[1;32m     48\u001b[0m     \u001b[0;32mdef\u001b[0m \u001b[0msuccessful\u001b[0m\u001b[0;34m(\u001b[0m\u001b[0mself\u001b[0m\u001b[0;34m)\u001b[0m\u001b[0;34m:\u001b[0m\u001b[0;34m\u001b[0m\u001b[0;34m\u001b[0m\u001b[0m\n",
      "\u001b[0;32m~/.pyenv/versions/3.7.1/Python.framework/Versions/3.7/lib/python3.7/site-packages/pringles/simulator/simulator.py\u001b[0m in \u001b[0;36mparse_main_log_file\u001b[0;34m(cls, file_path)\u001b[0m\n\u001b[1;32m     89\u001b[0m                                                       \u001b[0mcls\u001b[0m\u001b[0;34m.\u001b[0m\u001b[0mPORT_COL\u001b[0m\u001b[0;34m,\u001b[0m\u001b[0;34m\u001b[0m\u001b[0;34m\u001b[0m\u001b[0m\n\u001b[1;32m     90\u001b[0m                                                       \u001b[0mcls\u001b[0m\u001b[0;34m.\u001b[0m\u001b[0mVALUE_COL\u001b[0m\u001b[0;34m,\u001b[0m\u001b[0;34m\u001b[0m\u001b[0;34m\u001b[0m\u001b[0m\n\u001b[0;32m---> 91\u001b[0;31m                                                       cls.MODEL_DEST_COL])\n\u001b[0m\u001b[1;32m     92\u001b[0m         \u001b[0;32mreturn\u001b[0m \u001b[0mparsed_logs\u001b[0m\u001b[0;34m\u001b[0m\u001b[0;34m\u001b[0m\u001b[0m\n\u001b[1;32m     93\u001b[0m \u001b[0;34m\u001b[0m\u001b[0m\n",
      "\u001b[0;32m~/.pyenv/versions/3.7.1/Python.framework/Versions/3.7/lib/python3.7/site-packages/pandas/io/parsers.py\u001b[0m in \u001b[0;36mparser_f\u001b[0;34m(filepath_or_buffer, sep, delimiter, header, names, index_col, usecols, squeeze, prefix, mangle_dupe_cols, dtype, engine, converters, true_values, false_values, skipinitialspace, skiprows, skipfooter, nrows, na_values, keep_default_na, na_filter, verbose, skip_blank_lines, parse_dates, infer_datetime_format, keep_date_col, date_parser, dayfirst, iterator, chunksize, compression, thousands, decimal, lineterminator, quotechar, quoting, doublequote, escapechar, comment, encoding, dialect, tupleize_cols, error_bad_lines, warn_bad_lines, delim_whitespace, low_memory, memory_map, float_precision)\u001b[0m\n\u001b[1;32m    700\u001b[0m                     skip_blank_lines=skip_blank_lines)\n\u001b[1;32m    701\u001b[0m \u001b[0;34m\u001b[0m\u001b[0m\n\u001b[0;32m--> 702\u001b[0;31m         \u001b[0;32mreturn\u001b[0m \u001b[0m_read\u001b[0m\u001b[0;34m(\u001b[0m\u001b[0mfilepath_or_buffer\u001b[0m\u001b[0;34m,\u001b[0m \u001b[0mkwds\u001b[0m\u001b[0;34m)\u001b[0m\u001b[0;34m\u001b[0m\u001b[0;34m\u001b[0m\u001b[0m\n\u001b[0m\u001b[1;32m    703\u001b[0m \u001b[0;34m\u001b[0m\u001b[0m\n\u001b[1;32m    704\u001b[0m     \u001b[0mparser_f\u001b[0m\u001b[0;34m.\u001b[0m\u001b[0m__name__\u001b[0m \u001b[0;34m=\u001b[0m \u001b[0mname\u001b[0m\u001b[0;34m\u001b[0m\u001b[0;34m\u001b[0m\u001b[0m\n",
      "\u001b[0;32m~/.pyenv/versions/3.7.1/Python.framework/Versions/3.7/lib/python3.7/site-packages/pandas/io/parsers.py\u001b[0m in \u001b[0;36m_read\u001b[0;34m(filepath_or_buffer, kwds)\u001b[0m\n\u001b[1;32m    433\u001b[0m \u001b[0;34m\u001b[0m\u001b[0m\n\u001b[1;32m    434\u001b[0m     \u001b[0;32mtry\u001b[0m\u001b[0;34m:\u001b[0m\u001b[0;34m\u001b[0m\u001b[0;34m\u001b[0m\u001b[0m\n\u001b[0;32m--> 435\u001b[0;31m         \u001b[0mdata\u001b[0m \u001b[0;34m=\u001b[0m \u001b[0mparser\u001b[0m\u001b[0;34m.\u001b[0m\u001b[0mread\u001b[0m\u001b[0;34m(\u001b[0m\u001b[0mnrows\u001b[0m\u001b[0;34m)\u001b[0m\u001b[0;34m\u001b[0m\u001b[0;34m\u001b[0m\u001b[0m\n\u001b[0m\u001b[1;32m    436\u001b[0m     \u001b[0;32mfinally\u001b[0m\u001b[0;34m:\u001b[0m\u001b[0;34m\u001b[0m\u001b[0;34m\u001b[0m\u001b[0m\n\u001b[1;32m    437\u001b[0m         \u001b[0mparser\u001b[0m\u001b[0;34m.\u001b[0m\u001b[0mclose\u001b[0m\u001b[0;34m(\u001b[0m\u001b[0;34m)\u001b[0m\u001b[0;34m\u001b[0m\u001b[0;34m\u001b[0m\u001b[0m\n",
      "\u001b[0;32m~/.pyenv/versions/3.7.1/Python.framework/Versions/3.7/lib/python3.7/site-packages/pandas/io/parsers.py\u001b[0m in \u001b[0;36mread\u001b[0;34m(self, nrows)\u001b[0m\n\u001b[1;32m   1137\u001b[0m     \u001b[0;32mdef\u001b[0m \u001b[0mread\u001b[0m\u001b[0;34m(\u001b[0m\u001b[0mself\u001b[0m\u001b[0;34m,\u001b[0m \u001b[0mnrows\u001b[0m\u001b[0;34m=\u001b[0m\u001b[0;32mNone\u001b[0m\u001b[0;34m)\u001b[0m\u001b[0;34m:\u001b[0m\u001b[0;34m\u001b[0m\u001b[0;34m\u001b[0m\u001b[0m\n\u001b[1;32m   1138\u001b[0m         \u001b[0mnrows\u001b[0m \u001b[0;34m=\u001b[0m \u001b[0m_validate_integer\u001b[0m\u001b[0;34m(\u001b[0m\u001b[0;34m'nrows'\u001b[0m\u001b[0;34m,\u001b[0m \u001b[0mnrows\u001b[0m\u001b[0;34m)\u001b[0m\u001b[0;34m\u001b[0m\u001b[0;34m\u001b[0m\u001b[0m\n\u001b[0;32m-> 1139\u001b[0;31m         \u001b[0mret\u001b[0m \u001b[0;34m=\u001b[0m \u001b[0mself\u001b[0m\u001b[0;34m.\u001b[0m\u001b[0m_engine\u001b[0m\u001b[0;34m.\u001b[0m\u001b[0mread\u001b[0m\u001b[0;34m(\u001b[0m\u001b[0mnrows\u001b[0m\u001b[0;34m)\u001b[0m\u001b[0;34m\u001b[0m\u001b[0;34m\u001b[0m\u001b[0m\n\u001b[0m\u001b[1;32m   1140\u001b[0m \u001b[0;34m\u001b[0m\u001b[0m\n\u001b[1;32m   1141\u001b[0m         \u001b[0;31m# May alter columns / col_dict\u001b[0m\u001b[0;34m\u001b[0m\u001b[0;34m\u001b[0m\u001b[0;34m\u001b[0m\u001b[0m\n",
      "\u001b[0;32m~/.pyenv/versions/3.7.1/Python.framework/Versions/3.7/lib/python3.7/site-packages/pandas/io/parsers.py\u001b[0m in \u001b[0;36mread\u001b[0;34m(self, rows)\u001b[0m\n\u001b[1;32m   2419\u001b[0m         \u001b[0mcolumns\u001b[0m\u001b[0;34m,\u001b[0m \u001b[0mdata\u001b[0m \u001b[0;34m=\u001b[0m \u001b[0mself\u001b[0m\u001b[0;34m.\u001b[0m\u001b[0m_do_date_conversions\u001b[0m\u001b[0;34m(\u001b[0m\u001b[0mcolumns\u001b[0m\u001b[0;34m,\u001b[0m \u001b[0mdata\u001b[0m\u001b[0;34m)\u001b[0m\u001b[0;34m\u001b[0m\u001b[0;34m\u001b[0m\u001b[0m\n\u001b[1;32m   2420\u001b[0m \u001b[0;34m\u001b[0m\u001b[0m\n\u001b[0;32m-> 2421\u001b[0;31m         \u001b[0mdata\u001b[0m \u001b[0;34m=\u001b[0m \u001b[0mself\u001b[0m\u001b[0;34m.\u001b[0m\u001b[0m_convert_data\u001b[0m\u001b[0;34m(\u001b[0m\u001b[0mdata\u001b[0m\u001b[0;34m)\u001b[0m\u001b[0;34m\u001b[0m\u001b[0;34m\u001b[0m\u001b[0m\n\u001b[0m\u001b[1;32m   2422\u001b[0m         \u001b[0mindex\u001b[0m\u001b[0;34m,\u001b[0m \u001b[0mcolumns\u001b[0m \u001b[0;34m=\u001b[0m \u001b[0mself\u001b[0m\u001b[0;34m.\u001b[0m\u001b[0m_make_index\u001b[0m\u001b[0;34m(\u001b[0m\u001b[0mdata\u001b[0m\u001b[0;34m,\u001b[0m \u001b[0malldata\u001b[0m\u001b[0;34m,\u001b[0m \u001b[0mcolumns\u001b[0m\u001b[0;34m,\u001b[0m \u001b[0mindexnamerow\u001b[0m\u001b[0;34m)\u001b[0m\u001b[0;34m\u001b[0m\u001b[0;34m\u001b[0m\u001b[0m\n\u001b[1;32m   2423\u001b[0m \u001b[0;34m\u001b[0m\u001b[0m\n",
      "\u001b[0;32m~/.pyenv/versions/3.7.1/Python.framework/Versions/3.7/lib/python3.7/site-packages/pandas/io/parsers.py\u001b[0m in \u001b[0;36m_convert_data\u001b[0;34m(self, data)\u001b[0m\n\u001b[1;32m   2485\u001b[0m         return self._convert_to_ndarrays(data, clean_na_values,\n\u001b[1;32m   2486\u001b[0m                                          \u001b[0mclean_na_fvalues\u001b[0m\u001b[0;34m,\u001b[0m \u001b[0mself\u001b[0m\u001b[0;34m.\u001b[0m\u001b[0mverbose\u001b[0m\u001b[0;34m,\u001b[0m\u001b[0;34m\u001b[0m\u001b[0;34m\u001b[0m\u001b[0m\n\u001b[0;32m-> 2487\u001b[0;31m                                          clean_conv, clean_dtypes)\n\u001b[0m\u001b[1;32m   2488\u001b[0m \u001b[0;34m\u001b[0m\u001b[0m\n\u001b[1;32m   2489\u001b[0m     \u001b[0;32mdef\u001b[0m \u001b[0m_infer_columns\u001b[0m\u001b[0;34m(\u001b[0m\u001b[0mself\u001b[0m\u001b[0;34m)\u001b[0m\u001b[0;34m:\u001b[0m\u001b[0;34m\u001b[0m\u001b[0;34m\u001b[0m\u001b[0m\n",
      "\u001b[0;32m~/.pyenv/versions/3.7.1/Python.framework/Versions/3.7/lib/python3.7/site-packages/pandas/io/parsers.py\u001b[0m in \u001b[0;36m_convert_to_ndarrays\u001b[0;34m(self, dct, na_values, na_fvalues, verbose, converters, dtypes)\u001b[0m\n\u001b[1;32m   1673\u001b[0m                     mask = algorithms.isin(\n\u001b[1;32m   1674\u001b[0m                         values, list(na_values)).view(np.uint8)\n\u001b[0;32m-> 1675\u001b[0;31m                     \u001b[0mvalues\u001b[0m \u001b[0;34m=\u001b[0m \u001b[0mlib\u001b[0m\u001b[0;34m.\u001b[0m\u001b[0mmap_infer_mask\u001b[0m\u001b[0;34m(\u001b[0m\u001b[0mvalues\u001b[0m\u001b[0;34m,\u001b[0m \u001b[0mconv_f\u001b[0m\u001b[0;34m,\u001b[0m \u001b[0mmask\u001b[0m\u001b[0;34m)\u001b[0m\u001b[0;34m\u001b[0m\u001b[0;34m\u001b[0m\u001b[0m\n\u001b[0m\u001b[1;32m   1676\u001b[0m \u001b[0;34m\u001b[0m\u001b[0m\n\u001b[1;32m   1677\u001b[0m                 cvals, na_count = self._infer_types(\n",
      "\u001b[0;32mpandas/_libs/lib.pyx\u001b[0m in \u001b[0;36mpandas._libs.lib.map_infer_mask\u001b[0;34m()\u001b[0m\n",
      "\u001b[0;32m~/.pyenv/versions/3.7.1/Python.framework/Versions/3.7/lib/python3.7/site-packages/pringles/simulator/simulator.py\u001b[0m in \u001b[0;36m<lambda>\u001b[0;34m(x)\u001b[0m\n\u001b[1;32m     76\u001b[0m         df_converters = {\n\u001b[1;32m     77\u001b[0m             \u001b[0mcls\u001b[0m\u001b[0;34m.\u001b[0m\u001b[0mVALUE_COL\u001b[0m\u001b[0;34m:\u001b[0m \u001b[0;32mlambda\u001b[0m \u001b[0mx\u001b[0m\u001b[0;34m:\u001b[0m \u001b[0mcls\u001b[0m\u001b[0;34m.\u001b[0m\u001b[0m_list_str_to_list\u001b[0m\u001b[0;34m(\u001b[0m\u001b[0mx\u001b[0m\u001b[0;34m)\u001b[0m \u001b[0;32mif\u001b[0m \u001b[0mcls\u001b[0m\u001b[0;34m.\u001b[0m\u001b[0m_is_list_value\u001b[0m\u001b[0;34m(\u001b[0m\u001b[0mx\u001b[0m\u001b[0;34m)\u001b[0m \u001b[0;32melse\u001b[0m \u001b[0mx\u001b[0m\u001b[0;34m,\u001b[0m\u001b[0;34m\u001b[0m\u001b[0;34m\u001b[0m\u001b[0m\n\u001b[0;32m---> 78\u001b[0;31m             \u001b[0mcls\u001b[0m\u001b[0;34m.\u001b[0m\u001b[0mTIME_COL\u001b[0m\u001b[0;34m:\u001b[0m \u001b[0;32mlambda\u001b[0m \u001b[0mx\u001b[0m\u001b[0;34m:\u001b[0m \u001b[0mVirtualTime\u001b[0m\u001b[0;34m.\u001b[0m\u001b[0mparse\u001b[0m\u001b[0;34m(\u001b[0m\u001b[0mx\u001b[0m\u001b[0;34m)\u001b[0m\u001b[0;34m\u001b[0m\u001b[0;34m\u001b[0m\u001b[0m\n\u001b[0m\u001b[1;32m     79\u001b[0m         }\n\u001b[1;32m     80\u001b[0m         \u001b[0;32mfor\u001b[0m \u001b[0mlogname\u001b[0m\u001b[0;34m,\u001b[0m \u001b[0mfilename\u001b[0m \u001b[0;32min\u001b[0m \u001b[0mlog_file_per_component\u001b[0m\u001b[0;34m.\u001b[0m\u001b[0mitems\u001b[0m\u001b[0;34m(\u001b[0m\u001b[0;34m)\u001b[0m\u001b[0;34m:\u001b[0m\u001b[0;34m\u001b[0m\u001b[0;34m\u001b[0m\u001b[0m\n",
      "\u001b[0;32m~/.pyenv/versions/3.7.1/Python.framework/Versions/3.7/lib/python3.7/site-packages/pringles/utils/utils.py\u001b[0m in \u001b[0;36mparse\u001b[0;34m(cls, timestr)\u001b[0m\n\u001b[1;32m     33\u001b[0m     \u001b[0;34m@\u001b[0m\u001b[0mclassmethod\u001b[0m\u001b[0;34m\u001b[0m\u001b[0;34m\u001b[0m\u001b[0m\n\u001b[1;32m     34\u001b[0m     \u001b[0;32mdef\u001b[0m \u001b[0mparse\u001b[0m\u001b[0;34m(\u001b[0m\u001b[0mcls\u001b[0m\u001b[0;34m,\u001b[0m \u001b[0mtimestr\u001b[0m\u001b[0;34m:\u001b[0m \u001b[0mstr\u001b[0m\u001b[0;34m)\u001b[0m \u001b[0;34m->\u001b[0m \u001b[0mVirtualTime\u001b[0m\u001b[0;34m:\u001b[0m\u001b[0;34m\u001b[0m\u001b[0;34m\u001b[0m\u001b[0m\n\u001b[0;32m---> 35\u001b[0;31m         \u001b[0;32mreturn\u001b[0m \u001b[0mcls\u001b[0m\u001b[0;34m(\u001b[0m\u001b[0;34m*\u001b[0m\u001b[0;34m[\u001b[0m\u001b[0mint\u001b[0m\u001b[0;34m(\u001b[0m\u001b[0munit\u001b[0m\u001b[0;34m)\u001b[0m \u001b[0;32mfor\u001b[0m \u001b[0munit\u001b[0m \u001b[0;32min\u001b[0m \u001b[0mtimestr\u001b[0m\u001b[0;34m.\u001b[0m\u001b[0msplit\u001b[0m\u001b[0;34m(\u001b[0m\u001b[0;34m':'\u001b[0m\u001b[0;34m)\u001b[0m\u001b[0;34m]\u001b[0m\u001b[0;34m)\u001b[0m\u001b[0;34m\u001b[0m\u001b[0;34m\u001b[0m\u001b[0m\n\u001b[0m\u001b[1;32m     36\u001b[0m \u001b[0;34m\u001b[0m\u001b[0m\n\u001b[1;32m     37\u001b[0m     \u001b[0;34m@\u001b[0m\u001b[0mclassmethod\u001b[0m\u001b[0;34m\u001b[0m\u001b[0;34m\u001b[0m\u001b[0m\n",
      "\u001b[0;32m~/.pyenv/versions/3.7.1/Python.framework/Versions/3.7/lib/python3.7/site-packages/pringles/utils/utils.py\u001b[0m in \u001b[0;36m<listcomp>\u001b[0;34m(.0)\u001b[0m\n\u001b[1;32m     33\u001b[0m     \u001b[0;34m@\u001b[0m\u001b[0mclassmethod\u001b[0m\u001b[0;34m\u001b[0m\u001b[0;34m\u001b[0m\u001b[0m\n\u001b[1;32m     34\u001b[0m     \u001b[0;32mdef\u001b[0m \u001b[0mparse\u001b[0m\u001b[0;34m(\u001b[0m\u001b[0mcls\u001b[0m\u001b[0;34m,\u001b[0m \u001b[0mtimestr\u001b[0m\u001b[0;34m:\u001b[0m \u001b[0mstr\u001b[0m\u001b[0;34m)\u001b[0m \u001b[0;34m->\u001b[0m \u001b[0mVirtualTime\u001b[0m\u001b[0;34m:\u001b[0m\u001b[0;34m\u001b[0m\u001b[0;34m\u001b[0m\u001b[0m\n\u001b[0;32m---> 35\u001b[0;31m         \u001b[0;32mreturn\u001b[0m \u001b[0mcls\u001b[0m\u001b[0;34m(\u001b[0m\u001b[0;34m*\u001b[0m\u001b[0;34m[\u001b[0m\u001b[0mint\u001b[0m\u001b[0;34m(\u001b[0m\u001b[0munit\u001b[0m\u001b[0;34m)\u001b[0m \u001b[0;32mfor\u001b[0m \u001b[0munit\u001b[0m \u001b[0;32min\u001b[0m \u001b[0mtimestr\u001b[0m\u001b[0;34m.\u001b[0m\u001b[0msplit\u001b[0m\u001b[0;34m(\u001b[0m\u001b[0;34m':'\u001b[0m\u001b[0;34m)\u001b[0m\u001b[0;34m]\u001b[0m\u001b[0;34m)\u001b[0m\u001b[0;34m\u001b[0m\u001b[0;34m\u001b[0m\u001b[0m\n\u001b[0m\u001b[1;32m     36\u001b[0m \u001b[0;34m\u001b[0m\u001b[0m\n\u001b[1;32m     37\u001b[0m     \u001b[0;34m@\u001b[0m\u001b[0mclassmethod\u001b[0m\u001b[0;34m\u001b[0m\u001b[0;34m\u001b[0m\u001b[0m\n",
      "\u001b[0;31mValueError\u001b[0m: invalid literal for int() with base 10: '0.484671'"
     ]
    }
   ],
   "source": [
    "results = simulator.run_simulation(top, VirtualTime.of_seconds(30),simulation_wd=\"/tmp/debugging\")"
   ]
  },
  {
   "cell_type": "code",
   "execution_count": 148,
   "metadata": {},
   "outputs": [
    {
     "name": "stdout",
     "output_type": "stream",
     "text": [
      "dict_keys(['nodo-9', 'nodo-8', 'nodo-7', 'nodo-6', 'nodo-5', 'nodo-4', 'nodo-3', 'nodo-2', 'nodo-1', 'nodo-0', 'top', 'ParallelRoot'])\n"
     ]
    }
   ],
   "source": [
    "print(results.logs_dfs.keys())"
   ]
  },
  {
   "cell_type": "code",
   "execution_count": 165,
   "metadata": {},
   "outputs": [
    {
     "name": "stdout",
     "output_type": "stream",
     "text": [
      "user_models/bin/cd++ -m/tmp/debugging/2019-08-19-235815-fe386166978a46eb8c9de99da03e2e5d/top_model -LXY -t00:10:00:000 -l/tmp/debugging/2019-08-19-235815-fe386166978a46eb8c9de99da03e2e5d/logs -o/tmp/debugging/2019-08-19-235815-fe386166978a46eb8c9de99da03e2e5d/output\n",
      "PCD++: A Tool to Implement n-Dimensional Cell-DEVS models\n",
      "Version 3.0 - March 2003\n",
      "Troccoli A., Rodriguez D., Wainer G., Barylko A., Beyoglonian J., Lopez A.\n",
      "-----------------------------------------------------------------------------\n",
      "PCD++ Extended States: An extended and improved version of CD++ for Cell-DEVS\n",
      "Version 4.1.2 - December 2018\n",
      "Santi L., Castro, R., Pimás, J.\n",
      "-----------------------------------------------------------------------------\n",
      "Discrete Event Simulation Lab\n",
      "Departamento de Computación\n",
      "Facultad de Ciencias Exactas y Naturales\n",
      "Universidad de Buenos Aires, Argentina\n",
      "-----------------------------------------------------------------------------\n",
      "Compiled for standalone simulation\n",
      "\n",
      "\n",
      "Loading models from /tmp/debugging/2019-08-19-235815-fe386166978a46eb8c9de99da03e2e5d/top_model\n",
      "Loading events from \n",
      "Running parallel simulation. Reading models partition from \n",
      "Model partition details output to: /dev/null*\n",
      "Message log: /tmp/debugging/2019-08-19-235815-fe386166978a46eb8c9de99da03e2e5d/logs\n",
      "Output to: /tmp/debugging/2019-08-19-235815-fe386166978a46eb8c9de99da03e2e5d/output\n",
      "Tolerance set to: 1e-08\n",
      "Configuration to show real numbers: Width = 12 - Precision = 5\n",
      "Quantum: Not used\n",
      "Evaluate Debug Mode = OFF\n",
      "Flat Cell Debug Mode = OFF\n",
      "Debug Cell Rules Mode = OFF\n",
      "Temporary File created by Preprocessor = /var/tmp/tmp.0.HQ48mU\n",
      "Printing parser information = OFF\n",
      "\n",
      "Stop at time: 00:10:00:000:0\n",
      "exponentialLambda: 2\n",
      "infectedProbability: 2\n",
      "exponentialLambda: 2\n",
      "infectedProbability: 2\n",
      "exponentialLambda: 2\n",
      "infectedProbability: 2\n",
      "exponentialLambda: 2\n",
      "infectedProbability: 2\n",
      "exponentialLambda: 2\n",
      "infectedProbability: 2\n",
      "exponentialLambda: 2\n",
      "infectedProbability: 2\n",
      "exponentialLambda: 2\n",
      "infectedProbability: 2\n",
      "exponentialLambda: 2\n",
      "infectedProbability: 2\n",
      "exponentialLambda: 2\n",
      "infectedProbability: 2\n",
      "exponentialLambda: 2\n",
      "infectedProbability: 2\n",
      "LP 0: initializing simulation objects\n",
      "LP 0: starting simulation (NoTime).\n",
      "nodo-0 got in infection lottery: 0.0725078\n",
      "nodo-0 is healthy at first\n",
      "nodo-1 got in infection lottery: 0.728903\n",
      "nodo-1 is healthy at first\n",
      "nodo-2 got in infection lottery: 0.259487\n",
      "nodo-2 is healthy at first\n",
      "nodo-3 got in infection lottery: 0.620006\n",
      "nodo-3 is healthy at first\n",
      "nodo-4 got in infection lottery: 0.980526\n",
      "nodo-4 is healthy at first\n",
      "nodo-5 got in infection lottery: 0.426077\n",
      "nodo-5 is healthy at first\n",
      "nodo-6 got in infection lottery: 0.0416937\n",
      "nodo-6 is healthy at first\n",
      "nodo-7 got in infection lottery: 0.65731\n",
      "nodo-7 is healthy at first\n",
      "nodo-8 got in infection lottery: 0.187894\n",
      "nodo-8 is healthy at first\n",
      "nodo-9 got in infection lottery: 0.633446\n",
      "nodo-9 is healthy at first\n",
      "Simulation complete!\n",
      "Simulation ended!\n",
      "LP 0 has finished simulation \n",
      "\n"
     ]
    }
   ],
   "source": [
    "print(\" \".join(results.process_result.args))\n",
    "print(results.process_result.stdout.decode(\"utf-8\"))"
   ]
  },
  {
   "cell_type": "code",
   "execution_count": 93,
   "metadata": {},
   "outputs": [
    {
     "data": {
      "text/html": [
       "<div>\n",
       "<style scoped>\n",
       "    .dataframe tbody tr th:only-of-type {\n",
       "        vertical-align: middle;\n",
       "    }\n",
       "\n",
       "    .dataframe tbody tr th {\n",
       "        vertical-align: top;\n",
       "    }\n",
       "\n",
       "    .dataframe thead th {\n",
       "        text-align: right;\n",
       "    }\n",
       "</style>\n",
       "<table border=\"1\" class=\"dataframe\">\n",
       "  <thead>\n",
       "    <tr style=\"text-align: right;\">\n",
       "      <th></th>\n",
       "      <th>0</th>\n",
       "      <th>1</th>\n",
       "      <th>message_type</th>\n",
       "      <th>time</th>\n",
       "      <th>model_origin</th>\n",
       "      <th>port</th>\n",
       "      <th>value</th>\n",
       "      <th>model_dest</th>\n",
       "    </tr>\n",
       "  </thead>\n",
       "  <tbody>\n",
       "  </tbody>\n",
       "</table>\n",
       "</div>"
      ],
      "text/plain": [
       "Empty DataFrame\n",
       "Columns: [0, 1, message_type, time, model_origin, port, value, model_dest]\n",
       "Index: []"
      ]
     },
     "execution_count": 93,
     "metadata": {},
     "output_type": "execute_result"
    }
   ],
   "source": [
    "results.logs_dfs[\"nodo2\"]"
   ]
  }
 ],
 "metadata": {
  "kernelspec": {
   "display_name": "Python 3",
   "language": "python",
   "name": "python3"
  },
  "language_info": {
   "codemirror_mode": {
    "name": "ipython",
    "version": 3
   },
   "file_extension": ".py",
   "mimetype": "text/x-python",
   "name": "python",
   "nbconvert_exporter": "python",
   "pygments_lexer": "ipython3",
   "version": "3.7.1"
  }
 },
 "nbformat": 4,
 "nbformat_minor": 4
}
