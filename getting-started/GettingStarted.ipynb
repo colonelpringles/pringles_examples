{
 "cells": [
  {
   "cell_type": "markdown",
   "metadata": {},
   "source": [
    "## Getting Started: a simple discrete-time markov chain (DTMC)"
   ]
  },
  {
   "cell_type": "markdown",
   "metadata": {},
   "source": [
    "In this notebook we will show the pringles library basics by using a simple discrete-time markov chain (DTMC) as an example. Don't worry if you don't know what a DTMC is, it's just an example."
   ]
  },
  {
   "cell_type": "markdown",
   "metadata": {},
   "source": [
    "### The C++ part (user_models/ folder)"
   ]
  },
  {
   "cell_type": "code",
   "execution_count": 1,
   "metadata": {},
   "outputs": [
    {
     "name": "stdout",
     "output_type": "stream",
     "text": [
      "DTMC.cpp\n",
      "DTMC.h\n",
      "Makefile\n",
      "reg.cpp\n"
     ]
    }
   ],
   "source": [
    "!ls -1 user_models/"
   ]
  },
  {
   "cell_type": "markdown",
   "metadata": {},
   "source": [
    "The model only has one atomic model called DTMC, defined in *DTMC.h* and *DTMC.cpp* and it is registered for the CD++ simulator in *reg.cpp*.\n",
    "\n",
    "Then we have the *Makefile* that compiles the user model alongside with the simulator.In the first lines, the path of cd++ sourcecode and the path for the executable are declared. "
   ]
  },
  {
   "cell_type": "code",
   "execution_count": 2,
   "metadata": {},
   "outputs": [
    {
     "name": "stdout",
     "output_type": "stream",
     "text": [
      "# Settings\n",
      "CDPP_PATH \t\t = ../../cdpp/src\n",
      "OUT_DIR          = $(shell pwd)/../bin\n",
      "\n",
      "\n",
      "KERNEL_SRC       = $(CDPP_PATH)/cd++\n",
      "OBJ_DIR          = $(OUT_DIR)\n",
      "\n",
      "MODEL_FLAGS      = -DREGISTER_ATOMICS\n",
      "\n"
     ]
    }
   ],
   "source": [
    "!head user_models/Makefile"
   ]
  },
  {
   "cell_type": "markdown",
   "metadata": {},
   "source": [
    "### Instatiate simulator"
   ]
  },
  {
   "cell_type": "code",
   "execution_count": 3,
   "metadata": {},
   "outputs": [],
   "source": [
    "from pringles.simulator import Simulator"
   ]
  },
  {
   "cell_type": "code",
   "execution_count": 4,
   "metadata": {},
   "outputs": [],
   "source": [
    "mySimulator = Simulator(cdpp_bin_path='bin/', user_models_dir='user_models/')"
   ]
  },
  {
   "cell_type": "markdown",
   "metadata": {},
   "source": [
    "When the simulator is instantiated, two things happen:\n",
    "    - It checks that there a *cd++* executable in *cdpp_bin_path*. In our case it will be there after executing make in the user_models/ directory\n",
    "    - It analyses the code in *user_models_dir* searching for the atomic models (by looking at metadata in code comments). They are stored in an AtomicRegistry."
   ]
  },
  {
   "cell_type": "code",
   "execution_count": 5,
   "metadata": {},
   "outputs": [
    {
     "name": "stdout",
     "output_type": "stream",
     "text": [
      "#define ATOMIC_MODEL_NAME \"DTMC\"\n",
      "\n",
      "class DTMC : public Atomic {\n",
      "/*\n",
      "@ModelMetadata\n",
      "name: DTMC\n",
      "output_ports: currentState_o\n",
      "*/\n",
      "\n",
      "  public:\n",
      "    DTMC(const string &name = ATOMIC_MODEL_NAME );\n",
      "    virtual string className() const {return ATOMIC_MODEL_NAME;}\n"
     ]
    }
   ],
   "source": [
    "!tail --line=+9 user_models/DTMC.h | head -n 12"
   ]
  },
  {
   "cell_type": "markdown",
   "metadata": {},
   "source": [
    "**With the comment starting with @ModelMetadata is parsed and the atomic class is automaticaly created in python**"
   ]
  },
  {
   "cell_type": "code",
   "execution_count": 6,
   "metadata": {},
   "outputs": [
    {
     "name": "stdout",
     "output_type": "stream",
     "text": [
      "[<class 'pringles.models.models.DTMC'>]\n"
     ]
    }
   ],
   "source": [
    "print(mySimulator.atomic_registry.discovered_atomics)"
   ]
  },
  {
   "cell_type": "code",
   "execution_count": 7,
   "metadata": {},
   "outputs": [
    {
     "name": "stdout",
     "output_type": "stream",
     "text": [
      "<class 'pringles.models.models.DTMC'>\n"
     ]
    }
   ],
   "source": [
    "DTMC = mySimulator.atomic_registry.discovered_atomics[0]\n",
    "print(DTMC)"
   ]
  },
  {
   "cell_type": "markdown",
   "metadata": {},
   "source": [
    "### Creating the top model in python (equivalent to the static .ma file)"
   ]
  },
  {
   "cell_type": "code",
   "execution_count": 8,
   "metadata": {},
   "outputs": [],
   "source": [
    "from pringles.models import Coupled "
   ]
  },
  {
   "cell_type": "markdown",
   "metadata": {},
   "source": [
    "When instantiating an atomic, the model parameters are passed as keyword arguments. In this case we have the parameters **r**, **s**, **N** and **initial**."
   ]
  },
  {
   "cell_type": "code",
   "execution_count": 9,
   "metadata": {},
   "outputs": [
    {
     "name": "stdout",
     "output_type": "stream",
     "text": [
      "The instance already has an outport, becuase it was read from the metadata.\n",
      "Number of outports: 1\n",
      "Number of inports: 0\n",
      "Outport name:  currentState_o\n"
     ]
    }
   ],
   "source": [
    "a_DTMC = DTMC(\"a_DTMC\", r=0.5, s=0.5, N=20, initial=10)\n",
    "print(\"The instance already has an outport, becuase it was read from the metadata.\")\n",
    "print(\"Number of outports:\", len(a_DTMC.outports))\n",
    "print(\"Number of inports:\", len(a_DTMC.inports))\n",
    "print(\"Outport name: \", a_DTMC.outports[0].name)"
   ]
  },
  {
   "cell_type": "code",
   "execution_count": 21,
   "metadata": {},
   "outputs": [
    {
     "data": {
      "text/html": [
       "<div id=\"3e5cda5cee594822ae5ae7cd579fde78\" class=\"devs_diagrammer_wrapper\">\n",
       "\n",
       "  <link rel=\"stylesheet\" href=\"http://localhost:59075/_static/css/style.css\" />\n",
       "\n",
       "  <script src=\"http://localhost:59075/_static/vendors/js/createjs/createjs-2013.12.12.min.js\"></script>\n",
       "  <script src=\"http://localhost:59075/_static/vendors/js/jquery-3.2.1/jquery-3.2.1.min.js\"></script>\n",
       "  <script src=\"http://localhost:59075/_static/js/ColorCodes.js\"></script>\n",
       "  <script src=\"http://localhost:59075/_static/js/main.js\"></script>\n",
       "  <script src=\"http://localhost:59075/_static/js/manifest.js\"></script>\n",
       "  <script src=\"http://localhost:59075/_static/js/toposort.js\"></script>\n",
       "  <script src=\"http://localhost:59075/_static/js/Square.js\"></script>\n",
       "  <script src=\"http://localhost:59075/_static/js/Port.js\"></script>\n",
       "  <script src=\"http://localhost:59075/_static/js/Link.js\"></script>\n",
       "  <script src=\"http://localhost:59075/_static/js/JSONModelGraphics.js\"></script>\n",
       "  <script src=\"http://localhost:59075/_static/js/Model.js\"></script>\n",
       "  <script src=\"http://localhost:59075/_static/js/Canvas.js\"></script>\n",
       " \n",
       "  <script type=\"text/javascript\">\n",
       "    $(document).ready(function () {\n",
       "      console.info(\"About to start drawing model\");\n",
       "      menu_init();\n",
       "      addCanvasFromJson('{\"id\": \"top\", \"type\": \"coupled\", \"models\": [{\"id\": \"a_DTMC\", \"type\": \"atomic\", \"ports\": {\"out\": [{\"name\": \"currentState_o\", \"message_type\": \"Any\", \"kind\": \"out\"}], \"in\": []}}], \"ports\": {\"out\": [{\"name\": \"out_port\", \"message_type\": \"Any\", \"kind\": \"out\"}], \"in\": []}, \"eoc\": [{\"to_port\": \"out_port\", \"from_port\": \"currentState_o\", \"from_model\": \"a_DTMC\"}], \"eic\": [], \"ic\": []}', '3e5cda5cee594822ae5ae7cd579fde78');\n",
       "    });\n",
       "  </script>\n",
       "\n",
       "  <!-- hiden button for export JSON -->\n",
       "  <a id=\"download\" style=\"display:none\"></a>\n",
       "  <!-- hiden button for export JSON -->\n",
       "  <div id=\"devs_diagrammer\">\n",
       "    <div id='body-wrapper'>\n",
       "      <div id=\"models-wrapper\"></div>\n",
       "      <div id=\"menu-wrapper\">\n",
       "        <button id=\"expand_in_new_canvas_selected\" class=\"action bp3-button bp3-minimal\" type=\"button\">Expand in new canvas</button>\n",
       "        <button class=\"action bp3-button bp3-minimal\" type=\"button\" onclick=\"remove_selected_top_models();\">Remove model</button>\n",
       "        <button class=\"action bp3-button bp3-minimal\" type=\"button\" onclick=\"toggle_models_selected();\">Expand / Contract</button>\n",
       "        <button class=\"action bp3-button bp3-minimal\" type=\"button\" onclick=\"toggle_links_selected();\">Show / Hide all links</button>\n",
       "        <button class=\"action bp3-button bp3-minimal\" type=\"button\" onclick=\"show_submodel_links_selected();\">Show / Hide model links</button>\n",
       "        <button class=\"action bp3-button bp3-minimal\" type=\"button\" onclick=\"toggle_port_name_selected();\">Show / Hide port names</button>\n",
       "      </div>\n",
       "    </div>\n",
       "  </div>\n",
       "</div>"
      ],
      "text/plain": [
       "<pringles.models.models.Coupled at 0x7fd3c8837be0>"
      ]
     },
     "execution_count": 21,
     "metadata": {},
     "output_type": "execute_result"
    }
   ],
   "source": [
    "top_model = (Coupled(name='top', subcomponents=[a_DTMC])\n",
    "                .add_outport(\"out_port\")\n",
    "                .add_coupling(a_DTMC.get_port('currentState_o'), \"out_port\")\n",
    "            )\n",
    "top_model"
   ]
  },
  {
   "cell_type": "markdown",
   "metadata": {},
   "source": [
    "### Simulate the model"
   ]
  },
  {
   "cell_type": "code",
   "execution_count": 22,
   "metadata": {},
   "outputs": [],
   "source": [
    "from pringles.simulator import Simulation\n",
    "from pringles.utils import VirtualTime"
   ]
  },
  {
   "cell_type": "code",
   "execution_count": 31,
   "metadata": {},
   "outputs": [],
   "source": [
    "a_simulation = Simulation(top_model = top_model, duration = VirtualTime.of_hours(1))\n",
    "\n",
    "# Executes the actual simulation\n",
    "results = mySimulator.run_simulation(a_simulation)"
   ]
  },
  {
   "cell_type": "code",
   "execution_count": 32,
   "metadata": {},
   "outputs": [
    {
     "data": {
      "text/html": [
       "<div>\n",
       "<style scoped>\n",
       "    .dataframe tbody tr th:only-of-type {\n",
       "        vertical-align: middle;\n",
       "    }\n",
       "\n",
       "    .dataframe tbody tr th {\n",
       "        vertical-align: top;\n",
       "    }\n",
       "\n",
       "    .dataframe thead th {\n",
       "        text-align: right;\n",
       "    }\n",
       "</style>\n",
       "<table border=\"1\" class=\"dataframe\">\n",
       "  <thead>\n",
       "    <tr style=\"text-align: right;\">\n",
       "      <th></th>\n",
       "      <th>time</th>\n",
       "      <th>port</th>\n",
       "      <th>value</th>\n",
       "    </tr>\n",
       "  </thead>\n",
       "  <tbody>\n",
       "    <tr>\n",
       "      <th>0</th>\n",
       "      <td>00:00:01:000</td>\n",
       "      <td>out_port</td>\n",
       "      <td>(10.0, 1.0, 1.0)</td>\n",
       "    </tr>\n",
       "    <tr>\n",
       "      <th>1</th>\n",
       "      <td>00:00:02:000</td>\n",
       "      <td>out_port</td>\n",
       "      <td>(11.0, 1.0, 2.0)</td>\n",
       "    </tr>\n",
       "    <tr>\n",
       "      <th>2</th>\n",
       "      <td>00:00:03:000</td>\n",
       "      <td>out_port</td>\n",
       "      <td>(10.0, 2.0, 3.0)</td>\n",
       "    </tr>\n",
       "    <tr>\n",
       "      <th>3</th>\n",
       "      <td>00:00:04:000</td>\n",
       "      <td>out_port</td>\n",
       "      <td>(9.0, 1.0, 4.0)</td>\n",
       "    </tr>\n",
       "    <tr>\n",
       "      <th>4</th>\n",
       "      <td>00:00:05:000</td>\n",
       "      <td>out_port</td>\n",
       "      <td>(10.0, 3.0, 5.0)</td>\n",
       "    </tr>\n",
       "    <tr>\n",
       "      <th>5</th>\n",
       "      <td>00:00:06:000</td>\n",
       "      <td>out_port</td>\n",
       "      <td>(11.0, 2.0, 6.0)</td>\n",
       "    </tr>\n",
       "    <tr>\n",
       "      <th>6</th>\n",
       "      <td>00:00:07:000</td>\n",
       "      <td>out_port</td>\n",
       "      <td>(10.0, 4.0, 7.0)</td>\n",
       "    </tr>\n",
       "    <tr>\n",
       "      <th>7</th>\n",
       "      <td>00:00:08:000</td>\n",
       "      <td>out_port</td>\n",
       "      <td>(9.0, 2.0, 8.0)</td>\n",
       "    </tr>\n",
       "    <tr>\n",
       "      <th>8</th>\n",
       "      <td>00:00:09:000</td>\n",
       "      <td>out_port</td>\n",
       "      <td>(8.0, 1.0, 9.0)</td>\n",
       "    </tr>\n",
       "    <tr>\n",
       "      <th>9</th>\n",
       "      <td>00:00:10:000</td>\n",
       "      <td>out_port</td>\n",
       "      <td>(9.0, 3.0, 10.0)</td>\n",
       "    </tr>\n",
       "  </tbody>\n",
       "</table>\n",
       "</div>"
      ],
      "text/plain": [
       "           time      port             value\n",
       "0  00:00:01:000  out_port  (10.0, 1.0, 1.0)\n",
       "1  00:00:02:000  out_port  (11.0, 1.0, 2.0)\n",
       "2  00:00:03:000  out_port  (10.0, 2.0, 3.0)\n",
       "3  00:00:04:000  out_port   (9.0, 1.0, 4.0)\n",
       "4  00:00:05:000  out_port  (10.0, 3.0, 5.0)\n",
       "5  00:00:06:000  out_port  (11.0, 2.0, 6.0)\n",
       "6  00:00:07:000  out_port  (10.0, 4.0, 7.0)\n",
       "7  00:00:08:000  out_port   (9.0, 2.0, 8.0)\n",
       "8  00:00:09:000  out_port   (8.0, 1.0, 9.0)\n",
       "9  00:00:10:000  out_port  (9.0, 3.0, 10.0)"
      ]
     },
     "metadata": {},
     "output_type": "display_data"
    }
   ],
   "source": [
    "display(results.output_df.head(10))"
   ]
  },
  {
   "cell_type": "code",
   "execution_count": 41,
   "metadata": {},
   "outputs": [
    {
     "name": "stdout",
     "output_type": "stream",
     "text": [
      "dict_keys(['ParallelRoot', 'top', 'a_dtmc']) \n",
      "\n",
      "\n"
     ]
    },
    {
     "data": {
      "text/html": [
       "<div>\n",
       "<style scoped>\n",
       "    .dataframe tbody tr th:only-of-type {\n",
       "        vertical-align: middle;\n",
       "    }\n",
       "\n",
       "    .dataframe tbody tr th {\n",
       "        vertical-align: top;\n",
       "    }\n",
       "\n",
       "    .dataframe thead th {\n",
       "        text-align: right;\n",
       "    }\n",
       "</style>\n",
       "<table border=\"1\" class=\"dataframe\">\n",
       "  <thead>\n",
       "    <tr style=\"text-align: right;\">\n",
       "      <th></th>\n",
       "      <th>0</th>\n",
       "      <th>1</th>\n",
       "      <th>message_type</th>\n",
       "      <th>time</th>\n",
       "      <th>model_origin</th>\n",
       "      <th>port</th>\n",
       "      <th>value</th>\n",
       "      <th>model_dest</th>\n",
       "    </tr>\n",
       "  </thead>\n",
       "  <tbody>\n",
       "    <tr>\n",
       "      <th>0</th>\n",
       "      <td>0</td>\n",
       "      <td>L</td>\n",
       "      <td>Y</td>\n",
       "      <td>00:00:01:000</td>\n",
       "      <td>top(02)</td>\n",
       "      <td>out_port</td>\n",
       "      <td>(10.0, 1.0, 1.0)</td>\n",
       "      <td>ParallelRoot(00)</td>\n",
       "    </tr>\n",
       "    <tr>\n",
       "      <th>1</th>\n",
       "      <td>0</td>\n",
       "      <td>L</td>\n",
       "      <td>Y</td>\n",
       "      <td>00:00:02:000</td>\n",
       "      <td>top(02)</td>\n",
       "      <td>out_port</td>\n",
       "      <td>(11.0, 1.0, 2.0)</td>\n",
       "      <td>ParallelRoot(00)</td>\n",
       "    </tr>\n",
       "    <tr>\n",
       "      <th>2</th>\n",
       "      <td>0</td>\n",
       "      <td>L</td>\n",
       "      <td>Y</td>\n",
       "      <td>00:00:03:000</td>\n",
       "      <td>top(02)</td>\n",
       "      <td>out_port</td>\n",
       "      <td>(10.0, 2.0, 3.0)</td>\n",
       "      <td>ParallelRoot(00)</td>\n",
       "    </tr>\n",
       "    <tr>\n",
       "      <th>3</th>\n",
       "      <td>0</td>\n",
       "      <td>L</td>\n",
       "      <td>Y</td>\n",
       "      <td>00:00:04:000</td>\n",
       "      <td>top(02)</td>\n",
       "      <td>out_port</td>\n",
       "      <td>(9.0, 1.0, 4.0)</td>\n",
       "      <td>ParallelRoot(00)</td>\n",
       "    </tr>\n",
       "    <tr>\n",
       "      <th>4</th>\n",
       "      <td>0</td>\n",
       "      <td>L</td>\n",
       "      <td>Y</td>\n",
       "      <td>00:00:05:000</td>\n",
       "      <td>top(02)</td>\n",
       "      <td>out_port</td>\n",
       "      <td>(10.0, 3.0, 5.0)</td>\n",
       "      <td>ParallelRoot(00)</td>\n",
       "    </tr>\n",
       "    <tr>\n",
       "      <th>5</th>\n",
       "      <td>0</td>\n",
       "      <td>L</td>\n",
       "      <td>Y</td>\n",
       "      <td>00:00:06:000</td>\n",
       "      <td>top(02)</td>\n",
       "      <td>out_port</td>\n",
       "      <td>(11.0, 2.0, 6.0)</td>\n",
       "      <td>ParallelRoot(00)</td>\n",
       "    </tr>\n",
       "    <tr>\n",
       "      <th>6</th>\n",
       "      <td>0</td>\n",
       "      <td>L</td>\n",
       "      <td>Y</td>\n",
       "      <td>00:00:07:000</td>\n",
       "      <td>top(02)</td>\n",
       "      <td>out_port</td>\n",
       "      <td>(10.0, 4.0, 7.0)</td>\n",
       "      <td>ParallelRoot(00)</td>\n",
       "    </tr>\n",
       "    <tr>\n",
       "      <th>7</th>\n",
       "      <td>0</td>\n",
       "      <td>L</td>\n",
       "      <td>Y</td>\n",
       "      <td>00:00:08:000</td>\n",
       "      <td>top(02)</td>\n",
       "      <td>out_port</td>\n",
       "      <td>(9.0, 2.0, 8.0)</td>\n",
       "      <td>ParallelRoot(00)</td>\n",
       "    </tr>\n",
       "    <tr>\n",
       "      <th>8</th>\n",
       "      <td>0</td>\n",
       "      <td>L</td>\n",
       "      <td>Y</td>\n",
       "      <td>00:00:09:000</td>\n",
       "      <td>top(02)</td>\n",
       "      <td>out_port</td>\n",
       "      <td>(8.0, 1.0, 9.0)</td>\n",
       "      <td>ParallelRoot(00)</td>\n",
       "    </tr>\n",
       "    <tr>\n",
       "      <th>9</th>\n",
       "      <td>0</td>\n",
       "      <td>L</td>\n",
       "      <td>Y</td>\n",
       "      <td>00:00:10:000</td>\n",
       "      <td>top(02)</td>\n",
       "      <td>out_port</td>\n",
       "      <td>(9.0, 3.0, 10.0)</td>\n",
       "      <td>ParallelRoot(00)</td>\n",
       "    </tr>\n",
       "  </tbody>\n",
       "</table>\n",
       "</div>"
      ],
      "text/plain": [
       "   0  1 message_type          time model_origin      port             value  \\\n",
       "0  0  L            Y  00:00:01:000      top(02)  out_port  (10.0, 1.0, 1.0)   \n",
       "1  0  L            Y  00:00:02:000      top(02)  out_port  (11.0, 1.0, 2.0)   \n",
       "2  0  L            Y  00:00:03:000      top(02)  out_port  (10.0, 2.0, 3.0)   \n",
       "3  0  L            Y  00:00:04:000      top(02)  out_port   (9.0, 1.0, 4.0)   \n",
       "4  0  L            Y  00:00:05:000      top(02)  out_port  (10.0, 3.0, 5.0)   \n",
       "5  0  L            Y  00:00:06:000      top(02)  out_port  (11.0, 2.0, 6.0)   \n",
       "6  0  L            Y  00:00:07:000      top(02)  out_port  (10.0, 4.0, 7.0)   \n",
       "7  0  L            Y  00:00:08:000      top(02)  out_port   (9.0, 2.0, 8.0)   \n",
       "8  0  L            Y  00:00:09:000      top(02)  out_port   (8.0, 1.0, 9.0)   \n",
       "9  0  L            Y  00:00:10:000      top(02)  out_port  (9.0, 3.0, 10.0)   \n",
       "\n",
       "         model_dest  \n",
       "0  ParallelRoot(00)  \n",
       "1  ParallelRoot(00)  \n",
       "2  ParallelRoot(00)  \n",
       "3  ParallelRoot(00)  \n",
       "4  ParallelRoot(00)  \n",
       "5  ParallelRoot(00)  \n",
       "6  ParallelRoot(00)  \n",
       "7  ParallelRoot(00)  \n",
       "8  ParallelRoot(00)  \n",
       "9  ParallelRoot(00)  "
      ]
     },
     "metadata": {},
     "output_type": "display_data"
    }
   ],
   "source": [
    "print(results.logs_dfs.keys(),'\\n\\n')\n",
    "display(results.logs_dfs['ParallelRoot'].head(10))"
   ]
  },
  {
   "cell_type": "code",
   "execution_count": 54,
   "metadata": {},
   "outputs": [
    {
     "data": {
      "text/plain": [
       "<matplotlib.axes._subplots.AxesSubplot at 0x7fd391896908>"
      ]
     },
     "execution_count": 54,
     "metadata": {},
     "output_type": "execute_result"
    },
    {
     "data": {
      "image/png": "[encoded data removed]",
      "text/plain": [
       "<Figure size 1440x720 with 3 Axes>"
      ]
     },
     "metadata": {
      "needs_background": "light"
     },
     "output_type": "display_data"
    }
   ],
   "source": [
    "import matplotlib.pyplot as plt\n",
    "\n",
    "fig, axes = plt.subplots(1, 3, figsize=(20, 10))\n",
    "results.plot_port('ParallelRoot', 'out_port', axes=axes[0], index=0)\n",
    "results.plot_port('ParallelRoot', 'out_port', axes=axes[1], index=1)\n",
    "results.plot_port('ParallelRoot', 'out_port', axes=axes[2], index=2)"
   ]
  }
 ],
 "metadata": {
  "kernelspec": {
   "display_name": "Python 3",
   "language": "python",
   "name": "python3"
  },
  "language_info": {
   "codemirror_mode": {
    "name": "ipython",
    "version": 3
   },
   "file_extension": ".py",
   "mimetype": "text/x-python",
   "name": "python",
   "nbconvert_exporter": "python",
   "pygments_lexer": "ipython3",
   "version": "3.7.3"
  }
 },
 "nbformat": 4,
 "nbformat_minor": 4
}
